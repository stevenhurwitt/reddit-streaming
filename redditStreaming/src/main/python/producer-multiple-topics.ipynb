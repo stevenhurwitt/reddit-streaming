{
 "cells": [
  {
   "cell_type": "markdown",
   "metadata": {},
   "source": [
    "# Producer multiple topics"
   ]
  },
  {
   "cell_type": "code",
   "execution_count": 16,
   "metadata": {},
   "outputs": [
    {
     "name": "stdout",
     "output_type": "stream",
     "text": [
      "imported modules\n"
     ]
    }
   ],
   "source": [
    "from kafka import KafkaProducer\n",
    "from kafka.admin import KafkaAdminClient, NewTopic\n",
    "import datetime as dt\n",
    "import pprint\n",
    "import kafka\n",
    "import time\n",
    "import json\n",
    "import os\n",
    "\n",
    "# creds, config = read_files()\n",
    "# subreddit = config[\"subreddit\"]\n",
    "# post_type = config[\"post_type\"]\n",
    "# debug = config[\"debug\"]\n",
    "# kafka_host = config[\"kafka_host\"]\n",
    "# spark_host = config[\"spark_host\"]\n",
    "# aws_client = creds[\"aws-client\"]\n",
    "# aws_secret = creds[\"aws-secret\"]\n",
    "try:\n",
    "    from reddit.reddit_producer import *\n",
    "    from reddit.reddit_streaming import read_files\n",
    "\n",
    "except Exception as e:\n",
    "    print(e)\n",
    "\n",
    "print(\"imported modules\")"
   ]
  },
  {
   "cell_type": "code",
   "execution_count": 17,
   "metadata": {},
   "outputs": [
    {
     "name": "stdout",
     "output_type": "stream",
     "text": [
      "set environment variables.\n"
     ]
    }
   ],
   "source": [
    "os.environ[\"subreddit\"] = \"AsiansGoneWild\"\n",
    "os.environ[\"AWS_ACCESS_KEY_ID\"] = \"\"\n",
    "os.environ[\"AWS_SECRET_ACCESS_KEY\"] = \"\"\n",
    "print(\"set environment variables.\")"
   ]
  },
  {
   "cell_type": "code",
   "execution_count": 18,
   "metadata": {},
   "outputs": [
    {
     "name": "stdout",
     "output_type": "stream",
     "text": [
      "imported variables from os environment.\n"
     ]
    }
   ],
   "source": [
    "subreddit = os.environ[\"subreddit\"]\n",
    "aws_key = os.environ[\"AWS_ACCESS_KEY_ID\"]\n",
    "aws_secret = os.environ[\"AWS_SECRET_ACCESS_KEY\"]\n",
    "print(\"imported variables from os environment.\")"
   ]
  },
  {
   "cell_type": "code",
   "execution_count": 19,
   "metadata": {},
   "outputs": [
    {
     "name": "stdout",
     "output_type": "stream",
     "text": [
      "{'topic': ['reddit_AsiansGoneWild']}\n"
     ]
    }
   ],
   "source": [
    "params = {}\n",
    "params[\"topic\"] = [\"reddit_{}\".format(subreddit)]\n",
    "pp.pprint(params)"
   ]
  },
  {
   "cell_type": "markdown",
   "metadata": {},
   "source": [
    "## Connect to kafka broker"
   ]
  },
  {
   "cell_type": "code",
   "execution_count": 20,
   "metadata": {},
   "outputs": [],
   "source": [
    "def get_bearer():\n",
    "    return(None)\n",
    "\n",
    "def my_serializer():\n",
    "    return(None)"
   ]
  },
  {
   "cell_type": "code",
   "execution_count": 21,
   "metadata": {},
   "outputs": [
    {
     "name": "stdout",
     "output_type": "stream",
     "text": [
      "no kafka broker available (error likely to repeat infinitely until resolved)\n"
     ]
    }
   ],
   "source": [
    "try:\n",
    "    kafka_host = \"xanaxprincess.asuscomm.com\"\n",
    "    broker = [\"{}:9092\".format(kafka_host)]\n",
    "    # topic = \"reddit_\" + subreddit\n",
    "\n",
    "    producer = KafkaProducer(\n",
    "                bootstrap_servers=broker,\n",
    "                value_serializer=my_serializer\n",
    "            )\n",
    "    \n",
    "except kafka.errors.NoBrokersAvailable:\n",
    "    print(\"no kafka broker available (error likely to repeat infinitely until resolved)\")\n",
    "\n",
    "header = get_bearer()"
   ]
  },
  {
   "cell_type": "markdown",
   "metadata": {},
   "source": [
    "## Initial read from api and send to kafka"
   ]
  },
  {
   "cell_type": "code",
   "execution_count": 25,
   "metadata": {},
   "outputs": [
    {
     "name": "stdout",
     "output_type": "stream",
     "text": [
      "subreddit: technology, post datetime: 2022-06-16 22:26:07, post title: The Privatized Internet Has Failed Us: The early promises about the utopia that the internet would bring us have proven wrong. The internet can never deliver on all it’s capable of when it’s run for profit — we need a publicly owned internet.\n",
      "subreddit: ProgrammerHumor, post datetime: 2022-06-16 22:02:26, post title: Based on a true story\n",
      "subreddit: news, post datetime: 2022-06-16 22:11:46, post title: Anti-vaccine doctor sentenced to prison for Capitol riot\n",
      "subreddit: worldnews, post datetime: 2022-06-16 22:10:34, post title: Russia needs economic 'perestroika' to end reliance on energy exports - cenbank chief\n"
     ]
    }
   ],
   "source": [
    "token_list = []\n",
    "\n",
    "for i, s in enumerate(subreddit):\n",
    "    my_response = get_subreddit(s, 1, post_type, \"\", header)\n",
    "    my_data, after_token = subset_response(my_response)\n",
    "    token_list.append(after_token)\n",
    "    # with open(\"sample_response.json\", \"w\") as f:\n",
    "    #     json.dump(my_data, f, indent = 1)\n",
    "\n",
    "    if after_token is not None:\n",
    "        producer.send(params[\"topic\"][i], my_data)\n",
    "\n",
    "    if debug:\n",
    "        print(\"subreddit: {}, post datetime: {}, post title: {}\".format(s, dt.datetime.fromtimestamp(my_data[\"created\"]), my_data[\"title\"]))\n",
    "\n",
    "params[\"token\"] = token_list\n",
    "print(\"-------------------------------------------\")\n",
    "        "
   ]
  },
  {
   "cell_type": "code",
   "execution_count": 26,
   "metadata": {},
   "outputs": [
    {
     "name": "stdout",
     "output_type": "stream",
     "text": [
      "['t3_vdxpv7', 't3_vdx7ra', 't3_vdxesk', 't3_vdxdwd']\n"
     ]
    }
   ],
   "source": [
    "pp.pprint(params[\"token\"])"
   ]
  },
  {
   "cell_type": "code",
   "execution_count": 27,
   "metadata": {},
   "outputs": [
    {
     "name": "stdout",
     "output_type": "stream",
     "text": [
      "no more data for subreddit: technology.\n",
      "no more data for subreddit: ProgrammerHumor.\n",
      "no more data for subreddit: news.\n",
      "no more data for subreddit: worldnews.\n",
      "no more data for subreddit: technology.\n",
      "no more data for subreddit: ProgrammerHumor.\n",
      "no more data for subreddit: news.\n",
      "no more data for subreddit: worldnews.\n"
     ]
    },
    {
     "ename": "KeyboardInterrupt",
     "evalue": "",
     "output_type": "error",
     "traceback": [
      "\u001b[0;31m---------------------------------------------------------------------------\u001b[0m",
      "\u001b[0;31mKeyboardInterrupt\u001b[0m                         Traceback (most recent call last)",
      "\u001b[0;32m/tmp/ipykernel_1294/1754677488.py\u001b[0m in \u001b[0;36m<module>\u001b[0;34m\u001b[0m\n\u001b[1;32m     56\u001b[0m     \u001b[0mparams\u001b[0m\u001b[0;34m[\u001b[0m\u001b[0;34m\"token\"\u001b[0m\u001b[0;34m]\u001b[0m \u001b[0;34m=\u001b[0m \u001b[0mtoken_list\u001b[0m\u001b[0;34m\u001b[0m\u001b[0;34m\u001b[0m\u001b[0m\n\u001b[1;32m     57\u001b[0m \u001b[0;34m\u001b[0m\u001b[0m\n\u001b[0;32m---> 58\u001b[0;31m     \u001b[0mtime\u001b[0m\u001b[0;34m.\u001b[0m\u001b[0msleep\u001b[0m\u001b[0;34m(\u001b[0m\u001b[0;36m120\u001b[0m\u001b[0;34m)\u001b[0m\u001b[0;34m\u001b[0m\u001b[0;34m\u001b[0m\u001b[0m\n\u001b[0m",
      "\u001b[0;31mKeyboardInterrupt\u001b[0m: "
     ]
    }
   ],
   "source": [
    "while True:\n",
    "    token_list = []\n",
    "    for i, s in enumerate(subreddit):\n",
    "        after_token = params[\"token\"][i]\n",
    "        try:\n",
    "            next_response = get_subreddit(s, 1, post_type, after_token, header)\n",
    "            my_data, after_token = subset_response(next_response)\n",
    "            token_list.append(after_token)\n",
    "\n",
    "            ## weird bug where it hits the api too fast(?) and no after token is returned\n",
    "            ## this passes None, which gives the current post & correct access token\n",
    "            if after_token is not None:\n",
    "                producer.send(params[\"topic\"][i], my_data)\n",
    "\n",
    "                if debug:\n",
    "                    print(\"subreddit: {}, post datetime: {}, post title: {}\".format(s, dt.datetime.fromtimestamp(my_data[\"created\"]), my_data[\"title\"]))\n",
    "                \n",
    "            time.sleep(1)\n",
    "\n",
    "        except json.decoder.JSONDecodeError:\n",
    "            # when the bearer token expires (after 24 hrs), we do not receive a response\n",
    "            print(\"bearer token expired, reauthenticating...\")\n",
    "            header = get_bearer()\n",
    "\n",
    "            next_response = get_subreddit(s, 1, post_type, after_token, header)\n",
    "            my_data, after_token = subset_response(next_response)\n",
    "            token_list.append(after_token)\n",
    "\n",
    "            if after_token is not None:\n",
    "                producer.send(params[\"topic\"][i], my_data)\n",
    "\n",
    "                if debug:\n",
    "                    print(\"subreddit: {}, post datetime: {}, post title: {}\".format(s, dt.datetime.fromtimestamp(my_data[\"created\"]), my_data[\"title\"]))\n",
    "\n",
    "            time.sleep(1)\n",
    "            pass\n",
    "\n",
    "        except IndexError:\n",
    "            # this means empty response is returned, take a nap\n",
    "            # time.sleep(120)\n",
    "            print(\"no more data for subreddit: {}.\".format(s))\n",
    "            token_list.append(params[\"token\"][i])\n",
    "            pass\n",
    "\n",
    "        except Exception as e:\n",
    "            # catch all for api exceptions (SSL errors, ConnectionError, etc)\n",
    "            print(e)\n",
    "            token_list.append(params[\"token\"][i])\n",
    "            pass\n",
    "            # time.sleep(150)\n",
    "\n",
    "    params[\"token\"] = token_list\n",
    "    print(\"-------------------------------------------\")\n",
    "    time.sleep(120)"
   ]
  },
  {
   "cell_type": "code",
   "execution_count": null,
   "metadata": {},
   "outputs": [],
   "source": []
  }
 ],
 "metadata": {
  "kernelspec": {
   "display_name": "Python 3.7.13 ('reddit')",
   "language": "python",
   "name": "python3"
  },
  "language_info": {
   "codemirror_mode": {
    "name": "ipython",
    "version": 3
   },
   "file_extension": ".py",
   "mimetype": "text/x-python",
   "name": "python",
   "nbconvert_exporter": "python",
   "pygments_lexer": "ipython3",
   "version": "3.7.13"
  },
  "orig_nbformat": 4,
  "vscode": {
   "interpreter": {
    "hash": "91f72a1c09a37fdbbb9bf3ac8491d44d55a3dd4195f2fe2f9a936a0d0a175abc"
   }
  }
 },
 "nbformat": 4,
 "nbformat_minor": 2
}
