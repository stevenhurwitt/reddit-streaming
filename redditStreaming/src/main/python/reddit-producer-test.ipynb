{
 "cells": [
  {
   "cell_type": "markdown",
   "metadata": {},
   "source": [
    "# Kafka Producer test"
   ]
  },
  {
   "cell_type": "code",
   "execution_count": 1,
   "metadata": {},
   "outputs": [
    {
     "name": "stdout",
     "output_type": "stream",
     "text": [
      "imported modules\n"
     ]
    }
   ],
   "source": [
    "from kafka import KafkaProducer\n",
    "from reddit.reddit_producer import *\n",
    "import datetime as dt\n",
    "import pprint\n",
    "import time\n",
    "import json\n",
    "import os\n",
    "\n",
    "print(\"imported modules\")"
   ]
  },
  {
   "cell_type": "markdown",
   "metadata": {},
   "source": [
    "## Poll reddit api and push to kafka"
   ]
  },
  {
   "cell_type": "code",
   "execution_count": 2,
   "metadata": {},
   "outputs": [
    {
     "name": "stdout",
     "output_type": "stream",
     "text": [
      "t3_uju836\n",
      "post datetime: 2022-05-06 18:42:35, post title: Mars Colonies Will Need Solar Power—and Nuclear Too - A new study shows how future inhabitants of the Red Planet could run on either energy source, depending on where they set up camp.\n",
      "after token: None\n",
      "post datetime: 2022-05-06 19:32:37, post title: Intel Completely Forgets Delivering Updated GPU Driver For Their Upcoming Arc Video Cards\n",
      "SSLError(MaxRetryError(\"HTTPSConnectionPool(host='oauth.reddit.com', port=443): Max retries exceeded with url: /r/technology/new?limit=1&before=None (Caused by SSLError(SSLEOFError(8, 'EOF occurred in violation of protocol (_ssl.c:1123)')))\"))\n",
      "'NoneType' object is not subscriptable\n",
      "after token: t3_ujvazw\n",
      "post datetime: 2022-05-06 19:32:37, post title: Intel Completely Forgets Delivering Updated GPU Driver For Their Upcoming Arc Video Cards\n",
      "after token: None\n",
      "post datetime: 2022-05-06 19:58:32, post title: Apple, Google, and Microsoft team up for new password-free technology\n",
      "after token: t3_ujvuzq\n",
      "post datetime: 2022-05-06 19:58:32, post title: Apple, Google, and Microsoft team up for new password-free technology\n",
      "after token: None\n",
      "post datetime: 2022-05-06 20:01:10, post title: Researchers Find Apple Silicon Vulnerability, Similar to 'Spectre' and 'Meltdown'\n",
      "after token: t3_ujvx9c\n",
      "post datetime: 2022-05-06 20:01:10, post title: Researchers Find Apple Silicon Vulnerability, Similar to 'Spectre' and 'Meltdown'\n",
      "after token: None\n",
      "post datetime: 2022-05-06 20:56:32, post title: Google Docs crashes on seeing \"And. And. And. And. And.\"\n",
      "after token: t3_ujx4h7\n",
      "post datetime: 2022-05-06 20:56:32, post title: Google Docs crashes on seeing \"And. And. And. And. And.\"\n",
      "after token: None\n",
      "post datetime: 2022-05-06 21:02:25, post title: China Orders Government, State Firms to Dump Foreign PCs\n",
      "after token: t3_ujx98q\n",
      "post datetime: 2022-05-06 21:02:25, post title: China Orders Government, State Firms to Dump Foreign PCs\n"
     ]
    },
    {
     "ename": "KeyboardInterrupt",
     "evalue": "",
     "output_type": "error",
     "traceback": [
      "\u001b[0;31m---------------------------------------------------------------------------\u001b[0m",
      "\u001b[0;31mIndexError\u001b[0m                                Traceback (most recent call last)",
      "File \u001b[0;32m/opt/workspace/redditStreaming/src/main/python/reddit/reddit_producer.py:160\u001b[0m, in \u001b[0;36mpoll_subreddit\u001b[0;34m(subreddit, post_type, header, debug)\u001b[0m\n\u001b[1;32m    <a href='file:///opt/workspace/redditStreaming/src/main/python/reddit/reddit_producer.py?line=158'>159</a>\u001b[0m next_response \u001b[39m=\u001b[39m get_subreddit(subreddit, \u001b[39m1\u001b[39m, post_type, after_token, header)\n\u001b[0;32m--> <a href='file:///opt/workspace/redditStreaming/src/main/python/reddit/reddit_producer.py?line=159'>160</a>\u001b[0m my_data, after_token \u001b[39m=\u001b[39m subset_response(next_response)\n\u001b[1;32m    <a href='file:///opt/workspace/redditStreaming/src/main/python/reddit/reddit_producer.py?line=161'>162</a>\u001b[0m \u001b[39mif\u001b[39;00m after_token \u001b[39mis\u001b[39;00m \u001b[39mnot\u001b[39;00m \u001b[39mNone\u001b[39;00m:\n",
      "File \u001b[0;32m/opt/workspace/redditStreaming/src/main/python/reddit/reddit_producer.py:95\u001b[0m, in \u001b[0;36msubset_response\u001b[0;34m(response)\u001b[0m\n\u001b[1;32m     <a href='file:///opt/workspace/redditStreaming/src/main/python/reddit/reddit_producer.py?line=84'>85</a>\u001b[0m \u001b[39m\"\"\"\u001b[39;00m\n\u001b[1;32m     <a href='file:///opt/workspace/redditStreaming/src/main/python/reddit/reddit_producer.py?line=85'>86</a>\u001b[0m \u001b[39mremove nested data structures from response data\u001b[39;00m\n\u001b[1;32m     <a href='file:///opt/workspace/redditStreaming/src/main/python/reddit/reddit_producer.py?line=86'>87</a>\u001b[0m \n\u001b[0;32m   (...)\u001b[0m\n\u001b[1;32m     <a href='file:///opt/workspace/redditStreaming/src/main/python/reddit/reddit_producer.py?line=92'>93</a>\u001b[0m \u001b[39m    after_token (str)\u001b[39;00m\n\u001b[1;32m     <a href='file:///opt/workspace/redditStreaming/src/main/python/reddit/reddit_producer.py?line=93'>94</a>\u001b[0m \u001b[39m\"\"\"\u001b[39;00m\n\u001b[0;32m---> <a href='file:///opt/workspace/redditStreaming/src/main/python/reddit/reddit_producer.py?line=94'>95</a>\u001b[0m data \u001b[39m=\u001b[39m response[\u001b[39m\"\u001b[39;49m\u001b[39mdata\u001b[39;49m\u001b[39m\"\u001b[39;49m][\u001b[39m\"\u001b[39;49m\u001b[39mchildren\u001b[39;49m\u001b[39m\"\u001b[39;49m][\u001b[39m0\u001b[39;49m][\u001b[39m\"\u001b[39m\u001b[39mdata\u001b[39m\u001b[39m\"\u001b[39m] \u001b[39m#subset for just the post data\u001b[39;00m\n\u001b[1;32m     <a href='file:///opt/workspace/redditStreaming/src/main/python/reddit/reddit_producer.py?line=95'>96</a>\u001b[0m after_token \u001b[39m=\u001b[39m response[\u001b[39m\"\u001b[39m\u001b[39mdata\u001b[39m\u001b[39m\"\u001b[39m][\u001b[39m\"\u001b[39m\u001b[39mafter\u001b[39m\u001b[39m\"\u001b[39m] \u001b[39m#save \"after\" token to get posts after this one\u001b[39;00m\n",
      "\u001b[0;31mIndexError\u001b[0m: list index out of range",
      "\nDuring handling of the above exception, another exception occurred:\n",
      "\u001b[0;31mKeyboardInterrupt\u001b[0m                         Traceback (most recent call last)",
      "\u001b[1;32m/opt/workspace/redditStreaming/src/main/python/reddit-producer-test.ipynb Cell 4'\u001b[0m in \u001b[0;36m<cell line: 1>\u001b[0;34m()\u001b[0m\n\u001b[0;32m----> <a href='vscode-notebook-cell://attached-container%2B7b22636f6e7461696e65724e616d65223a222f6a7570797465726c6162227d/opt/workspace/redditStreaming/src/main/python/reddit-producer-test.ipynb#ch0000003vscode-remote?line=0'>1</a>\u001b[0m main(\u001b[39m\"\u001b[39;49m\u001b[39mtechnology\u001b[39;49m\u001b[39m\"\u001b[39;49m)\n",
      "File \u001b[0;32m/opt/workspace/redditStreaming/src/main/python/reddit/reddit_producer.py:204\u001b[0m, in \u001b[0;36mmain\u001b[0;34m(subreddit)\u001b[0m\n\u001b[1;32m    <a href='file:///opt/workspace/redditStreaming/src/main/python/reddit/reddit_producer.py?line=201'>202</a>\u001b[0m post_type \u001b[39m=\u001b[39m \u001b[39m\"\u001b[39m\u001b[39mnew\u001b[39m\u001b[39m\"\u001b[39m\n\u001b[1;32m    <a href='file:///opt/workspace/redditStreaming/src/main/python/reddit/reddit_producer.py?line=202'>203</a>\u001b[0m my_header \u001b[39m=\u001b[39m get_bearer()\n\u001b[0;32m--> <a href='file:///opt/workspace/redditStreaming/src/main/python/reddit/reddit_producer.py?line=203'>204</a>\u001b[0m poll_subreddit(subreddit, post_type, my_header, \u001b[39mTrue\u001b[39;49;00m)\n",
      "File \u001b[0;32m/opt/workspace/redditStreaming/src/main/python/reddit/reddit_producer.py:187\u001b[0m, in \u001b[0;36mpoll_subreddit\u001b[0;34m(subreddit, post_type, header, debug)\u001b[0m\n\u001b[1;32m    <a href='file:///opt/workspace/redditStreaming/src/main/python/reddit/reddit_producer.py?line=183'>184</a>\u001b[0m     time\u001b[39m.\u001b[39msleep(\u001b[39m10\u001b[39m)\n\u001b[1;32m    <a href='file:///opt/workspace/redditStreaming/src/main/python/reddit/reddit_producer.py?line=185'>186</a>\u001b[0m \u001b[39mexcept\u001b[39;00m \u001b[39mIndexError\u001b[39;00m:\n\u001b[0;32m--> <a href='file:///opt/workspace/redditStreaming/src/main/python/reddit/reddit_producer.py?line=186'>187</a>\u001b[0m     time\u001b[39m.\u001b[39;49msleep(\u001b[39m60\u001b[39;49m)\n\u001b[1;32m    <a href='file:///opt/workspace/redditStreaming/src/main/python/reddit/reddit_producer.py?line=188'>189</a>\u001b[0m \u001b[39mexcept\u001b[39;00m \u001b[39mException\u001b[39;00m \u001b[39mas\u001b[39;00m e:\n\u001b[1;32m    <a href='file:///opt/workspace/redditStreaming/src/main/python/reddit/reddit_producer.py?line=189'>190</a>\u001b[0m     \u001b[39mprint\u001b[39m(e)\n",
      "\u001b[0;31mKeyboardInterrupt\u001b[0m: "
     ]
    }
   ],
   "source": [
    "main(\"technology\")"
   ]
  },
  {
   "cell_type": "code",
   "execution_count": null,
   "metadata": {},
   "outputs": [],
   "source": []
  }
 ],
 "metadata": {
  "interpreter": {
   "hash": "0a3965bb87c7f85525737e9dcab01b6236cd197d584043cebbfd2eb359c98157"
  },
  "kernelspec": {
   "display_name": "Python 3 (ipykernel)",
   "language": "python",
   "name": "python3"
  },
  "language_info": {
   "codemirror_mode": {
    "name": "ipython",
    "version": 3
   },
   "file_extension": ".py",
   "mimetype": "text/x-python",
   "name": "python",
   "nbconvert_exporter": "python",
   "pygments_lexer": "ipython3",
   "version": "3.9.2"
  },
  "orig_nbformat": 4
 },
 "nbformat": 4,
 "nbformat_minor": 2
}
