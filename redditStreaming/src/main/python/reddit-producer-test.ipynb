{
 "cells": [
  {
   "cell_type": "markdown",
   "metadata": {},
   "source": [
    "# Kafka Producer test"
   ]
  },
  {
   "cell_type": "code",
   "execution_count": null,
   "metadata": {},
   "outputs": [
    {
     "name": "stdout",
     "output_type": "stream",
     "text": [
      "imported modules\n"
     ]
    }
   ],
   "source": [
    "from kafka import KafkaProducer\n",
    "from reddit.reddit import *\n",
    "import pprint\n",
    "\n",
    "pp = pprint.PrettyPrinter(indent = 1)\n",
    "subreddit = \"technology\"\n",
    "post_type = \"new\"\n",
    "print(\"imported modules\")"
   ]
  },
  {
   "cell_type": "markdown",
   "metadata": {},
   "source": [
    "## Read data from api"
   ]
  },
  {
   "cell_type": "code",
   "execution_count": 2,
   "metadata": {},
   "outputs": [
    {
     "name": "stdout",
     "output_type": "stream",
     "text": [
      "Meta Reality Labs Avatars Approach Complete Realism\n"
     ]
    }
   ],
   "source": [
    "my_header = get_bearer()\n",
    "my_response = get_subreddit(subreddit, 1, post_type, \"\", my_header)\n",
    "after_token = my_response[\"data\"][\"after\"]\n",
    "\n",
    "print(my_response[\"data\"][\"children\"][0][\"data\"][\"title\"])"
   ]
  },
  {
   "cell_type": "code",
   "execution_count": 3,
   "metadata": {},
   "outputs": [
    {
     "name": "stdout",
     "output_type": "stream",
     "text": [
      "t3_uigs49\n",
      "{'data': {'after': None,\n",
      "          'before': None,\n",
      "          'children': [],\n",
      "          'dist': 0,\n",
      "          'geo_filter': '',\n",
      "          'modhash': None},\n",
      " 'kind': 'Listing'}\n"
     ]
    }
   ],
   "source": [
    "print(after_token)\n",
    "other_response = get_subreddit(subreddit, 1, post_type, after_token, my_header)\n",
    "pp.pprint(other_response)\n",
    "\n",
    "# print(other_response[\"data\"][\"children\"][0][\"data\"][\"title\"])"
   ]
  },
  {
   "cell_type": "markdown",
   "metadata": {},
   "source": [
    "## Send to kafka producer"
   ]
  },
  {
   "cell_type": "code",
   "execution_count": 4,
   "metadata": {},
   "outputs": [],
   "source": [
    "broker = [\"localhost:9092\"]\n",
    "topic = \"reddit_\" + subreddit\n",
    "\n",
    "producer = KafkaProducer(\n",
    "            bootstrap_servers=broker,\n",
    "            value_serializer=my_serializer\n",
    "        )"
   ]
  },
  {
   "cell_type": "code",
   "execution_count": 5,
   "metadata": {},
   "outputs": [
    {
     "name": "stdout",
     "output_type": "stream",
     "text": [
      "sent message to topic: reddit_technology.\n"
     ]
    }
   ],
   "source": [
    "producer.send(topic, my_response)\n",
    "print(\"sent message to topic: {}.\".format(topic))"
   ]
  },
  {
   "cell_type": "code",
   "execution_count": null,
   "metadata": {},
   "outputs": [],
   "source": []
  }
 ],
 "metadata": {
  "interpreter": {
   "hash": "0a3965bb87c7f85525737e9dcab01b6236cd197d584043cebbfd2eb359c98157"
  },
  "kernelspec": {
   "display_name": "Python 3 (ipykernel)",
   "language": "python",
   "name": "python3"
  },
  "language_info": {
   "codemirror_mode": {
    "name": "ipython",
    "version": 3
   },
   "file_extension": ".py",
   "mimetype": "text/x-python",
   "name": "python",
   "nbconvert_exporter": "python",
   "pygments_lexer": "ipython3",
   "version": "3.9.2"
  },
  "orig_nbformat": 4
 },
 "nbformat": 4,
 "nbformat_minor": 2
}
