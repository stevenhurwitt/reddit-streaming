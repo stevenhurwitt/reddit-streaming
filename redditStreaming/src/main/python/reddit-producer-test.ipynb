{
 "cells": [
  {
   "cell_type": "markdown",
   "metadata": {},
   "source": [
    "# Kafka Producer test"
   ]
  },
  {
   "cell_type": "code",
   "execution_count": 1,
   "metadata": {},
   "outputs": [
    {
     "name": "stdout",
     "output_type": "stream",
     "text": [
      "imported modules\n"
     ]
    }
   ],
   "source": [
    "from kafka import KafkaProducer\n",
    "from kafka.admin import KafkaAdminClient, NewTopic\n",
    "from reddit.reddit_producer import *\n",
    "from reddit.reddit_streaming import read_files\n",
    "import datetime as dt\n",
    "import pprint\n",
    "import time\n",
    "import json\n",
    "import os\n",
    "\n",
    "creds, config = read_files()\n",
    "subreddit = config[\"subreddit\"]\n",
    "kafka_host = config[\"kafka_host\"]\n",
    "spark_host = config[\"spark_host\"]\n",
    "aws_client = creds[\"aws-client\"]\n",
    "aws_secret = creds[\"aws-secret\"]\n",
    "\n",
    "print(\"imported modules\")"
   ]
  },
  {
   "cell_type": "code",
   "execution_count": 6,
   "metadata": {},
   "outputs": [
    {
     "name": "stdout",
     "output_type": "stream",
     "text": [
      "Broker id -1 not in current metadata\n"
     ]
    }
   ],
   "source": [
    "try:\n",
    "    admin_client = KafkaAdminClient(\n",
    "        bootstrap_servers=\"{}:9092\".format(kafka_host)\n",
    "        # client_id='test'\n",
    "    )\n",
    "\n",
    "    topic_list = []\n",
    "    topic_list.append(NewTopic(name=\"reddit_\" + subreddit, num_partitions=1, replication_factor=1))\n",
    "    admin_client.create_topics(new_topics=topic_list, validate_only=False)\n",
    "    print(\"created topic\")\n",
    "\n",
    "except AssertionError as a:\n",
    "    print(a)\n",
    "\n",
    "except Exception as e:\n",
    "    print(e)"
   ]
  },
  {
   "cell_type": "markdown",
   "metadata": {},
   "source": [
    "## Poll reddit api and push to kafka"
   ]
  },
  {
   "cell_type": "code",
   "execution_count": 2,
   "metadata": {},
   "outputs": [
    {
     "name": "stdout",
     "output_type": "stream",
     "text": [
      "post datetime: 2022-05-19 14:46:15, post title: How Disney Won The Streaming War?\n",
      "stopped kafka producer.\n"
     ]
    }
   ],
   "source": [
    "try:\n",
    "    main()\n",
    "\n",
    "except KeyboardInterrupt:\n",
    "    print(\"stopped kafka producer.\")"
   ]
  },
  {
   "cell_type": "code",
   "execution_count": null,
   "metadata": {},
   "outputs": [],
   "source": []
  }
 ],
 "metadata": {
  "interpreter": {
   "hash": "31f2aee4e71d21fbe5cf8b01ff0e069b9275f58929596ceb00d14d90e3e16cd6"
  },
  "kernelspec": {
   "display_name": "Python 3 (ipykernel)",
   "language": "python",
   "name": "python3"
  },
  "language_info": {
   "codemirror_mode": {
    "name": "ipython",
    "version": 3
   },
   "file_extension": ".py",
   "mimetype": "text/x-python",
   "name": "python",
   "nbconvert_exporter": "python",
   "pygments_lexer": "ipython3",
   "version": "3.7.3"
  }
 },
 "nbformat": 4,
 "nbformat_minor": 4
}
