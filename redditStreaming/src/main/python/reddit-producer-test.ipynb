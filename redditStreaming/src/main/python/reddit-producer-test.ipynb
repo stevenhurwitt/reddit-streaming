{
 "cells": [
  {
   "cell_type": "markdown",
   "metadata": {},
   "source": [
    "# Kafka Producer test"
   ]
  },
  {
   "cell_type": "code",
   "execution_count": 1,
   "metadata": {},
   "outputs": [
    {
     "name": "stdout",
     "output_type": "stream",
     "text": [
      "imported modules\n"
     ]
    }
   ],
   "source": [
    "from kafka import KafkaProducer\n",
    "from kafka.admin import KafkaAdminClient, NewTopic\n",
    "from reddit.reddit_producer import *\n",
    "from reddit.reddit_streaming import read_files\n",
    "import datetime as dt\n",
    "import requests\n",
    "import pprint\n",
    "import time\n",
    "import json\n",
    "import os\n",
    "\n",
    "creds, config = read_files()\n",
    "subreddit = config[\"subreddit\"]\n",
    "kafka_host = config[\"kafka_host\"]\n",
    "spark_host = config[\"spark_host\"]\n",
    "aws_client = creds[\"aws-client\"]\n",
    "aws_secret = creds[\"aws-secret\"]\n",
    "\n",
    "print(\"imported modules\")"
   ]
  },
  {
   "cell_type": "code",
   "execution_count": 3,
   "metadata": {},
   "outputs": [
    {
     "name": "stdout",
     "output_type": "stream",
     "text": [
      "NoBrokersAvailable\n"
     ]
    }
   ],
   "source": [
    "try:\n",
    "    admin_client = KafkaAdminClient(\n",
    "            bootstrap_servers=\"{}:9092\".format(kafka_host)\n",
    "            # client_id='test'\n",
    "        )\n",
    "\n",
    "except Exception as e:\n",
    "    print(e)"
   ]
  },
  {
   "cell_type": "code",
   "execution_count": 2,
   "metadata": {},
   "outputs": [
    {
     "name": "stdout",
     "output_type": "stream",
     "text": [
      "Invalid file object: None\n"
     ]
    }
   ],
   "source": [
    "try:\n",
    "    admin_client = KafkaAdminClient(\n",
    "        bootstrap_servers=\"{}:9092\".format(kafka_host)\n",
    "        # client_id='test'\n",
    "    )\n",
    "\n",
    "    topic_list = []\n",
    "    topic_list.append(NewTopic(name=\"reddit_\" + subreddit, num_partitions=1, replication_factor=1))\n",
    "    admin_client.create_topics(new_topics=topic_list, validate_only=False)\n",
    "    print(\"created topic\")\n",
    "\n",
    "except AssertionError as a:\n",
    "    print(a)\n",
    "\n",
    "except Exception as e:\n",
    "    print(e)"
   ]
  },
  {
   "cell_type": "markdown",
   "metadata": {},
   "source": [
    "## Poll reddit api and push to kafka"
   ]
  },
  {
   "cell_type": "code",
   "execution_count": 5,
   "metadata": {},
   "outputs": [
    {
     "ename": "ValueError",
     "evalue": "Invalid file object: None",
     "output_type": "error",
     "traceback": [
      "\u001b[0;31m---------------------------------------------------------------------------\u001b[0m",
      "\u001b[0;31mValueError\u001b[0m                                Traceback (most recent call last)",
      "\u001b[1;32m/home/pi/Documents/reddit-streaming/redditStreaming/src/main/python/reddit-producer-test.ipynb Cell 5'\u001b[0m in \u001b[0;36m<cell line: 1>\u001b[0;34m()\u001b[0m\n\u001b[1;32m      <a href='vscode-notebook-cell://ssh-remote%2Braspberrypi2/home/pi/Documents/reddit-streaming/redditStreaming/src/main/python/reddit-producer-test.ipynb#ch0000005vscode-remote?line=0'>1</a>\u001b[0m \u001b[39mtry\u001b[39;00m:\n\u001b[0;32m----> <a href='vscode-notebook-cell://ssh-remote%2Braspberrypi2/home/pi/Documents/reddit-streaming/redditStreaming/src/main/python/reddit-producer-test.ipynb#ch0000005vscode-remote?line=1'>2</a>\u001b[0m     main()\n\u001b[1;32m      <a href='vscode-notebook-cell://ssh-remote%2Braspberrypi2/home/pi/Documents/reddit-streaming/redditStreaming/src/main/python/reddit-producer-test.ipynb#ch0000005vscode-remote?line=3'>4</a>\u001b[0m \u001b[39mexcept\u001b[39;00m \u001b[39mKeyboardInterrupt\u001b[39;00m:\n\u001b[1;32m      <a href='vscode-notebook-cell://ssh-remote%2Braspberrypi2/home/pi/Documents/reddit-streaming/redditStreaming/src/main/python/reddit-producer-test.ipynb#ch0000005vscode-remote?line=4'>5</a>\u001b[0m     \u001b[39mprint\u001b[39m(\u001b[39m\"\u001b[39m\u001b[39mstopped kafka producer.\u001b[39m\u001b[39m\"\u001b[39m)\n",
      "File \u001b[0;32m~/Documents/reddit-streaming/redditStreaming/src/main/python/reddit/reddit_producer.py:233\u001b[0m, in \u001b[0;36mmain\u001b[0;34m()\u001b[0m\n\u001b[1;32m    <a href='file:///home/pi/Documents/reddit-streaming/redditStreaming/src/main/python/reddit/reddit_producer.py?line=229'>230</a>\u001b[0m     sys\u001b[39m.\u001b[39mexit()\n\u001b[1;32m    <a href='file:///home/pi/Documents/reddit-streaming/redditStreaming/src/main/python/reddit/reddit_producer.py?line=231'>232</a>\u001b[0m my_header \u001b[39m=\u001b[39m get_bearer()\n\u001b[0;32m--> <a href='file:///home/pi/Documents/reddit-streaming/redditStreaming/src/main/python/reddit/reddit_producer.py?line=232'>233</a>\u001b[0m poll_subreddit(subreddit, post_type, my_header, kafka_host, debug)\n",
      "File \u001b[0;32m~/Documents/reddit-streaming/redditStreaming/src/main/python/reddit/reddit_producer.py:145\u001b[0m, in \u001b[0;36mpoll_subreddit\u001b[0;34m(subreddit, post_type, header, host, debug)\u001b[0m\n\u001b[1;32m    <a href='file:///home/pi/Documents/reddit-streaming/redditStreaming/src/main/python/reddit/reddit_producer.py?line=141'>142</a>\u001b[0m     broker \u001b[39m=\u001b[39m [\u001b[39m\"\u001b[39m\u001b[39m{}\u001b[39;00m\u001b[39m:9092\u001b[39m\u001b[39m\"\u001b[39m\u001b[39m.\u001b[39mformat(host)]\n\u001b[1;32m    <a href='file:///home/pi/Documents/reddit-streaming/redditStreaming/src/main/python/reddit/reddit_producer.py?line=142'>143</a>\u001b[0m     topic \u001b[39m=\u001b[39m \u001b[39m\"\u001b[39m\u001b[39mreddit_\u001b[39m\u001b[39m\"\u001b[39m \u001b[39m+\u001b[39m subreddit\n\u001b[0;32m--> <a href='file:///home/pi/Documents/reddit-streaming/redditStreaming/src/main/python/reddit/reddit_producer.py?line=144'>145</a>\u001b[0m     producer \u001b[39m=\u001b[39m KafkaProducer(\n\u001b[1;32m    <a href='file:///home/pi/Documents/reddit-streaming/redditStreaming/src/main/python/reddit/reddit_producer.py?line=145'>146</a>\u001b[0m                 bootstrap_servers\u001b[39m=\u001b[39;49mbroker,\n\u001b[1;32m    <a href='file:///home/pi/Documents/reddit-streaming/redditStreaming/src/main/python/reddit/reddit_producer.py?line=146'>147</a>\u001b[0m                 value_serializer\u001b[39m=\u001b[39;49mmy_serializer\n\u001b[1;32m    <a href='file:///home/pi/Documents/reddit-streaming/redditStreaming/src/main/python/reddit/reddit_producer.py?line=147'>148</a>\u001b[0m                 \u001b[39m# api_version = (0, 10, 2)\u001b[39;49;00m\n\u001b[1;32m    <a href='file:///home/pi/Documents/reddit-streaming/redditStreaming/src/main/python/reddit/reddit_producer.py?line=148'>149</a>\u001b[0m             )\n\u001b[1;32m    <a href='file:///home/pi/Documents/reddit-streaming/redditStreaming/src/main/python/reddit/reddit_producer.py?line=150'>151</a>\u001b[0m \u001b[39mexcept\u001b[39;00m NoBrokersAvailable:\n\u001b[1;32m    <a href='file:///home/pi/Documents/reddit-streaming/redditStreaming/src/main/python/reddit/reddit_producer.py?line=151'>152</a>\u001b[0m     \u001b[39mprint\u001b[39m(\u001b[39m\"\u001b[39m\u001b[39mno kafka broker available.\u001b[39m\u001b[39m\"\u001b[39m)\n",
      "File \u001b[0;32m~/Documents/reddit-streaming/redditStreaming/reddit/lib/python3.9/site-packages/kafka/producer/kafka.py:381\u001b[0m, in \u001b[0;36mKafkaProducer.__init__\u001b[0;34m(self, **configs)\u001b[0m\n\u001b[1;32m    <a href='file:///home/pi/Documents/reddit-streaming/redditStreaming/reddit/lib/python3.9/site-packages/kafka/producer/kafka.py?line=377'>378</a>\u001b[0m reporters \u001b[39m=\u001b[39m [reporter() \u001b[39mfor\u001b[39;00m reporter \u001b[39min\u001b[39;00m \u001b[39mself\u001b[39m\u001b[39m.\u001b[39mconfig[\u001b[39m'\u001b[39m\u001b[39mmetric_reporters\u001b[39m\u001b[39m'\u001b[39m]]\n\u001b[1;32m    <a href='file:///home/pi/Documents/reddit-streaming/redditStreaming/reddit/lib/python3.9/site-packages/kafka/producer/kafka.py?line=378'>379</a>\u001b[0m \u001b[39mself\u001b[39m\u001b[39m.\u001b[39m_metrics \u001b[39m=\u001b[39m Metrics(metric_config, reporters)\n\u001b[0;32m--> <a href='file:///home/pi/Documents/reddit-streaming/redditStreaming/reddit/lib/python3.9/site-packages/kafka/producer/kafka.py?line=380'>381</a>\u001b[0m client \u001b[39m=\u001b[39m KafkaClient(metrics\u001b[39m=\u001b[39;49m\u001b[39mself\u001b[39;49m\u001b[39m.\u001b[39;49m_metrics, metric_group_prefix\u001b[39m=\u001b[39;49m\u001b[39m'\u001b[39;49m\u001b[39mproducer\u001b[39;49m\u001b[39m'\u001b[39;49m,\n\u001b[1;32m    <a href='file:///home/pi/Documents/reddit-streaming/redditStreaming/reddit/lib/python3.9/site-packages/kafka/producer/kafka.py?line=381'>382</a>\u001b[0m                      wakeup_timeout_ms\u001b[39m=\u001b[39;49m\u001b[39mself\u001b[39;49m\u001b[39m.\u001b[39;49mconfig[\u001b[39m'\u001b[39;49m\u001b[39mmax_block_ms\u001b[39;49m\u001b[39m'\u001b[39;49m],\n\u001b[1;32m    <a href='file:///home/pi/Documents/reddit-streaming/redditStreaming/reddit/lib/python3.9/site-packages/kafka/producer/kafka.py?line=382'>383</a>\u001b[0m                      \u001b[39m*\u001b[39;49m\u001b[39m*\u001b[39;49m\u001b[39mself\u001b[39;49m\u001b[39m.\u001b[39;49mconfig)\n\u001b[1;32m    <a href='file:///home/pi/Documents/reddit-streaming/redditStreaming/reddit/lib/python3.9/site-packages/kafka/producer/kafka.py?line=384'>385</a>\u001b[0m \u001b[39m# Get auto-discovered version from client if necessary\u001b[39;00m\n\u001b[1;32m    <a href='file:///home/pi/Documents/reddit-streaming/redditStreaming/reddit/lib/python3.9/site-packages/kafka/producer/kafka.py?line=385'>386</a>\u001b[0m \u001b[39mif\u001b[39;00m \u001b[39mself\u001b[39m\u001b[39m.\u001b[39mconfig[\u001b[39m'\u001b[39m\u001b[39mapi_version\u001b[39m\u001b[39m'\u001b[39m] \u001b[39mis\u001b[39;00m \u001b[39mNone\u001b[39;00m:\n",
      "File \u001b[0;32m~/Documents/reddit-streaming/redditStreaming/reddit/lib/python3.9/site-packages/kafka/client_async.py:244\u001b[0m, in \u001b[0;36mKafkaClient.__init__\u001b[0;34m(self, **configs)\u001b[0m\n\u001b[1;32m    <a href='file:///home/pi/Documents/reddit-streaming/redditStreaming/reddit/lib/python3.9/site-packages/kafka/client_async.py?line=241'>242</a>\u001b[0m \u001b[39mif\u001b[39;00m \u001b[39mself\u001b[39m\u001b[39m.\u001b[39mconfig[\u001b[39m'\u001b[39m\u001b[39mapi_version\u001b[39m\u001b[39m'\u001b[39m] \u001b[39mis\u001b[39;00m \u001b[39mNone\u001b[39;00m:\n\u001b[1;32m    <a href='file:///home/pi/Documents/reddit-streaming/redditStreaming/reddit/lib/python3.9/site-packages/kafka/client_async.py?line=242'>243</a>\u001b[0m     check_timeout \u001b[39m=\u001b[39m \u001b[39mself\u001b[39m\u001b[39m.\u001b[39mconfig[\u001b[39m'\u001b[39m\u001b[39mapi_version_auto_timeout_ms\u001b[39m\u001b[39m'\u001b[39m] \u001b[39m/\u001b[39m \u001b[39m1000\u001b[39m\n\u001b[0;32m--> <a href='file:///home/pi/Documents/reddit-streaming/redditStreaming/reddit/lib/python3.9/site-packages/kafka/client_async.py?line=243'>244</a>\u001b[0m     \u001b[39mself\u001b[39m\u001b[39m.\u001b[39mconfig[\u001b[39m'\u001b[39m\u001b[39mapi_version\u001b[39m\u001b[39m'\u001b[39m] \u001b[39m=\u001b[39m \u001b[39mself\u001b[39;49m\u001b[39m.\u001b[39;49mcheck_version(timeout\u001b[39m=\u001b[39;49mcheck_timeout)\n",
      "File \u001b[0;32m~/Documents/reddit-streaming/redditStreaming/reddit/lib/python3.9/site-packages/kafka/client_async.py:909\u001b[0m, in \u001b[0;36mKafkaClient.check_version\u001b[0;34m(self, node_id, timeout, strict)\u001b[0m\n\u001b[1;32m    <a href='file:///home/pi/Documents/reddit-streaming/redditStreaming/reddit/lib/python3.9/site-packages/kafka/client_async.py?line=906'>907</a>\u001b[0m \u001b[39mtry\u001b[39;00m:\n\u001b[1;32m    <a href='file:///home/pi/Documents/reddit-streaming/redditStreaming/reddit/lib/python3.9/site-packages/kafka/client_async.py?line=907'>908</a>\u001b[0m     remaining \u001b[39m=\u001b[39m end \u001b[39m-\u001b[39m time\u001b[39m.\u001b[39mtime()\n\u001b[0;32m--> <a href='file:///home/pi/Documents/reddit-streaming/redditStreaming/reddit/lib/python3.9/site-packages/kafka/client_async.py?line=908'>909</a>\u001b[0m     version \u001b[39m=\u001b[39m conn\u001b[39m.\u001b[39;49mcheck_version(timeout\u001b[39m=\u001b[39;49mremaining, strict\u001b[39m=\u001b[39;49mstrict, topics\u001b[39m=\u001b[39;49m\u001b[39mlist\u001b[39;49m(\u001b[39mself\u001b[39;49m\u001b[39m.\u001b[39;49mconfig[\u001b[39m'\u001b[39;49m\u001b[39mbootstrap_topics_filter\u001b[39;49m\u001b[39m'\u001b[39;49m]))\n\u001b[1;32m    <a href='file:///home/pi/Documents/reddit-streaming/redditStreaming/reddit/lib/python3.9/site-packages/kafka/client_async.py?line=909'>910</a>\u001b[0m     \u001b[39mif\u001b[39;00m version \u001b[39m>\u001b[39m\u001b[39m=\u001b[39m (\u001b[39m0\u001b[39m, \u001b[39m10\u001b[39m, \u001b[39m0\u001b[39m):\n\u001b[1;32m    <a href='file:///home/pi/Documents/reddit-streaming/redditStreaming/reddit/lib/python3.9/site-packages/kafka/client_async.py?line=910'>911</a>\u001b[0m         \u001b[39m# cache the api versions map if it's available (starting\u001b[39;00m\n\u001b[1;32m    <a href='file:///home/pi/Documents/reddit-streaming/redditStreaming/reddit/lib/python3.9/site-packages/kafka/client_async.py?line=911'>912</a>\u001b[0m         \u001b[39m# in 0.10 cluster version)\u001b[39;00m\n\u001b[1;32m    <a href='file:///home/pi/Documents/reddit-streaming/redditStreaming/reddit/lib/python3.9/site-packages/kafka/client_async.py?line=912'>913</a>\u001b[0m         \u001b[39mself\u001b[39m\u001b[39m.\u001b[39m_api_versions \u001b[39m=\u001b[39m conn\u001b[39m.\u001b[39mget_api_versions()\n",
      "File \u001b[0;32m~/Documents/reddit-streaming/redditStreaming/reddit/lib/python3.9/site-packages/kafka/conn.py:1254\u001b[0m, in \u001b[0;36mBrokerConnection.check_version\u001b[0;34m(self, timeout, strict, topics)\u001b[0m\n\u001b[1;32m   <a href='file:///home/pi/Documents/reddit-streaming/redditStreaming/reddit/lib/python3.9/site-packages/kafka/conn.py?line=1250'>1251</a>\u001b[0m mr \u001b[39m=\u001b[39m \u001b[39mself\u001b[39m\u001b[39m.\u001b[39msend(MetadataRequest[\u001b[39m0\u001b[39m](topics))\n\u001b[1;32m   <a href='file:///home/pi/Documents/reddit-streaming/redditStreaming/reddit/lib/python3.9/site-packages/kafka/conn.py?line=1252'>1253</a>\u001b[0m selector \u001b[39m=\u001b[39m \u001b[39mself\u001b[39m\u001b[39m.\u001b[39mconfig[\u001b[39m'\u001b[39m\u001b[39mselector\u001b[39m\u001b[39m'\u001b[39m]()\n\u001b[0;32m-> <a href='file:///home/pi/Documents/reddit-streaming/redditStreaming/reddit/lib/python3.9/site-packages/kafka/conn.py?line=1253'>1254</a>\u001b[0m selector\u001b[39m.\u001b[39;49mregister(\u001b[39mself\u001b[39;49m\u001b[39m.\u001b[39;49m_sock, selectors\u001b[39m.\u001b[39;49mEVENT_READ)\n\u001b[1;32m   <a href='file:///home/pi/Documents/reddit-streaming/redditStreaming/reddit/lib/python3.9/site-packages/kafka/conn.py?line=1254'>1255</a>\u001b[0m \u001b[39mwhile\u001b[39;00m \u001b[39mnot\u001b[39;00m (f\u001b[39m.\u001b[39mis_done \u001b[39mand\u001b[39;00m mr\u001b[39m.\u001b[39mis_done):\n\u001b[1;32m   <a href='file:///home/pi/Documents/reddit-streaming/redditStreaming/reddit/lib/python3.9/site-packages/kafka/conn.py?line=1255'>1256</a>\u001b[0m     selector\u001b[39m.\u001b[39mselect(\u001b[39m1\u001b[39m)\n",
      "File \u001b[0;32m/usr/lib/python3.9/selectors.py:353\u001b[0m, in \u001b[0;36m_PollLikeSelector.register\u001b[0;34m(self, fileobj, events, data)\u001b[0m\n\u001b[1;32m    <a href='file:///usr/lib/python3.9/selectors.py?line=351'>352</a>\u001b[0m \u001b[39mdef\u001b[39;00m \u001b[39mregister\u001b[39m(\u001b[39mself\u001b[39m, fileobj, events, data\u001b[39m=\u001b[39m\u001b[39mNone\u001b[39;00m):\n\u001b[0;32m--> <a href='file:///usr/lib/python3.9/selectors.py?line=352'>353</a>\u001b[0m     key \u001b[39m=\u001b[39m \u001b[39msuper\u001b[39;49m()\u001b[39m.\u001b[39;49mregister(fileobj, events, data)\n\u001b[1;32m    <a href='file:///usr/lib/python3.9/selectors.py?line=353'>354</a>\u001b[0m     poller_events \u001b[39m=\u001b[39m \u001b[39m0\u001b[39m\n\u001b[1;32m    <a href='file:///usr/lib/python3.9/selectors.py?line=354'>355</a>\u001b[0m     \u001b[39mif\u001b[39;00m events \u001b[39m&\u001b[39m EVENT_READ:\n",
      "File \u001b[0;32m/usr/lib/python3.9/selectors.py:239\u001b[0m, in \u001b[0;36m_BaseSelectorImpl.register\u001b[0;34m(self, fileobj, events, data)\u001b[0m\n\u001b[1;32m    <a href='file:///usr/lib/python3.9/selectors.py?line=235'>236</a>\u001b[0m \u001b[39mif\u001b[39;00m (\u001b[39mnot\u001b[39;00m events) \u001b[39mor\u001b[39;00m (events \u001b[39m&\u001b[39m \u001b[39m~\u001b[39m(EVENT_READ \u001b[39m|\u001b[39m EVENT_WRITE)):\n\u001b[1;32m    <a href='file:///usr/lib/python3.9/selectors.py?line=236'>237</a>\u001b[0m     \u001b[39mraise\u001b[39;00m \u001b[39mValueError\u001b[39;00m(\u001b[39m\"\u001b[39m\u001b[39mInvalid events: \u001b[39m\u001b[39m{!r}\u001b[39;00m\u001b[39m\"\u001b[39m\u001b[39m.\u001b[39mformat(events))\n\u001b[0;32m--> <a href='file:///usr/lib/python3.9/selectors.py?line=238'>239</a>\u001b[0m key \u001b[39m=\u001b[39m SelectorKey(fileobj, \u001b[39mself\u001b[39;49m\u001b[39m.\u001b[39;49m_fileobj_lookup(fileobj), events, data)\n\u001b[1;32m    <a href='file:///usr/lib/python3.9/selectors.py?line=240'>241</a>\u001b[0m \u001b[39mif\u001b[39;00m key\u001b[39m.\u001b[39mfd \u001b[39min\u001b[39;00m \u001b[39mself\u001b[39m\u001b[39m.\u001b[39m_fd_to_key:\n\u001b[1;32m    <a href='file:///usr/lib/python3.9/selectors.py?line=241'>242</a>\u001b[0m     \u001b[39mraise\u001b[39;00m \u001b[39mKeyError\u001b[39;00m(\u001b[39m\"\u001b[39m\u001b[39m{!r}\u001b[39;00m\u001b[39m (FD \u001b[39m\u001b[39m{}\u001b[39;00m\u001b[39m) is already registered\u001b[39m\u001b[39m\"\u001b[39m\n\u001b[1;32m    <a href='file:///usr/lib/python3.9/selectors.py?line=242'>243</a>\u001b[0m                    \u001b[39m.\u001b[39mformat(fileobj, key\u001b[39m.\u001b[39mfd))\n",
      "File \u001b[0;32m/usr/lib/python3.9/selectors.py:226\u001b[0m, in \u001b[0;36m_BaseSelectorImpl._fileobj_lookup\u001b[0;34m(self, fileobj)\u001b[0m\n\u001b[1;32m    <a href='file:///usr/lib/python3.9/selectors.py?line=216'>217</a>\u001b[0m \u001b[39m\"\"\"Return a file descriptor from a file object.\u001b[39;00m\n\u001b[1;32m    <a href='file:///usr/lib/python3.9/selectors.py?line=217'>218</a>\u001b[0m \n\u001b[1;32m    <a href='file:///usr/lib/python3.9/selectors.py?line=218'>219</a>\u001b[0m \u001b[39mThis wraps _fileobj_to_fd() to do an exhaustive search in case\u001b[39;00m\n\u001b[0;32m   (...)\u001b[0m\n\u001b[1;32m    <a href='file:///usr/lib/python3.9/selectors.py?line=222'>223</a>\u001b[0m \u001b[39mused by _SelectorMapping.\u001b[39;00m\n\u001b[1;32m    <a href='file:///usr/lib/python3.9/selectors.py?line=223'>224</a>\u001b[0m \u001b[39m\"\"\"\u001b[39;00m\n\u001b[1;32m    <a href='file:///usr/lib/python3.9/selectors.py?line=224'>225</a>\u001b[0m \u001b[39mtry\u001b[39;00m:\n\u001b[0;32m--> <a href='file:///usr/lib/python3.9/selectors.py?line=225'>226</a>\u001b[0m     \u001b[39mreturn\u001b[39;00m _fileobj_to_fd(fileobj)\n\u001b[1;32m    <a href='file:///usr/lib/python3.9/selectors.py?line=226'>227</a>\u001b[0m \u001b[39mexcept\u001b[39;00m \u001b[39mValueError\u001b[39;00m:\n\u001b[1;32m    <a href='file:///usr/lib/python3.9/selectors.py?line=227'>228</a>\u001b[0m     \u001b[39m# Do an exhaustive search.\u001b[39;00m\n\u001b[1;32m    <a href='file:///usr/lib/python3.9/selectors.py?line=228'>229</a>\u001b[0m     \u001b[39mfor\u001b[39;00m key \u001b[39min\u001b[39;00m \u001b[39mself\u001b[39m\u001b[39m.\u001b[39m_fd_to_key\u001b[39m.\u001b[39mvalues():\n",
      "File \u001b[0;32m/usr/lib/python3.9/selectors.py:39\u001b[0m, in \u001b[0;36m_fileobj_to_fd\u001b[0;34m(fileobj)\u001b[0m\n\u001b[1;32m     <a href='file:///usr/lib/python3.9/selectors.py?line=36'>37</a>\u001b[0m         fd \u001b[39m=\u001b[39m \u001b[39mint\u001b[39m(fileobj\u001b[39m.\u001b[39mfileno())\n\u001b[1;32m     <a href='file:///usr/lib/python3.9/selectors.py?line=37'>38</a>\u001b[0m     \u001b[39mexcept\u001b[39;00m (\u001b[39mAttributeError\u001b[39;00m, \u001b[39mTypeError\u001b[39;00m, \u001b[39mValueError\u001b[39;00m):\n\u001b[0;32m---> <a href='file:///usr/lib/python3.9/selectors.py?line=38'>39</a>\u001b[0m         \u001b[39mraise\u001b[39;00m \u001b[39mValueError\u001b[39;00m(\u001b[39m\"\u001b[39m\u001b[39mInvalid file object: \u001b[39m\u001b[39m\"\u001b[39m\n\u001b[1;32m     <a href='file:///usr/lib/python3.9/selectors.py?line=39'>40</a>\u001b[0m                          \u001b[39m\"\u001b[39m\u001b[39m{!r}\u001b[39;00m\u001b[39m\"\u001b[39m\u001b[39m.\u001b[39mformat(fileobj)) \u001b[39mfrom\u001b[39;00m \u001b[39mNone\u001b[39m\n\u001b[1;32m     <a href='file:///usr/lib/python3.9/selectors.py?line=40'>41</a>\u001b[0m \u001b[39mif\u001b[39;00m fd \u001b[39m<\u001b[39m \u001b[39m0\u001b[39m:\n\u001b[1;32m     <a href='file:///usr/lib/python3.9/selectors.py?line=41'>42</a>\u001b[0m     \u001b[39mraise\u001b[39;00m \u001b[39mValueError\u001b[39;00m(\u001b[39m\"\u001b[39m\u001b[39mInvalid file descriptor: \u001b[39m\u001b[39m{}\u001b[39;00m\u001b[39m\"\u001b[39m\u001b[39m.\u001b[39mformat(fd))\n",
      "\u001b[0;31mValueError\u001b[0m: Invalid file object: None"
     ]
    }
   ],
   "source": [
    "try:\n",
    "    main()\n",
    "\n",
    "except KeyboardInterrupt:\n",
    "    print(\"stopped kafka producer.\")\n",
    "\n",
    "except NoBrokersAvailable:\n",
    "    print(\"no brokers available.\")\n",
    "\n",
    "except Exception as e:\n",
    "    print(e)"
   ]
  },
  {
   "cell_type": "code",
   "execution_count": null,
   "metadata": {},
   "outputs": [],
   "source": []
  }
 ],
 "metadata": {
  "interpreter": {
   "hash": "31f2aee4e71d21fbe5cf8b01ff0e069b9275f58929596ceb00d14d90e3e16cd6"
  },
  "kernelspec": {
   "display_name": "Python 3 (ipykernel)",
   "language": "python",
   "name": "python3"
  },
  "language_info": {
   "codemirror_mode": {
    "name": "ipython",
    "version": 3
   },
   "file_extension": ".py",
   "mimetype": "text/x-python",
   "name": "python",
   "nbconvert_exporter": "python",
   "pygments_lexer": "ipython3",
   "version": "3.7.3"
  }
 },
 "nbformat": 4,
 "nbformat_minor": 4
}
