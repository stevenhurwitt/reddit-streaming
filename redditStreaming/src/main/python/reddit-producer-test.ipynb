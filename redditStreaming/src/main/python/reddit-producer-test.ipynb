{
 "cells": [
  {
   "cell_type": "markdown",
   "metadata": {},
   "source": [
    "# Kafka Producer test"
   ]
  },
  {
   "cell_type": "code",
   "execution_count": 1,
   "metadata": {},
   "outputs": [
    {
     "name": "stdout",
     "output_type": "stream",
     "text": [
      "imported modules\n"
     ]
    }
   ],
   "source": [
    "from kafka import KafkaProducer\n",
    "from kafka.admin import KafkaAdminClient, NewTopic\n",
    "from reddit.reddit_producer import *\n",
    "import datetime as dt\n",
    "import pprint\n",
    "import time\n",
    "import json\n",
    "import os\n",
    "\n",
    "creds, config = read_files()\n",
    "subreddit = config[\"subreddit\"]\n",
    "kafka_host = config[\"kafka_host\"]\n",
    "spark_host = config[\"spark_host\"]\n",
    "aws_client = creds[\"aws-client\"]\n",
    "aws_secret = creds[\"aws-secret\"]\n",
    "\n",
    "print(\"imported modules\")"
   ]
  },
  {
   "cell_type": "code",
   "execution_count": 2,
   "metadata": {},
   "outputs": [
    {
     "name": "stdout",
     "output_type": "stream",
     "text": [
      "name 'kafka_host' is not defined\n"
     ]
    }
   ],
   "source": [
    "try:\n",
    "    admin_client = KafkaAdminClient(\n",
    "        bootstrap_servers=\"{}:9092\".format(kafka_host)\n",
    "        # client_id='test'\n",
    "    )\n",
    "\n",
    "    topic_list = []\n",
    "    topic_list.append(NewTopic(name=\"reddit_\" + subreddit, num_partitions=1, replication_factor=1))\n",
    "    admin_client.create_topics(new_topics=topic_list, validate_only=False)\n",
    "    print(\"created topic\")\n",
    "\n",
    "except AssertionError as a:\n",
    "    print(a)\n",
    "\n",
    "except Exception as e:\n",
    "    print(e)"
   ]
  },
  {
   "cell_type": "markdown",
   "metadata": {},
   "source": [
    "## Poll reddit api and push to kafka"
   ]
  },
  {
   "cell_type": "code",
   "execution_count": 15,
   "metadata": {},
   "outputs": [
    {
     "name": "stdout",
     "output_type": "stream",
     "text": [
      "post datetime: 2022-05-12 12:45:15, post title: Google Revamps Search, Maps Features for Younger, TikTok-Savvy Users\n",
      "post datetime: 2022-05-12 12:55:50, post title: Tesla CEO Elon Musk dismisses hydrogen as tool for energy storage\n",
      "post datetime: 2022-05-12 13:02:49, post title: Even Microsoft thinks you should uninstall the latest Windows 11 update\n",
      "post datetime: 2022-05-12 13:08:05, post title: Running Twitter may be much harder than Elon Musk thinks\n",
      "post datetime: 2022-05-12 13:10:01, post title: California regulators set to vote on desalination plant\n",
      "post datetime: 2022-05-12 13:11:29, post title: Royal Mail drone fleet takes to the air for remote Scottish island deliveries - A fleet of hi-tech drones will be deployed to the skies over the Scotland to ensure the mail gets to islanders on time.\n",
      "post datetime: 2022-05-12 13:23:25, post title: Senator to introduce bill giving Big Tech its own federal watchdog\n",
      "post datetime: 2022-05-12 13:25:06, post title: America is losing the quantum race with China | Opinion\n",
      "post datetime: 2022-05-12 13:27:34, post title: Startup offers $800-a-month bunk bed 'pods' in Bay Area home\n",
      "post datetime: 2022-05-12 13:47:13, post title: Astronomers reveal first image of the black hole at the heart of our galaxy\n",
      "post datetime: 2022-05-12 13:51:13, post title: New Alexa Competitor Will Feature the Voice of a Notable Star Wars Villain\n",
      "post datetime: 2022-05-12 14:26:33, post title: Why Google Search Still Dominates the Market\n",
      "post datetime: 2022-05-12 14:29:02, post title: Mixed reality on Meta’s Quest offers a glimpse at the future of visual computing\n"
     ]
    }
   ],
   "source": [
    "try:\n",
    "    main()\n",
    "\n",
    "except KeyboardInterrupt:\n",
    "    print(\"stopped kafka producer.\")"
   ]
  },
  {
   "cell_type": "code",
   "execution_count": null,
   "metadata": {},
   "outputs": [],
   "source": []
  }
 ],
 "metadata": {
  "interpreter": {
   "hash": "31f2aee4e71d21fbe5cf8b01ff0e069b9275f58929596ceb00d14d90e3e16cd6"
  },
  "kernelspec": {
   "display_name": "Python 3.8.9 64-bit",
   "language": "python",
   "name": "python3"
  },
  "language_info": {
   "codemirror_mode": {
    "name": "ipython",
    "version": 3
   },
   "file_extension": ".py",
   "mimetype": "text/x-python",
   "name": "python",
   "nbconvert_exporter": "python",
   "pygments_lexer": "ipython3",
   "version": "3.7.3"
  },
  "orig_nbformat": 4
 },
 "nbformat": 4,
 "nbformat_minor": 2
}
