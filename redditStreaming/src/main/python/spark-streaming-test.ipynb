{
 "cells": [
  {
   "cell_type": "markdown",
   "metadata": {},
   "source": [
    "## Spark streaming test"
   ]
  },
  {
   "cell_type": "code",
   "execution_count": 1,
   "metadata": {},
   "outputs": [
    {
     "name": "stdout",
     "output_type": "stream",
     "text": [
      "imported modules\n"
     ]
    }
   ],
   "source": [
    "from pyspark.sql import SparkSession\n",
    "from pyspark.sql.types import *\n",
    "from pyspark.sql.functions import *\n",
    "from reddit.reddit import *\n",
    "from kafka import KafkaConsumer\n",
    "\n",
    "subreddit = \"technology\"\n",
    "print(\"imported modules\")"
   ]
  },
  {
   "cell_type": "code",
   "execution_count": 2,
   "metadata": {},
   "outputs": [
    {
     "name": "stdout",
     "output_type": "stream",
     "text": [
      ":: loading settings :: url = jar:file:/usr/local/lib/python3.9/dist-packages/pyspark/jars/ivy-2.5.0.jar!/org/apache/ivy/core/settings/ivysettings.xml\n"
     ]
    },
    {
     "name": "stderr",
     "output_type": "stream",
     "text": [
      "Ivy Default Cache set to: /root/.ivy2/cache\n",
      "The jars for the packages stored in: /root/.ivy2/jars\n",
      "org.apache.spark#spark-sql-kafka-0-10_2.12 added as a dependency\n",
      ":: resolving dependencies :: org.apache.spark#spark-submit-parent-2083e5f9-136a-40ae-9d67-a85f7357e5df;1.0\n",
      "\tconfs: [default]\n",
      "\tfound org.apache.spark#spark-sql-kafka-0-10_2.12;3.2.0 in central\n",
      "\tfound org.apache.spark#spark-token-provider-kafka-0-10_2.12;3.2.0 in central\n",
      "\tfound org.apache.kafka#kafka-clients;2.8.0 in central\n",
      "\tfound org.lz4#lz4-java;1.7.1 in central\n",
      "\tfound org.xerial.snappy#snappy-java;1.1.8.4 in central\n",
      "\tfound org.slf4j#slf4j-api;1.7.30 in central\n",
      "\tfound org.apache.hadoop#hadoop-client-runtime;3.3.1 in central\n",
      "\tfound org.spark-project.spark#unused;1.0.0 in central\n",
      "\tfound org.apache.hadoop#hadoop-client-api;3.3.1 in central\n",
      "\tfound org.apache.htrace#htrace-core4;4.1.0-incubating in central\n",
      "\tfound commons-logging#commons-logging;1.1.3 in central\n",
      "\tfound com.google.code.findbugs#jsr305;3.0.0 in central\n",
      "\tfound org.apache.commons#commons-pool2;2.6.2 in central\n",
      ":: resolution report :: resolve 1398ms :: artifacts dl 23ms\n",
      "\t:: modules in use:\n",
      "\tcom.google.code.findbugs#jsr305;3.0.0 from central in [default]\n",
      "\tcommons-logging#commons-logging;1.1.3 from central in [default]\n",
      "\torg.apache.commons#commons-pool2;2.6.2 from central in [default]\n",
      "\torg.apache.hadoop#hadoop-client-api;3.3.1 from central in [default]\n",
      "\torg.apache.hadoop#hadoop-client-runtime;3.3.1 from central in [default]\n",
      "\torg.apache.htrace#htrace-core4;4.1.0-incubating from central in [default]\n",
      "\torg.apache.kafka#kafka-clients;2.8.0 from central in [default]\n",
      "\torg.apache.spark#spark-sql-kafka-0-10_2.12;3.2.0 from central in [default]\n",
      "\torg.apache.spark#spark-token-provider-kafka-0-10_2.12;3.2.0 from central in [default]\n",
      "\torg.lz4#lz4-java;1.7.1 from central in [default]\n",
      "\torg.slf4j#slf4j-api;1.7.30 from central in [default]\n",
      "\torg.spark-project.spark#unused;1.0.0 from central in [default]\n",
      "\torg.xerial.snappy#snappy-java;1.1.8.4 from central in [default]\n",
      "\t---------------------------------------------------------------------\n",
      "\t|                  |            modules            ||   artifacts   |\n",
      "\t|       conf       | number| search|dwnlded|evicted|| number|dwnlded|\n",
      "\t---------------------------------------------------------------------\n",
      "\t|      default     |   13  |   0   |   0   |   0   ||   13  |   0   |\n",
      "\t---------------------------------------------------------------------\n",
      ":: retrieving :: org.apache.spark#spark-submit-parent-2083e5f9-136a-40ae-9d67-a85f7357e5df\n",
      "\tconfs: [default]\n",
      "\t0 artifacts copied, 13 already retrieved (0kB/201ms)\n",
      "22/05/06 15:42:39 WARN NativeCodeLoader: Unable to load native-hadoop library for your platform... using builtin-java classes where applicable\n",
      "Using Spark's default log4j profile: org/apache/spark/log4j-defaults.properties\n",
      "Setting default log level to \"WARN\".\n",
      "To adjust logging level use sc.setLogLevel(newLevel). For SparkR, use setLogLevel(newLevel).\n"
     ]
    },
    {
     "name": "stdout",
     "output_type": "stream",
     "text": [
      "created spark successfully\n"
     ]
    }
   ],
   "source": [
    "spark = SparkSession.builder.appName(\"reddit_\" + subreddit) \\\n",
    "            .master(\"spark://spark-master:7077\") \\\n",
    "            .config(\"spark.eventLog.enabled\", \"true\") \\\n",
    "            .config(\"spark.eventLog.dir\", \"file:///opt/workspace/events\") \\\n",
    "            .config(\"spark.jars.packages\", \"org.apache.spark:spark-sql-kafka-0-10_2.12:3.2.0\") \\\n",
    "            .getOrCreate()\n",
    "\n",
    "spark.sparkContext.setLogLevel('WARN')\n",
    "print(\"created spark successfully\")"
   ]
  },
  {
   "cell_type": "code",
   "execution_count": 4,
   "metadata": {},
   "outputs": [
    {
     "name": "stderr",
     "output_type": "stream",
     "text": [
      "                                                                                \r"
     ]
    },
    {
     "name": "stdout",
     "output_type": "stream",
     "text": [
      "-------------------------------------------\n",
      "Batch: 12\n",
      "-------------------------------------------\n",
      "+--------------------+\n",
      "|               value|\n",
      "+--------------------+\n",
      "|{\"approved_at_utc...|\n",
      "+--------------------+\n",
      "\n"
     ]
    },
    {
     "name": "stderr",
     "output_type": "stream",
     "text": [
      "                                                                                \r"
     ]
    },
    {
     "name": "stdout",
     "output_type": "stream",
     "text": [
      "-------------------------------------------\n",
      "Batch: 13\n",
      "-------------------------------------------\n",
      "+--------------------+\n",
      "|               value|\n",
      "+--------------------+\n",
      "|{\"approved_at_utc...|\n",
      "+--------------------+\n",
      "\n"
     ]
    }
   ],
   "source": [
    "test_df = spark \\\n",
    "            .readStream \\\n",
    "                .format(\"kafka\") \\\n",
    "                .option(\"kafka.bootstrap.servers\", \"kafka:9092\") \\\n",
    "                .option(\"subscribe\", \"reddit_\" + subreddit) \\\n",
    "                .option(\"startingOffsets\", \"earliest\") \\\n",
    "                .load() \\\n",
    "                .selectExpr(\"CAST(value AS STRING)\")\n",
    "\n",
    "test_df.writeStream \\\n",
    "    .trigger(processingTime='5 seconds') \\\n",
    "    .outputMode(\"update\") \\\n",
    "    .format(\"console\") \\\n",
    "    .option(\"truncate\", \"true\") \\\n",
    "    .start() \\\n",
    "    .awaitTermination()"
   ]
  },
  {
   "cell_type": "code",
   "execution_count": null,
   "metadata": {},
   "outputs": [],
   "source": []
  },
  {
   "cell_type": "code",
   "execution_count": 16,
   "metadata": {},
   "outputs": [
    {
     "ename": "KeyboardInterrupt",
     "evalue": "",
     "output_type": "error",
     "traceback": [
      "\u001b[0;31m---------------------------------------------------------------------------\u001b[0m",
      "\u001b[0;31mKeyboardInterrupt\u001b[0m                         Traceback (most recent call last)",
      "\u001b[1;32m/opt/workspace/redditStreaming/src/main/python/spark-streaming-test.ipynb Cell 5'\u001b[0m in \u001b[0;36m<cell line: 7>\u001b[0;34m()\u001b[0m\n\u001b[1;32m      <a href='vscode-notebook-cell://attached-container%2B7b22636f6e7461696e65724e616d65223a222f6a7570797465726c6162227d/opt/workspace/redditStreaming/src/main/python/spark-streaming-test.ipynb#ch0000003vscode-remote?line=0'>1</a>\u001b[0m consumer \u001b[39m=\u001b[39m KafkaConsumer(\n\u001b[1;32m      <a href='vscode-notebook-cell://attached-container%2B7b22636f6e7461696e65724e616d65223a222f6a7570797465726c6162227d/opt/workspace/redditStreaming/src/main/python/spark-streaming-test.ipynb#ch0000003vscode-remote?line=1'>2</a>\u001b[0m     \u001b[39m\"\u001b[39m\u001b[39mreddit_\u001b[39m\u001b[39m\"\u001b[39m \u001b[39m+\u001b[39m subreddit,\n\u001b[1;32m      <a href='vscode-notebook-cell://attached-container%2B7b22636f6e7461696e65724e616d65223a222f6a7570797465726c6162227d/opt/workspace/redditStreaming/src/main/python/spark-streaming-test.ipynb#ch0000003vscode-remote?line=2'>3</a>\u001b[0m      bootstrap_servers\u001b[39m=\u001b[39m[\u001b[39m'\u001b[39m\u001b[39mkafka:9092\u001b[39m\u001b[39m'\u001b[39m],\n\u001b[1;32m      <a href='vscode-notebook-cell://attached-container%2B7b22636f6e7461696e65724e616d65223a222f6a7570797465726c6162227d/opt/workspace/redditStreaming/src/main/python/spark-streaming-test.ipynb#ch0000003vscode-remote?line=3'>4</a>\u001b[0m      auto_offset_reset\u001b[39m=\u001b[39m\u001b[39m'\u001b[39m\u001b[39mlatest\u001b[39m\u001b[39m'\u001b[39m,\n\u001b[1;32m      <a href='vscode-notebook-cell://attached-container%2B7b22636f6e7461696e65724e616d65223a222f6a7570797465726c6162227d/opt/workspace/redditStreaming/src/main/python/spark-streaming-test.ipynb#ch0000003vscode-remote?line=4'>5</a>\u001b[0m      value_deserializer\u001b[39m=\u001b[39m\u001b[39mlambda\u001b[39;00m x: json\u001b[39m.\u001b[39mloads(x\u001b[39m.\u001b[39mdecode(\u001b[39m'\u001b[39m\u001b[39mutf-8\u001b[39m\u001b[39m'\u001b[39m)))\n\u001b[0;32m----> <a href='vscode-notebook-cell://attached-container%2B7b22636f6e7461696e65724e616d65223a222f6a7570797465726c6162227d/opt/workspace/redditStreaming/src/main/python/spark-streaming-test.ipynb#ch0000003vscode-remote?line=6'>7</a>\u001b[0m \u001b[39mfor\u001b[39;00m message \u001b[39min\u001b[39;00m consumer:\n\u001b[1;32m      <a href='vscode-notebook-cell://attached-container%2B7b22636f6e7461696e65724e616d65223a222f6a7570797465726c6162227d/opt/workspace/redditStreaming/src/main/python/spark-streaming-test.ipynb#ch0000003vscode-remote?line=7'>8</a>\u001b[0m     \u001b[39mprint\u001b[39m(message\u001b[39m.\u001b[39mvalue)\n\u001b[1;32m      <a href='vscode-notebook-cell://attached-container%2B7b22636f6e7461696e65724e616d65223a222f6a7570797465726c6162227d/opt/workspace/redditStreaming/src/main/python/spark-streaming-test.ipynb#ch0000003vscode-remote?line=8'>9</a>\u001b[0m     \u001b[39mprint\u001b[39m(\u001b[39m\"\u001b[39m\u001b[39m--------------------------------------\u001b[39m\u001b[39m\"\u001b[39m)\n",
      "File \u001b[0;32m/usr/local/lib/python3.9/dist-packages/kafka/consumer/group.py:1193\u001b[0m, in \u001b[0;36mKafkaConsumer.__next__\u001b[0;34m(self)\u001b[0m\n\u001b[1;32m   <a href='file:///usr/local/lib/python3.9/dist-packages/kafka/consumer/group.py?line=1190'>1191</a>\u001b[0m     \u001b[39mreturn\u001b[39;00m \u001b[39mself\u001b[39m\u001b[39m.\u001b[39mnext_v1()\n\u001b[1;32m   <a href='file:///usr/local/lib/python3.9/dist-packages/kafka/consumer/group.py?line=1191'>1192</a>\u001b[0m \u001b[39melse\u001b[39;00m:\n\u001b[0;32m-> <a href='file:///usr/local/lib/python3.9/dist-packages/kafka/consumer/group.py?line=1192'>1193</a>\u001b[0m     \u001b[39mreturn\u001b[39;00m \u001b[39mself\u001b[39;49m\u001b[39m.\u001b[39;49mnext_v2()\n",
      "File \u001b[0;32m/usr/local/lib/python3.9/dist-packages/kafka/consumer/group.py:1201\u001b[0m, in \u001b[0;36mKafkaConsumer.next_v2\u001b[0;34m(self)\u001b[0m\n\u001b[1;32m   <a href='file:///usr/local/lib/python3.9/dist-packages/kafka/consumer/group.py?line=1198'>1199</a>\u001b[0m     \u001b[39mself\u001b[39m\u001b[39m.\u001b[39m_iterator \u001b[39m=\u001b[39m \u001b[39mself\u001b[39m\u001b[39m.\u001b[39m_message_generator_v2()\n\u001b[1;32m   <a href='file:///usr/local/lib/python3.9/dist-packages/kafka/consumer/group.py?line=1199'>1200</a>\u001b[0m \u001b[39mtry\u001b[39;00m:\n\u001b[0;32m-> <a href='file:///usr/local/lib/python3.9/dist-packages/kafka/consumer/group.py?line=1200'>1201</a>\u001b[0m     \u001b[39mreturn\u001b[39;00m \u001b[39mnext\u001b[39;49m(\u001b[39mself\u001b[39;49m\u001b[39m.\u001b[39;49m_iterator)\n\u001b[1;32m   <a href='file:///usr/local/lib/python3.9/dist-packages/kafka/consumer/group.py?line=1201'>1202</a>\u001b[0m \u001b[39mexcept\u001b[39;00m \u001b[39mStopIteration\u001b[39;00m:\n\u001b[1;32m   <a href='file:///usr/local/lib/python3.9/dist-packages/kafka/consumer/group.py?line=1202'>1203</a>\u001b[0m     \u001b[39mself\u001b[39m\u001b[39m.\u001b[39m_iterator \u001b[39m=\u001b[39m \u001b[39mNone\u001b[39;00m\n",
      "File \u001b[0;32m/usr/local/lib/python3.9/dist-packages/kafka/consumer/group.py:1116\u001b[0m, in \u001b[0;36mKafkaConsumer._message_generator_v2\u001b[0;34m(self)\u001b[0m\n\u001b[1;32m   <a href='file:///usr/local/lib/python3.9/dist-packages/kafka/consumer/group.py?line=1113'>1114</a>\u001b[0m \u001b[39mdef\u001b[39;00m \u001b[39m_message_generator_v2\u001b[39m(\u001b[39mself\u001b[39m):\n\u001b[1;32m   <a href='file:///usr/local/lib/python3.9/dist-packages/kafka/consumer/group.py?line=1114'>1115</a>\u001b[0m     timeout_ms \u001b[39m=\u001b[39m \u001b[39m1000\u001b[39m \u001b[39m*\u001b[39m (\u001b[39mself\u001b[39m\u001b[39m.\u001b[39m_consumer_timeout \u001b[39m-\u001b[39m time\u001b[39m.\u001b[39mtime())\n\u001b[0;32m-> <a href='file:///usr/local/lib/python3.9/dist-packages/kafka/consumer/group.py?line=1115'>1116</a>\u001b[0m     record_map \u001b[39m=\u001b[39m \u001b[39mself\u001b[39;49m\u001b[39m.\u001b[39;49mpoll(timeout_ms\u001b[39m=\u001b[39;49mtimeout_ms, update_offsets\u001b[39m=\u001b[39;49m\u001b[39mFalse\u001b[39;49;00m)\n\u001b[1;32m   <a href='file:///usr/local/lib/python3.9/dist-packages/kafka/consumer/group.py?line=1116'>1117</a>\u001b[0m     \u001b[39mfor\u001b[39;00m tp, records \u001b[39min\u001b[39;00m six\u001b[39m.\u001b[39miteritems(record_map):\n\u001b[1;32m   <a href='file:///usr/local/lib/python3.9/dist-packages/kafka/consumer/group.py?line=1117'>1118</a>\u001b[0m         \u001b[39m# Generators are stateful, and it is possible that the tp / records\u001b[39;00m\n\u001b[1;32m   <a href='file:///usr/local/lib/python3.9/dist-packages/kafka/consumer/group.py?line=1118'>1119</a>\u001b[0m         \u001b[39m# here may become stale during iteration -- i.e., we seek to a\u001b[39;00m\n\u001b[1;32m   <a href='file:///usr/local/lib/python3.9/dist-packages/kafka/consumer/group.py?line=1119'>1120</a>\u001b[0m         \u001b[39m# different offset, pause consumption, or lose assignment.\u001b[39;00m\n\u001b[1;32m   <a href='file:///usr/local/lib/python3.9/dist-packages/kafka/consumer/group.py?line=1120'>1121</a>\u001b[0m         \u001b[39mfor\u001b[39;00m record \u001b[39min\u001b[39;00m records:\n\u001b[1;32m   <a href='file:///usr/local/lib/python3.9/dist-packages/kafka/consumer/group.py?line=1121'>1122</a>\u001b[0m             \u001b[39m# is_fetchable(tp) should handle assignment changes and offset\u001b[39;00m\n\u001b[1;32m   <a href='file:///usr/local/lib/python3.9/dist-packages/kafka/consumer/group.py?line=1122'>1123</a>\u001b[0m             \u001b[39m# resets; for all other changes (e.g., seeks) we'll rely on the\u001b[39;00m\n\u001b[1;32m   <a href='file:///usr/local/lib/python3.9/dist-packages/kafka/consumer/group.py?line=1123'>1124</a>\u001b[0m             \u001b[39m# outer function destroying the existing iterator/generator\u001b[39;00m\n\u001b[1;32m   <a href='file:///usr/local/lib/python3.9/dist-packages/kafka/consumer/group.py?line=1124'>1125</a>\u001b[0m             \u001b[39m# via self._iterator = None\u001b[39;00m\n",
      "File \u001b[0;32m/usr/local/lib/python3.9/dist-packages/kafka/consumer/group.py:655\u001b[0m, in \u001b[0;36mKafkaConsumer.poll\u001b[0;34m(self, timeout_ms, max_records, update_offsets)\u001b[0m\n\u001b[1;32m    <a href='file:///usr/local/lib/python3.9/dist-packages/kafka/consumer/group.py?line=652'>653</a>\u001b[0m remaining \u001b[39m=\u001b[39m timeout_ms\n\u001b[1;32m    <a href='file:///usr/local/lib/python3.9/dist-packages/kafka/consumer/group.py?line=653'>654</a>\u001b[0m \u001b[39mwhile\u001b[39;00m \u001b[39mTrue\u001b[39;00m:\n\u001b[0;32m--> <a href='file:///usr/local/lib/python3.9/dist-packages/kafka/consumer/group.py?line=654'>655</a>\u001b[0m     records \u001b[39m=\u001b[39m \u001b[39mself\u001b[39;49m\u001b[39m.\u001b[39;49m_poll_once(remaining, max_records, update_offsets\u001b[39m=\u001b[39;49mupdate_offsets)\n\u001b[1;32m    <a href='file:///usr/local/lib/python3.9/dist-packages/kafka/consumer/group.py?line=655'>656</a>\u001b[0m     \u001b[39mif\u001b[39;00m records:\n\u001b[1;32m    <a href='file:///usr/local/lib/python3.9/dist-packages/kafka/consumer/group.py?line=656'>657</a>\u001b[0m         \u001b[39mreturn\u001b[39;00m records\n",
      "File \u001b[0;32m/usr/local/lib/python3.9/dist-packages/kafka/consumer/group.py:702\u001b[0m, in \u001b[0;36mKafkaConsumer._poll_once\u001b[0;34m(self, timeout_ms, max_records, update_offsets)\u001b[0m\n\u001b[1;32m    <a href='file:///usr/local/lib/python3.9/dist-packages/kafka/consumer/group.py?line=698'>699</a>\u001b[0m     \u001b[39mself\u001b[39m\u001b[39m.\u001b[39m_client\u001b[39m.\u001b[39mpoll(timeout_ms\u001b[39m=\u001b[39m\u001b[39m0\u001b[39m)\n\u001b[1;32m    <a href='file:///usr/local/lib/python3.9/dist-packages/kafka/consumer/group.py?line=700'>701</a>\u001b[0m timeout_ms \u001b[39m=\u001b[39m \u001b[39mmin\u001b[39m(timeout_ms, \u001b[39mself\u001b[39m\u001b[39m.\u001b[39m_coordinator\u001b[39m.\u001b[39mtime_to_next_poll() \u001b[39m*\u001b[39m \u001b[39m1000\u001b[39m)\n\u001b[0;32m--> <a href='file:///usr/local/lib/python3.9/dist-packages/kafka/consumer/group.py?line=701'>702</a>\u001b[0m \u001b[39mself\u001b[39;49m\u001b[39m.\u001b[39;49m_client\u001b[39m.\u001b[39;49mpoll(timeout_ms\u001b[39m=\u001b[39;49mtimeout_ms)\n\u001b[1;32m    <a href='file:///usr/local/lib/python3.9/dist-packages/kafka/consumer/group.py?line=702'>703</a>\u001b[0m \u001b[39m# after the long poll, we should check whether the group needs to rebalance\u001b[39;00m\n\u001b[1;32m    <a href='file:///usr/local/lib/python3.9/dist-packages/kafka/consumer/group.py?line=703'>704</a>\u001b[0m \u001b[39m# prior to returning data so that the group can stabilize faster\u001b[39;00m\n\u001b[1;32m    <a href='file:///usr/local/lib/python3.9/dist-packages/kafka/consumer/group.py?line=704'>705</a>\u001b[0m \u001b[39mif\u001b[39;00m \u001b[39mself\u001b[39m\u001b[39m.\u001b[39m_coordinator\u001b[39m.\u001b[39mneed_rejoin():\n",
      "File \u001b[0;32m/usr/local/lib/python3.9/dist-packages/kafka/client_async.py:602\u001b[0m, in \u001b[0;36mKafkaClient.poll\u001b[0;34m(self, timeout_ms, future)\u001b[0m\n\u001b[1;32m    <a href='file:///usr/local/lib/python3.9/dist-packages/kafka/client_async.py?line=598'>599</a>\u001b[0m             timeout \u001b[39m=\u001b[39m \u001b[39mmin\u001b[39m(timeout, \u001b[39mself\u001b[39m\u001b[39m.\u001b[39mconfig[\u001b[39m'\u001b[39m\u001b[39mretry_backoff_ms\u001b[39m\u001b[39m'\u001b[39m])\n\u001b[1;32m    <a href='file:///usr/local/lib/python3.9/dist-packages/kafka/client_async.py?line=599'>600</a>\u001b[0m         timeout \u001b[39m=\u001b[39m \u001b[39mmax\u001b[39m(\u001b[39m0\u001b[39m, timeout)  \u001b[39m# avoid negative timeouts\u001b[39;00m\n\u001b[0;32m--> <a href='file:///usr/local/lib/python3.9/dist-packages/kafka/client_async.py?line=601'>602</a>\u001b[0m     \u001b[39mself\u001b[39;49m\u001b[39m.\u001b[39;49m_poll(timeout \u001b[39m/\u001b[39;49m \u001b[39m1000\u001b[39;49m)\n\u001b[1;32m    <a href='file:///usr/local/lib/python3.9/dist-packages/kafka/client_async.py?line=603'>604</a>\u001b[0m \u001b[39m# called without the lock to avoid deadlock potential\u001b[39;00m\n\u001b[1;32m    <a href='file:///usr/local/lib/python3.9/dist-packages/kafka/client_async.py?line=604'>605</a>\u001b[0m \u001b[39m# if handlers need to acquire locks\u001b[39;00m\n\u001b[1;32m    <a href='file:///usr/local/lib/python3.9/dist-packages/kafka/client_async.py?line=605'>606</a>\u001b[0m responses\u001b[39m.\u001b[39mextend(\u001b[39mself\u001b[39m\u001b[39m.\u001b[39m_fire_pending_completed_requests())\n",
      "File \u001b[0;32m/usr/local/lib/python3.9/dist-packages/kafka/client_async.py:634\u001b[0m, in \u001b[0;36mKafkaClient._poll\u001b[0;34m(self, timeout)\u001b[0m\n\u001b[1;32m    <a href='file:///usr/local/lib/python3.9/dist-packages/kafka/client_async.py?line=630'>631</a>\u001b[0m \u001b[39mself\u001b[39m\u001b[39m.\u001b[39m_register_send_sockets()\n\u001b[1;32m    <a href='file:///usr/local/lib/python3.9/dist-packages/kafka/client_async.py?line=632'>633</a>\u001b[0m start_select \u001b[39m=\u001b[39m time\u001b[39m.\u001b[39mtime()\n\u001b[0;32m--> <a href='file:///usr/local/lib/python3.9/dist-packages/kafka/client_async.py?line=633'>634</a>\u001b[0m ready \u001b[39m=\u001b[39m \u001b[39mself\u001b[39;49m\u001b[39m.\u001b[39;49m_selector\u001b[39m.\u001b[39;49mselect(timeout)\n\u001b[1;32m    <a href='file:///usr/local/lib/python3.9/dist-packages/kafka/client_async.py?line=634'>635</a>\u001b[0m end_select \u001b[39m=\u001b[39m time\u001b[39m.\u001b[39mtime()\n\u001b[1;32m    <a href='file:///usr/local/lib/python3.9/dist-packages/kafka/client_async.py?line=635'>636</a>\u001b[0m \u001b[39mif\u001b[39;00m \u001b[39mself\u001b[39m\u001b[39m.\u001b[39m_sensors:\n",
      "File \u001b[0;32m/usr/lib/python3.9/selectors.py:469\u001b[0m, in \u001b[0;36mEpollSelector.select\u001b[0;34m(self, timeout)\u001b[0m\n\u001b[1;32m    <a href='file:///usr/lib/python3.9/selectors.py?line=466'>467</a>\u001b[0m ready \u001b[39m=\u001b[39m []\n\u001b[1;32m    <a href='file:///usr/lib/python3.9/selectors.py?line=467'>468</a>\u001b[0m \u001b[39mtry\u001b[39;00m:\n\u001b[0;32m--> <a href='file:///usr/lib/python3.9/selectors.py?line=468'>469</a>\u001b[0m     fd_event_list \u001b[39m=\u001b[39m \u001b[39mself\u001b[39;49m\u001b[39m.\u001b[39;49m_selector\u001b[39m.\u001b[39;49mpoll(timeout, max_ev)\n\u001b[1;32m    <a href='file:///usr/lib/python3.9/selectors.py?line=469'>470</a>\u001b[0m \u001b[39mexcept\u001b[39;00m \u001b[39mInterruptedError\u001b[39;00m:\n\u001b[1;32m    <a href='file:///usr/lib/python3.9/selectors.py?line=470'>471</a>\u001b[0m     \u001b[39mreturn\u001b[39;00m ready\n",
      "\u001b[0;31mKeyboardInterrupt\u001b[0m: "
     ]
    }
   ],
   "source": [
    "consumer = KafkaConsumer(\n",
    "    \"reddit_\" + subreddit,\n",
    "     bootstrap_servers=['kafka:9092'],\n",
    "     auto_offset_reset='latest',\n",
    "     value_deserializer=lambda x: json.loads(x.decode('utf-8')))\n",
    "\n",
    "for message in consumer:\n",
    "    print(message.value)\n",
    "    print(\"--------------------------------------\")"
   ]
  },
  {
   "cell_type": "code",
   "execution_count": null,
   "metadata": {},
   "outputs": [],
   "source": []
  }
 ],
 "metadata": {
  "interpreter": {
   "hash": "0a3965bb87c7f85525737e9dcab01b6236cd197d584043cebbfd2eb359c98157"
  },
  "kernelspec": {
   "display_name": "Python 3.9.2 ('reddit')",
   "language": "python",
   "name": "python3"
  },
  "language_info": {
   "codemirror_mode": {
    "name": "ipython",
    "version": 3
   },
   "file_extension": ".py",
   "mimetype": "text/x-python",
   "name": "python",
   "nbconvert_exporter": "python",
   "pygments_lexer": "ipython3",
   "version": "3.9.2"
  },
  "orig_nbformat": 4
 },
 "nbformat": 4,
 "nbformat_minor": 2
}
