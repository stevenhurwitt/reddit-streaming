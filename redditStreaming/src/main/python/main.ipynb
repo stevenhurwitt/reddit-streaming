{
 "cells": [
  {
   "cell_type": "markdown",
   "metadata": {},
   "source": [
    "# run kafka producer & spark streaming"
   ]
  },
  {
   "cell_type": "code",
   "execution_count": 1,
   "metadata": {},
   "outputs": [
    {
     "name": "stdout",
     "output_type": "stream",
     "text": [
      "Requirement already satisfied: reddit==0.1.0 from file:///home/steven/Documents/reddit-streaming/redditStreaming/src/main/python/reddit/dist/reddit-0.1.0-py3-none-any.whl in /home/steven/.local/lib/python3.8/site-packages (0.1.0)\n"
     ]
    }
   ],
   "source": [
    "! pip3 install ./reddit/dist/reddit-0.1.0-py3-none-any.whl"
   ]
  },
  {
   "cell_type": "code",
   "execution_count": 2,
   "metadata": {},
   "outputs": [
    {
     "name": "stdout",
     "output_type": "stream",
     "text": [
      "/home/steven/Documents/reddit-streaming/redditStreaming/src/main/python\n"
     ]
    }
   ],
   "source": [
    "import os\n",
    "base = os.getcwd()\n",
    "print(base)"
   ]
  },
  {
   "cell_type": "code",
   "execution_count": 3,
   "metadata": {},
   "outputs": [
    {
     "name": "stdout",
     "output_type": "stream",
     "text": [
      "imported modules.\n"
     ]
    }
   ],
   "source": [
    "from reddit import reddit_producer, reddit_streaming\n",
    "from pyspark.sql import *\n",
    "from pyspark.sql.functions import *\n",
    "from pyspark.sql.types import *\n",
    "import boto3\n",
    "import time\n",
    "import json\n",
    "import sys\n",
    "import os\n",
    "\n",
    "print(\"imported modules.\")"
   ]
  },
  {
   "cell_type": "markdown",
   "metadata": {},
   "source": [
    "## reddit streaming"
   ]
  },
  {
   "cell_type": "code",
   "execution_count": 4,
   "metadata": {},
   "outputs": [
    {
     "name": "stdout",
     "output_type": "stream",
     "text": [
      "starting streaming...\n",
      "/home/steven/Documents/reddit-streaming/redditStreaming/src/main/python\n"
     ]
    },
    {
     "ename": "FileNotFoundError",
     "evalue": "[Errno 2] No such file or directory: '/home/steven/Documents/reddit-streaming/redditStreaming/src/main/python/creds.json'",
     "output_type": "error",
     "traceback": [
      "\u001b[0;31m---------------------------------------------------------------------------\u001b[0m",
      "\u001b[0;31mFileNotFoundError\u001b[0m                         Traceback (most recent call last)",
      "File \u001b[0;32m~/Documents/reddit-streaming/redditStreaming/src/main/python/reddit/reddit_streaming.py:22\u001b[0m, in \u001b[0;36mread_files\u001b[0;34m()\u001b[0m\n\u001b[1;32m     21\u001b[0m \u001b[39mtry\u001b[39;00m:\n\u001b[0;32m---> 22\u001b[0m     \u001b[39mwith\u001b[39;00m \u001b[39mopen\u001b[39;49m(creds_path, \u001b[39m\"\u001b[39;49m\u001b[39mr\u001b[39;49m\u001b[39m\"\u001b[39;49m) \u001b[39mas\u001b[39;00m f:\n\u001b[1;32m     23\u001b[0m         creds \u001b[39m=\u001b[39m json\u001b[39m.\u001b[39mload(f)\n",
      "\u001b[0;31mFileNotFoundError\u001b[0m: [Errno 2] No such file or directory: '/home/steven/Documents/reddit-streaming/redditStreaming/src/main/python/creds.json'",
      "\nDuring handling of the above exception, another exception occurred:\n",
      "\u001b[0;31mFileNotFoundError\u001b[0m                         Traceback (most recent call last)",
      "\u001b[1;32m/home/steven/Documents/reddit-streaming/redditStreaming/src/main/python/main.ipynb Cell 6'\u001b[0m in \u001b[0;36m<cell line: 2>\u001b[0;34m()\u001b[0m\n\u001b[1;32m      <a href='vscode-notebook-cell:/home/steven/Documents/reddit-streaming/redditStreaming/src/main/python/main.ipynb#ch0000006?line=0'>1</a>\u001b[0m \u001b[39mprint\u001b[39m(\u001b[39m\"\u001b[39m\u001b[39mstarting streaming...\u001b[39m\u001b[39m\"\u001b[39m)\n\u001b[0;32m----> <a href='vscode-notebook-cell:/home/steven/Documents/reddit-streaming/redditStreaming/src/main/python/main.ipynb#ch0000006?line=1'>2</a>\u001b[0m reddit_streaming\u001b[39m.\u001b[39mmain()\n",
      "File \u001b[0;32m~/Documents/reddit-streaming/redditStreaming/src/main/python/reddit/reddit_streaming.py:259\u001b[0m, in \u001b[0;36mmain\u001b[0;34m()\u001b[0m\n\u001b[1;32m    255\u001b[0m \u001b[39mdef\u001b[39;00m \u001b[39mmain\u001b[39m():\n\u001b[1;32m    256\u001b[0m     \u001b[39m\"\"\"\u001b[39;00m\n\u001b[1;32m    257\u001b[0m \u001b[39m    initialize spark, read stream from kafka, write stream to s3 parquet\u001b[39;00m\n\u001b[1;32m    258\u001b[0m \u001b[39m    \"\"\"\u001b[39;00m\n\u001b[0;32m--> 259\u001b[0m     creds, config \u001b[39m=\u001b[39m read_files()\n\u001b[1;32m    260\u001b[0m     subreddit_list \u001b[39m=\u001b[39m config[\u001b[39m\"\u001b[39m\u001b[39msubreddit\u001b[39m\u001b[39m\"\u001b[39m]\n\u001b[1;32m    261\u001b[0m     \u001b[39mfor\u001b[39;00m i, s \u001b[39min\u001b[39;00m \u001b[39menumerate\u001b[39m(subreddit_list):\n",
      "File \u001b[0;32m~/Documents/reddit-streaming/redditStreaming/src/main/python/reddit/reddit_streaming.py:28\u001b[0m, in \u001b[0;36mread_files\u001b[0;34m()\u001b[0m\n\u001b[1;32m     25\u001b[0m         f\u001b[39m.\u001b[39mclose()\n\u001b[1;32m     27\u001b[0m \u001b[39mexcept\u001b[39;00m \u001b[39mFileNotFoundError\u001b[39;00m:\n\u001b[0;32m---> 28\u001b[0m     \u001b[39mwith\u001b[39;00m \u001b[39mopen\u001b[39;49m(creds_path_container, \u001b[39m\"\u001b[39;49m\u001b[39mr\u001b[39;49m\u001b[39m\"\u001b[39;49m) \u001b[39mas\u001b[39;00m f:\n\u001b[1;32m     29\u001b[0m         creds \u001b[39m=\u001b[39m json\u001b[39m.\u001b[39mload(f)\n\u001b[1;32m     30\u001b[0m         \u001b[39mprint\u001b[39m(\u001b[39m\"\u001b[39m\u001b[39mfile not found, read creds.json.\u001b[39m\u001b[39m\"\u001b[39m)\n",
      "\u001b[0;31mFileNotFoundError\u001b[0m: [Errno 2] No such file or directory: '/home/steven/Documents/reddit-streaming/redditStreaming/src/main/python/creds.json'"
     ]
    }
   ],
   "source": [
    "print(\"starting streaming...\")\n",
    "reddit_streaming.main()"
   ]
  },
  {
   "cell_type": "markdown",
   "metadata": {},
   "source": [
    "## reddit producer"
   ]
  },
  {
   "cell_type": "markdown",
   "metadata": {},
   "source": [
    "reddit_producer.main()"
   ]
  }
 ],
 "metadata": {
  "kernelspec": {
   "display_name": "Python 3.7.3 64-bit",
   "language": "python",
   "name": "python3"
  },
  "language_info": {
   "codemirror_mode": {
    "name": "ipython",
    "version": 3
   },
   "file_extension": ".py",
   "mimetype": "text/x-python",
   "name": "python",
   "nbconvert_exporter": "python",
   "pygments_lexer": "ipython3",
   "version": "3.8.10"
  },
  "orig_nbformat": 4,
  "vscode": {
   "interpreter": {
    "hash": "31f2aee4e71d21fbe5cf8b01ff0e069b9275f58929596ceb00d14d90e3e16cd6"
   }
  }
 },
 "nbformat": 4,
 "nbformat_minor": 2
}
