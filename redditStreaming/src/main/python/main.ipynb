{
 "cells": [
  {
   "cell_type": "markdown",
   "metadata": {},
   "source": [
    "# run kafka producer & spark streaming"
   ]
  },
  {
   "cell_type": "code",
   "execution_count": 5,
   "metadata": {},
   "outputs": [
    {
     "name": "stdout",
     "output_type": "stream",
     "text": [
      "Requirement already satisfied: reddit==0.1.0 from file:///home/steven/Documents/reddit-streaming/redditStreaming/src/main/python/reddit/dist/reddit-0.1.0-py3-none-any.whl in /home/steven/.local/lib/python3.8/site-packages (0.1.0)\n"
     ]
    }
   ],
   "source": [
    "! pip3 install ./reddit/dist/reddit-0.1.0-py3-none-any.whl"
   ]
  },
  {
   "cell_type": "code",
   "execution_count": 6,
   "metadata": {},
   "outputs": [
    {
     "name": "stdout",
     "output_type": "stream",
     "text": [
      "/home/steven/Documents/reddit-streaming/redditStreaming/src/main/python\n"
     ]
    }
   ],
   "source": [
    "import os\n",
    "base = os.getcwd()\n",
    "print(base)"
   ]
  },
  {
   "cell_type": "code",
   "execution_count": 7,
   "metadata": {},
   "outputs": [
    {
     "name": "stdout",
     "output_type": "stream",
     "text": [
      "Looking in indexes: https://pypi.org/simple, https://www.piwheels.org/simple\n",
      "Looking in indexes: https://pypi.org/simple, https://www.piwheels.org/simple\n",
      "Collecting pyspark==3.2.0\n",
      "Collecting jupyterlab==3.2.5\n",
      "  Using cached https://www.piwheels.org/simple/jupyterlab/jupyterlab-3.2.5-py3-none-any.whl (8.6 MB)\n",
      "Collecting nbclassic~=0.2\n",
      "  Using cached https://www.piwheels.org/simple/nbclassic/nbclassic-0.3.7-py3-none-any.whl (13 kB)\n",
      "Requirement already satisfied: jupyter-core in /home/steven/.local/lib/python3.9/site-packages (from jupyterlab==3.2.5) (4.10.0)\n",
      "Collecting jupyter-server~=1.4\n",
      "  Using cached https://www.piwheels.org/simple/jupyter-server/jupyter_server-1.18.0-py3-none-any.whl (344 kB)\n",
      "Requirement already satisfied: jinja2>=2.1 in /usr/lib/python3/dist-packages (from jupyterlab==3.2.5) (2.11.3)\n",
      "Requirement already satisfied: tornado>=6.1.0 in /home/steven/.local/lib/python3.9/site-packages (from jupyterlab==3.2.5) (6.1)\n",
      "Requirement already satisfied: ipython in /home/steven/.local/lib/python3.9/site-packages (from jupyterlab==3.2.5) (8.4.0)\n",
      "Requirement already satisfied: packaging in /usr/lib/python3/dist-packages (from jupyterlab==3.2.5) (20.9)\n",
      "Collecting jupyterlab-server~=2.3\n",
      "  Using cached https://www.piwheels.org/simple/jupyterlab-server/jupyterlab_server-2.14.0-py3-none-any.whl (54 kB)\n",
      "Requirement already satisfied: jupyter-client>=6.1.12 in /home/steven/.local/lib/python3.9/site-packages (from jupyter-server~=1.4->jupyterlab==3.2.5) (7.3.4)\n",
      "Collecting terminado>=0.8.3\n",
      "  Downloading https://www.piwheels.org/simple/terminado/terminado-0.15.0-py3-none-any.whl (16 kB)\n",
      "Requirement already satisfied: traitlets>=5.1 in /home/steven/.local/lib/python3.9/site-packages (from jupyter-server~=1.4->jupyterlab==3.2.5) (5.3.0)\n",
      "Collecting nbformat>=5.2.0\n",
      "  Using cached https://www.piwheels.org/simple/nbformat/nbformat-5.4.0-py3-none-any.whl (73 kB)\n",
      "Requirement already satisfied: pyzmq>=17 in /home/steven/.local/lib/python3.9/site-packages (from jupyter-server~=1.4->jupyterlab==3.2.5) (23.2.0)\n",
      "Collecting prometheus-client\n",
      "  Using cached https://www.piwheels.org/simple/prometheus-client/prometheus_client-0.14.1-py3-none-any.whl (59 kB)\n",
      "Requirement already satisfied: websocket-client in /usr/lib/python3/dist-packages (from jupyter-server~=1.4->jupyterlab==3.2.5) (0.57.0)\n",
      "Collecting nbconvert>=6.4.4\n",
      "  Using cached https://www.piwheels.org/simple/nbconvert/nbconvert-6.5.0-py3-none-any.whl (561 kB)\n",
      "Collecting anyio<4,>=3.1.0\n",
      "  Using cached https://www.piwheels.org/simple/anyio/anyio-3.6.1-py3-none-any.whl (80 kB)\n",
      "Collecting argon2-cffi\n",
      "  Using cached https://www.piwheels.org/simple/argon2-cffi/argon2_cffi-21.3.0-py3-none-any.whl (14 kB)\n",
      "Requirement already satisfied: Send2Trash in /usr/lib/python3/dist-packages (from jupyter-server~=1.4->jupyterlab==3.2.5) (1.6.0b1)\n",
      "Requirement already satisfied: idna>=2.8 in /usr/lib/python3/dist-packages (from anyio<4,>=3.1.0->jupyter-server~=1.4->jupyterlab==3.2.5) (2.10)\n",
      "Collecting sniffio>=1.1\n",
      "  Using cached https://www.piwheels.org/simple/sniffio/sniffio-1.2.0-py3-none-any.whl (10 kB)\n",
      "Requirement already satisfied: nest-asyncio>=1.5.4 in /home/steven/.local/lib/python3.9/site-packages (from jupyter-client>=6.1.12->jupyter-server~=1.4->jupyterlab==3.2.5) (1.5.5)\n",
      "Requirement already satisfied: entrypoints in /home/steven/.local/lib/python3.9/site-packages (from jupyter-client>=6.1.12->jupyter-server~=1.4->jupyterlab==3.2.5) (0.4)\n",
      "Requirement already satisfied: python-dateutil>=2.8.2 in /home/steven/.local/lib/python3.9/site-packages (from jupyter-client>=6.1.12->jupyter-server~=1.4->jupyterlab==3.2.5) (2.8.2)\n",
      "Requirement already satisfied: jsonschema>=3.0.1 in /usr/lib/python3/dist-packages (from jupyterlab-server~=2.3->jupyterlab==3.2.5) (3.2.0)\n",
      "Collecting jinja2>=2.1\n",
      "  Using cached https://www.piwheels.org/simple/jinja2/Jinja2-3.1.2-py3-none-any.whl (133 kB)\n",
      "Collecting json5\n",
      "  Downloading https://www.piwheels.org/simple/json5/json5-0.9.8-py2.py3-none-any.whl (22 kB)\n",
      "Collecting babel\n",
      "  Downloading https://www.piwheels.org/simple/babel/Babel-2.10.3-py3-none-any.whl (9.5 MB)\n",
      "\u001b[K     |████████████████████████████████| 9.5 MB 184 kB/s eta 0:00:01\n",
      "\u001b[?25hCollecting importlib-metadata>=3.6\n",
      "  Downloading https://www.piwheels.org/simple/importlib-metadata/importlib_metadata-4.12.0-py3-none-any.whl (21 kB)\n",
      "Requirement already satisfied: requests in /usr/lib/python3/dist-packages (from jupyterlab-server~=2.3->jupyterlab==3.2.5) (2.25.1)\n",
      "Requirement already satisfied: zipp>=0.5 in /usr/lib/python3/dist-packages (from importlib-metadata>=3.6->jupyterlab-server~=2.3->jupyterlab==3.2.5) (1.0.0)\n",
      "Collecting MarkupSafe>=2.0\n",
      "  Using cached MarkupSafe-2.1.1-cp39-cp39-manylinux_2_17_aarch64.manylinux2014_aarch64.whl (26 kB)\n",
      "Collecting notebook<7\n",
      "  Downloading https://www.piwheels.org/simple/notebook/notebook-6.4.12-py3-none-any.whl (9.9 MB)\n",
      "\u001b[K     |████████████████████████████████| 9.9 MB 2.0 kB/s  eta 0:00:01    |██████▉                         | 2.1 MB 294 kB/s eta 0:00:27\n",
      "\u001b[?25h  Using cached https://www.piwheels.org/simple/pyspark/pyspark-3.2.0-py2.py3-none-any.whl (281.8 MB)\n",
      "Collecting notebook-shim>=0.1.0\n",
      "  Using cached https://www.piwheels.org/simple/notebook-shim/notebook_shim-0.1.0-py3-none-any.whl (13 kB)\n",
      "Collecting pandocfilters>=1.4.1\n",
      "  Using cached https://www.piwheels.org/simple/pandocfilters/pandocfilters-1.5.0-py2.py3-none-any.whl (11 kB)\n",
      "Collecting nbclient>=0.5.0\n",
      "  Downloading https://www.piwheels.org/simple/nbclient/nbclient-0.6.5-py3-none-any.whl (71 kB)\n",
      "\u001b[K     |████████████████████████████████| 71 kB 77 kB/s  eta 0:00:01\n",
      "\u001b[?25hRequirement already satisfied: beautifulsoup4 in /usr/lib/python3/dist-packages (from nbconvert>=6.4.4->jupyter-server~=1.4->jupyterlab==3.2.5) (4.9.3)\n",
      "Collecting bleach\n",
      "  Downloading bleach-5.0.1-py3-none-any.whl (160 kB)\n",
      "\u001b[K     |████████████████████████████████| 160 kB 1.2 MB/s eta 0:00:01\n",
      "\u001b[?25hCollecting tinycss2\n",
      "  Using cached https://www.piwheels.org/simple/tinycss2/tinycss2-1.1.1-py3-none-any.whl (21 kB)\n",
      "Collecting jupyterlab-pygments\n",
      "  Using cached jupyterlab_pygments-0.2.2-py2.py3-none-any.whl (21 kB)\n",
      "Requirement already satisfied: pygments>=2.4.1 in /usr/lib/python3/dist-packages (from nbconvert>=6.4.4->jupyter-server~=1.4->jupyterlab==3.2.5) (2.7.1)\n",
      "Collecting defusedxml\n",
      "Collecting py4j==0.10.9.2\n",
      "  Using cached https://www.piwheels.org/simple/defusedxml/defusedxml-0.7.1-py2.py3-none-any.whl (25 kB)\n",
      "  Using cached https://www.piwheels.org/simple/py4j/py4j-0.10.9.2-py2.py3-none-any.whl (198 kB)\n",
      "Collecting mistune<2,>=0.8.1\n",
      "  Using cached https://www.piwheels.org/simple/mistune/mistune-0.8.4-py2.py3-none-any.whl (16 kB)\n",
      "Installing collected packages: py4j, pyspark\n",
      "Collecting fastjsonschema\n",
      "  Using cached https://www.piwheels.org/simple/fastjsonschema/fastjsonschema-2.15.3-py3-none-any.whl (22 kB)\n",
      "Collecting ipython-genutils\n",
      "  Using cached https://www.piwheels.org/simple/ipython-genutils/ipython_genutils-0.2.0-py2.py3-none-any.whl (26 kB)\n",
      "Collecting Send2Trash\n",
      "  Using cached https://www.piwheels.org/simple/send2trash/Send2Trash-1.8.0-py3-none-any.whl (20 kB)\n",
      "Requirement already satisfied: ipykernel in /home/steven/.local/lib/python3.9/site-packages (from notebook<7->nbclassic~=0.2->jupyterlab==3.2.5) (6.15.0)\n",
      "Requirement already satisfied: six>=1.5 in /usr/lib/python3/dist-packages (from python-dateutil>=2.8.2->jupyter-client>=6.1.12->jupyter-server~=1.4->jupyterlab==3.2.5) (1.16.0)\n",
      "Collecting ptyprocess\n",
      "  Using cached https://www.piwheels.org/simple/ptyprocess/ptyprocess-0.7.0-py2.py3-none-any.whl (13 kB)\n",
      "Collecting argon2-cffi-bindings\n",
      "  Using cached argon2_cffi_bindings-21.2.0-cp36-abi3-manylinux_2_17_aarch64.manylinux2014_aarch64.whl (80 kB)\n",
      "Collecting cffi>=1.0.1\n",
      "  Downloading cffi-1.15.1-cp39-cp39-manylinux_2_17_aarch64.manylinux2014_aarch64.whl (448 kB)\n",
      "\u001b[K     |████████████████████████████████| 448 kB 9.7 kB/s  eta 0:00:01\n",
      "\u001b[?25hSuccessfully installed py4j-0.10.9.2 pyspark-3.2.0\n",
      "Collecting pycparser\n",
      "  Using cached https://www.piwheels.org/simple/pycparser/pycparser-2.21-py2.py3-none-any.whl (119 kB)\n",
      "Collecting pytz>=2015.7\n",
      "  Using cached https://www.piwheels.org/simple/pytz/pytz-2022.1-py3-none-any.whl (511 kB)\n",
      "Requirement already satisfied: soupsieve>1.2 in /usr/lib/python3/dist-packages (from beautifulsoup4->nbconvert>=6.4.4->jupyter-server~=1.4->jupyterlab==3.2.5) (2.2.1)\n",
      "Requirement already satisfied: webencodings in /usr/lib/python3/dist-packages (from bleach->nbconvert>=6.4.4->jupyter-server~=1.4->jupyterlab==3.2.5) (0.5.1)\n",
      "Requirement already satisfied: matplotlib-inline>=0.1 in /home/steven/.local/lib/python3.9/site-packages (from ipykernel->notebook<7->nbclassic~=0.2->jupyterlab==3.2.5) (0.1.3)\n",
      "Requirement already satisfied: psutil in /usr/lib/python3/dist-packages (from ipykernel->notebook<7->nbclassic~=0.2->jupyterlab==3.2.5) (5.8.0)\n",
      "Requirement already satisfied: debugpy>=1.0 in /home/steven/.local/lib/python3.9/site-packages (from ipykernel->notebook<7->nbclassic~=0.2->jupyterlab==3.2.5) (1.6.0)\n",
      "Requirement already satisfied: setuptools>=18.5 in /usr/lib/python3/dist-packages (from ipython->jupyterlab==3.2.5) (52.0.0)\n",
      "Requirement already satisfied: backcall in /home/steven/.local/lib/python3.9/site-packages (from ipython->jupyterlab==3.2.5) (0.2.0)\n",
      "Requirement already satisfied: pexpect>4.3 in /usr/lib/python3/dist-packages (from ipython->jupyterlab==3.2.5) (4.8.0)\n",
      "Requirement already satisfied: jedi>=0.16 in /usr/lib/python3/dist-packages (from ipython->jupyterlab==3.2.5) (0.18.0)\n",
      "Requirement already satisfied: prompt-toolkit!=3.0.0,!=3.0.1,<3.1.0,>=2.0.0 in /home/steven/.local/lib/python3.9/site-packages (from ipython->jupyterlab==3.2.5) (3.0.30)\n",
      "Requirement already satisfied: pickleshare in /home/steven/.local/lib/python3.9/site-packages (from ipython->jupyterlab==3.2.5) (0.7.5)\n",
      "Requirement already satisfied: stack-data in /home/steven/.local/lib/python3.9/site-packages (from ipython->jupyterlab==3.2.5) (0.3.0)\n",
      "Requirement already satisfied: decorator in /home/steven/.local/lib/python3.9/site-packages (from ipython->jupyterlab==3.2.5) (5.1.1)\n",
      "Requirement already satisfied: wcwidth in /home/steven/.local/lib/python3.9/site-packages (from prompt-toolkit!=3.0.0,!=3.0.1,<3.1.0,>=2.0.0->ipython->jupyterlab==3.2.5) (0.2.5)\n",
      "Requirement already satisfied: asttokens in /usr/lib/python3/dist-packages (from stack-data->ipython->jupyterlab==3.2.5) (2.0.4)\n",
      "Requirement already satisfied: pure-eval in /home/steven/.local/lib/python3.9/site-packages (from stack-data->ipython->jupyterlab==3.2.5) (0.2.2)\n",
      "Requirement already satisfied: executing in /home/steven/.local/lib/python3.9/site-packages (from stack-data->ipython->jupyterlab==3.2.5) (0.8.3)\n",
      "Installing collected packages: pycparser, fastjsonschema, nbformat, MarkupSafe, cffi, tinycss2, sniffio, ptyprocess, pandocfilters, nbclient, mistune, jupyterlab-pygments, jinja2, defusedxml, bleach, argon2-cffi-bindings, terminado, Send2Trash, prometheus-client, nbconvert, argon2-cffi, anyio, pytz, jupyter-server, ipython-genutils, notebook-shim, notebook, json5, importlib-metadata, babel, nbclassic, jupyterlab-server, jupyterlab\n",
      "\u001b[33m  WARNING: The script jupyter-trust is installed in '/home/steven/.local/bin' which is not on PATH.\n",
      "  Consider adding this directory to PATH or, if you prefer to suppress this warning, use --no-warn-script-location.\u001b[0m\n",
      "\u001b[33m  WARNING: The script jupyter-execute is installed in '/home/steven/.local/bin' which is not on PATH.\n",
      "  Consider adding this directory to PATH or, if you prefer to suppress this warning, use --no-warn-script-location.\u001b[0m\n",
      "\u001b[33m  WARNING: The script send2trash is installed in '/home/steven/.local/bin' which is not on PATH.\n",
      "  Consider adding this directory to PATH or, if you prefer to suppress this warning, use --no-warn-script-location.\u001b[0m\n",
      "\u001b[33m  WARNING: The scripts jupyter-dejavu and jupyter-nbconvert are installed in '/home/steven/.local/bin' which is not on PATH.\n",
      "  Consider adding this directory to PATH or, if you prefer to suppress this warning, use --no-warn-script-location.\u001b[0m\n",
      "\u001b[33m  WARNING: The script jupyter-server is installed in '/home/steven/.local/bin' which is not on PATH.\n",
      "  Consider adding this directory to PATH or, if you prefer to suppress this warning, use --no-warn-script-location.\u001b[0m\n",
      "\u001b[33m  WARNING: The scripts jupyter-bundlerextension, jupyter-nbextension, jupyter-notebook and jupyter-serverextension are installed in '/home/steven/.local/bin' which is not on PATH.\n",
      "  Consider adding this directory to PATH or, if you prefer to suppress this warning, use --no-warn-script-location.\u001b[0m\n",
      "\u001b[33m  WARNING: The script pyjson5 is installed in '/home/steven/.local/bin' which is not on PATH.\n",
      "  Consider adding this directory to PATH or, if you prefer to suppress this warning, use --no-warn-script-location.\u001b[0m\n",
      "\u001b[33m  WARNING: The script pybabel is installed in '/home/steven/.local/bin' which is not on PATH.\n",
      "  Consider adding this directory to PATH or, if you prefer to suppress this warning, use --no-warn-script-location.\u001b[0m\n",
      "\u001b[33m  WARNING: The script jupyter-nbclassic is installed in '/home/steven/.local/bin' which is not on PATH.\n",
      "  Consider adding this directory to PATH or, if you prefer to suppress this warning, use --no-warn-script-location.\u001b[0m\n",
      "\u001b[33m  WARNING: The scripts jlpm, jupyter-lab, jupyter-labextension and jupyter-labhub are installed in '/home/steven/.local/bin' which is not on PATH.\n",
      "  Consider adding this directory to PATH or, if you prefer to suppress this warning, use --no-warn-script-location.\u001b[0m\n",
      "Successfully installed MarkupSafe-2.1.1 Send2Trash-1.8.0 anyio-3.6.1 argon2-cffi-21.3.0 argon2-cffi-bindings-21.2.0 babel-2.10.3 bleach-5.0.1 cffi-1.15.1 defusedxml-0.7.1 fastjsonschema-2.15.3 importlib-metadata-4.12.0 ipython-genutils-0.2.0 jinja2-3.1.2 json5-0.9.8 jupyter-server-1.18.0 jupyterlab-3.2.5 jupyterlab-pygments-0.2.2 jupyterlab-server-2.14.0 mistune-0.8.4 nbclassic-0.3.7 nbclient-0.6.5 nbconvert-6.5.0 nbformat-5.4.0 notebook-6.4.12 notebook-shim-0.1.0 pandocfilters-1.5.0 prometheus-client-0.14.1 ptyprocess-0.7.0 pycparser-2.21 pytz-2022.1 sniffio-1.2.0 terminado-0.15.0 tinycss2-1.1.1\n"
     ]
    }
   ],
   "source": [
    "! pip3 install pyspark==3.2.0 & pip3 install jupyterlab==3.2.5 & pip3 install boto3"
   ]
  },
  {
   "cell_type": "code",
   "execution_count": 9,
   "metadata": {},
   "outputs": [
    {
     "ename": "ModuleNotFoundError",
     "evalue": "No module named 'pyspark'",
     "output_type": "error",
     "traceback": [
      "\u001b[0;31m---------------------------------------------------------------------------\u001b[0m",
      "\u001b[0;31mModuleNotFoundError\u001b[0m                       Traceback (most recent call last)",
      "\u001b[1;32m/home/steven/Documents/reddit-streaming/redditStreaming/src/main/python/main.ipynb Cell 7'\u001b[0m in \u001b[0;36m<cell line: 2>\u001b[0;34m()\u001b[0m\n\u001b[1;32m      <a href='vscode-notebook-cell://ssh-remote%2B192.168.50.8/home/steven/Documents/reddit-streaming/redditStreaming/src/main/python/main.ipynb#ch0000003vscode-remote?line=0'>1</a>\u001b[0m \u001b[39mfrom\u001b[39;00m \u001b[39mreddit\u001b[39;00m \u001b[39mimport\u001b[39;00m \u001b[39m*\u001b[39m\n\u001b[0;32m----> <a href='vscode-notebook-cell://ssh-remote%2B192.168.50.8/home/steven/Documents/reddit-streaming/redditStreaming/src/main/python/main.ipynb#ch0000003vscode-remote?line=1'>2</a>\u001b[0m \u001b[39mfrom\u001b[39;00m \u001b[39mpyspark\u001b[39;00m\u001b[39m.\u001b[39;00m\u001b[39msql\u001b[39;00m \u001b[39mimport\u001b[39;00m \u001b[39m*\u001b[39m\n\u001b[1;32m      <a href='vscode-notebook-cell://ssh-remote%2B192.168.50.8/home/steven/Documents/reddit-streaming/redditStreaming/src/main/python/main.ipynb#ch0000003vscode-remote?line=2'>3</a>\u001b[0m \u001b[39mfrom\u001b[39;00m \u001b[39mpyspark\u001b[39;00m\u001b[39m.\u001b[39;00m\u001b[39msql\u001b[39;00m\u001b[39m.\u001b[39;00m\u001b[39mfunctions\u001b[39;00m \u001b[39mimport\u001b[39;00m \u001b[39m*\u001b[39m\n\u001b[1;32m      <a href='vscode-notebook-cell://ssh-remote%2B192.168.50.8/home/steven/Documents/reddit-streaming/redditStreaming/src/main/python/main.ipynb#ch0000003vscode-remote?line=3'>4</a>\u001b[0m \u001b[39mfrom\u001b[39;00m \u001b[39mpyspark\u001b[39;00m\u001b[39m.\u001b[39;00m\u001b[39msql\u001b[39;00m\u001b[39m.\u001b[39;00m\u001b[39mtypes\u001b[39;00m \u001b[39mimport\u001b[39;00m \u001b[39m*\u001b[39m\n",
      "\u001b[0;31mModuleNotFoundError\u001b[0m: No module named 'pyspark'"
     ]
    }
   ],
   "source": [
    "from reddit import reddit_producer, reddit_streaming\n",
    "from pyspark.sql import *\n",
    "from pyspark.sql.functions import *\n",
    "from pyspark.sql.types import *\n",
    "import boto3\n",
    "import time\n",
    "import json\n",
    "import sys\n",
    "import os\n",
    "\n",
    "print(\"imported modules.\")"
   ]
  },
  {
   "cell_type": "markdown",
   "metadata": {},
   "source": [
    "## reddit streaming"
   ]
  },
  {
   "cell_type": "code",
   "execution_count": 4,
   "metadata": {},
   "outputs": [
    {
     "name": "stdout",
     "output_type": "stream",
     "text": [
      "starting streaming...\n",
      "/home/steven/Documents/reddit-streaming/redditStreaming/src/main/python\n"
     ]
    },
    {
     "ename": "FileNotFoundError",
     "evalue": "[Errno 2] No such file or directory: '/home/steven/Documents/reddit-streaming/redditStreaming/src/main/python/creds.json'",
     "output_type": "error",
     "traceback": [
      "\u001b[0;31m---------------------------------------------------------------------------\u001b[0m",
      "\u001b[0;31mFileNotFoundError\u001b[0m                         Traceback (most recent call last)",
      "File \u001b[0;32m~/Documents/reddit-streaming/redditStreaming/src/main/python/reddit/reddit_streaming.py:22\u001b[0m, in \u001b[0;36mread_files\u001b[0;34m()\u001b[0m\n\u001b[1;32m     21\u001b[0m \u001b[39mtry\u001b[39;00m:\n\u001b[0;32m---> 22\u001b[0m     \u001b[39mwith\u001b[39;00m \u001b[39mopen\u001b[39;49m(creds_path, \u001b[39m\"\u001b[39;49m\u001b[39mr\u001b[39;49m\u001b[39m\"\u001b[39;49m) \u001b[39mas\u001b[39;00m f:\n\u001b[1;32m     23\u001b[0m         creds \u001b[39m=\u001b[39m json\u001b[39m.\u001b[39mload(f)\n",
      "\u001b[0;31mFileNotFoundError\u001b[0m: [Errno 2] No such file or directory: '/home/steven/Documents/reddit-streaming/redditStreaming/src/main/python/creds.json'",
      "\nDuring handling of the above exception, another exception occurred:\n",
      "\u001b[0;31mFileNotFoundError\u001b[0m                         Traceback (most recent call last)",
      "\u001b[1;32m/home/steven/Documents/reddit-streaming/redditStreaming/src/main/python/main.ipynb Cell 6'\u001b[0m in \u001b[0;36m<cell line: 2>\u001b[0;34m()\u001b[0m\n\u001b[1;32m      <a href='vscode-notebook-cell:/home/steven/Documents/reddit-streaming/redditStreaming/src/main/python/main.ipynb#ch0000006?line=0'>1</a>\u001b[0m \u001b[39mprint\u001b[39m(\u001b[39m\"\u001b[39m\u001b[39mstarting streaming...\u001b[39m\u001b[39m\"\u001b[39m)\n\u001b[0;32m----> <a href='vscode-notebook-cell:/home/steven/Documents/reddit-streaming/redditStreaming/src/main/python/main.ipynb#ch0000006?line=1'>2</a>\u001b[0m reddit_streaming\u001b[39m.\u001b[39mmain()\n",
      "File \u001b[0;32m~/Documents/reddit-streaming/redditStreaming/src/main/python/reddit/reddit_streaming.py:259\u001b[0m, in \u001b[0;36mmain\u001b[0;34m()\u001b[0m\n\u001b[1;32m    255\u001b[0m \u001b[39mdef\u001b[39;00m \u001b[39mmain\u001b[39m():\n\u001b[1;32m    256\u001b[0m     \u001b[39m\"\"\"\u001b[39;00m\n\u001b[1;32m    257\u001b[0m \u001b[39m    initialize spark, read stream from kafka, write stream to s3 parquet\u001b[39;00m\n\u001b[1;32m    258\u001b[0m \u001b[39m    \"\"\"\u001b[39;00m\n\u001b[0;32m--> 259\u001b[0m     creds, config \u001b[39m=\u001b[39m read_files()\n\u001b[1;32m    260\u001b[0m     subreddit_list \u001b[39m=\u001b[39m config[\u001b[39m\"\u001b[39m\u001b[39msubreddit\u001b[39m\u001b[39m\"\u001b[39m]\n\u001b[1;32m    261\u001b[0m     \u001b[39mfor\u001b[39;00m i, s \u001b[39min\u001b[39;00m \u001b[39menumerate\u001b[39m(subreddit_list):\n",
      "File \u001b[0;32m~/Documents/reddit-streaming/redditStreaming/src/main/python/reddit/reddit_streaming.py:28\u001b[0m, in \u001b[0;36mread_files\u001b[0;34m()\u001b[0m\n\u001b[1;32m     25\u001b[0m         f\u001b[39m.\u001b[39mclose()\n\u001b[1;32m     27\u001b[0m \u001b[39mexcept\u001b[39;00m \u001b[39mFileNotFoundError\u001b[39;00m:\n\u001b[0;32m---> 28\u001b[0m     \u001b[39mwith\u001b[39;00m \u001b[39mopen\u001b[39;49m(creds_path_container, \u001b[39m\"\u001b[39;49m\u001b[39mr\u001b[39;49m\u001b[39m\"\u001b[39;49m) \u001b[39mas\u001b[39;00m f:\n\u001b[1;32m     29\u001b[0m         creds \u001b[39m=\u001b[39m json\u001b[39m.\u001b[39mload(f)\n\u001b[1;32m     30\u001b[0m         \u001b[39mprint\u001b[39m(\u001b[39m\"\u001b[39m\u001b[39mfile not found, read creds.json.\u001b[39m\u001b[39m\"\u001b[39m)\n",
      "\u001b[0;31mFileNotFoundError\u001b[0m: [Errno 2] No such file or directory: '/home/steven/Documents/reddit-streaming/redditStreaming/src/main/python/creds.json'"
     ]
    }
   ],
   "source": [
    "print(\"starting streaming...\")\n",
    "reddit.reddit_streaming.main()"
   ]
  },
  {
   "cell_type": "markdown",
   "metadata": {},
   "source": [
    "## reddit producer"
   ]
  },
  {
   "cell_type": "code",
   "execution_count": null,
   "metadata": {},
   "outputs": [],
   "source": [
    "reddit.reddit_producer.main()"
   ]
  },
  {
   "cell_type": "markdown",
   "metadata": {},
   "source": [
    "## boto3"
   ]
  },
  {
   "cell_type": "code",
   "execution_count": 5,
   "metadata": {},
   "outputs": [],
   "source": [
    "import boto3\n",
    "import json\n",
    "\n",
    "secrets = boto3.client(\"secretsmanager\", region_name = \"us-east-2\")\n",
    "aws_client = json.loads(secrets.get_secret_value(SecretId = \"AWS_ACCESS_KEY_ID\")[\"SecretString\"])[\"AWS_ACCESS_KEY_ID\"]\n",
    "aws_secret = json.loads(secrets.get_secret_value(SecretId = \"AWS_SECRET_ACCESS_KEY\")[\"SecretString\"])[\"AWS_SECRET_ACCESS_KEY\"]"
   ]
  },
  {
   "cell_type": "code",
   "execution_count": null,
   "metadata": {},
   "outputs": [],
   "source": []
  }
 ],
 "metadata": {
  "kernelspec": {
   "display_name": "Python 3.9.2 ('reddit')",
   "language": "python",
   "name": "python3"
  },
  "language_info": {
   "codemirror_mode": {
    "name": "ipython",
    "version": 3
   },
   "file_extension": ".py",
   "mimetype": "text/x-python",
   "name": "python",
   "nbconvert_exporter": "python",
   "pygments_lexer": "ipython3",
   "version": "3.9.2"
  },
  "orig_nbformat": 4,
  "vscode": {
   "interpreter": {
    "hash": "0a3965bb87c7f85525737e9dcab01b6236cd197d584043cebbfd2eb359c98157"
   }
  }
 },
 "nbformat": 4,
 "nbformat_minor": 2
}
