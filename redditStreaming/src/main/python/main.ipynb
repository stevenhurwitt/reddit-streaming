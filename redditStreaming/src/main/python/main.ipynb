{
 "cells": [
  {
   "cell_type": "markdown",
   "metadata": {},
   "source": [
    "# run kafka producer & spark streaming"
   ]
  },
  {
   "cell_type": "code",
   "execution_count": 1,
   "metadata": {},
   "outputs": [
    {
     "name": "stdout",
     "output_type": "stream",
     "text": [
      "Processing ./reddit/dist/reddit-0.1.0-py3-none-any.whl\n",
      "Installing collected packages: reddit\n",
      "Successfully installed reddit-0.1.0\n",
      "\u001b[33mWARNING: Running pip as the 'root' user can result in broken permissions and conflicting behaviour with the system package manager. It is recommended to use a virtual environment instead: https://pip.pypa.io/warnings/venv\u001b[0m\u001b[33m\n",
      "\u001b[0m"
     ]
    }
   ],
   "source": [
    "! pip3 install ./reddit/dist/reddit-0.1.0-py3-none-any.whl"
   ]
  },
  {
   "cell_type": "code",
   "execution_count": 2,
   "metadata": {},
   "outputs": [
    {
     "name": "stdout",
     "output_type": "stream",
     "text": [
      "/opt/workspace/redditStreaming/src/main/python\n"
     ]
    }
   ],
   "source": [
    "import os\n",
    "base = os.getcwd()\n",
    "print(base)"
   ]
  },
  {
   "cell_type": "code",
   "execution_count": 4,
   "metadata": {},
   "outputs": [],
   "source": [
    "# ! pip3 install pyspark==3.2.0 & pip3 install jupyterlab==3.2.5 & pip3 install boto3"
   ]
  },
  {
   "cell_type": "code",
   "execution_count": 5,
   "metadata": {},
   "outputs": [
    {
     "name": "stdout",
     "output_type": "stream",
     "text": [
      "imported reddit module.\n",
      "imported modules.\n"
     ]
    }
   ],
   "source": [
    "from reddit import reddit_producer, reddit_streaming\n",
    "from pyspark.sql import *\n",
    "from pyspark.sql.functions import *\n",
    "from pyspark.sql.types import *\n",
    "import boto3\n",
    "import time\n",
    "import json\n",
    "import sys\n",
    "import os\n",
    "\n",
    "print(\"imported modules.\")"
   ]
  },
  {
   "cell_type": "markdown",
   "metadata": {},
   "source": [
    "## reddit streaming"
   ]
  },
  {
   "cell_type": "code",
   "execution_count": null,
   "metadata": {},
   "outputs": [],
   "source": [
    "print(\"starting streaming...\")\n",
    "reddit_streaming.main()"
   ]
  },
  {
   "cell_type": "markdown",
   "metadata": {},
   "source": [
    "## reddit producer"
   ]
  },
  {
   "cell_type": "code",
   "execution_count": null,
   "metadata": {},
   "outputs": [
    {
     "name": "stdout",
     "output_type": "stream",
     "text": [
      "failed to find creds.json\n",
      "authenticated w/ bearer token good for 24 hrs.\n",
      "subreddit: technology, post date: 2022-08-28 23:34:26, post title: SNAP, EBT outages reported across the country, token: t3_x09gjc.\n",
      "subreddit: ProgrammerHumor, post date: 2022-08-29 00:02:50, post title: Hollywood series and their IPv5, token: t3_x0a2jt.\n",
      "subreddit: news, post date: 2022-08-28 23:40:13, post title: Two Minors Dead, One Injured After Fort Worth Shooting, token: t3_x09kya.\n",
      "subreddit: worldnews, post date: 2022-08-28 23:56:11, post title: The Palestinians facing mass eviction in the West Bank, token: t3_x09x68.\n",
      "subreddit: BikiniBottomTwitter, post date: 2022-08-28 22:54:31, post title: It's all in the technique, token: t3_x08l0r.\n",
      "subreddit: BlackPeopleTwitter, post date: 2022-08-28 05:08:10, post title: We need variety, token: t3_wzn6ab.\n",
      "subreddit: WhitePeopleTwitter, post date: 2022-08-28 23:59:46, post title: 🍿🍿🍿, token: t3_x09ztf.\n",
      "subreddit: aws, post date: 2022-08-28 23:59:28, post title: Giving permanent access to S3 files using AWS?, token: t3_x09zm0.\n",
      "subreddit: technology, post date: 2022-08-29 00:05:37, post title: Facebook parent settles suit in Cambridge Analytica scandal, token: t3_x0a4nk.\n",
      "subreddit: WhitePeopleTwitter, post date: 2022-08-29 00:08:32, post title: This is your Republican Party, token: t3_x0a6xd.\n",
      "subreddit: worldnews, post date: 2022-08-29 00:09:35, post title: ‘Hostile environment’: Turkey says Greek missiles locked on jets | News, token: t3_x0a7rc.\n",
      "subreddit: worldnews, post date: 2022-08-29 00:12:45, post title: Unmarried Partners, Queer Relationships Constitute Family: Supreme Court, token: t3_x0aa9f.\n",
      "subreddit: WhitePeopleTwitter, post date: 2022-08-29 00:13:37, post title: The elephant really took it to the next level 💀, token: t3_x0aawk.\n"
     ]
    }
   ],
   "source": [
    "reddit_producer.main()"
   ]
  },
  {
   "cell_type": "markdown",
   "metadata": {},
   "source": [
    "## boto3"
   ]
  },
  {
   "cell_type": "code",
   "execution_count": 5,
   "metadata": {},
   "outputs": [],
   "source": [
    "import boto3\n",
    "import json\n",
    "\n",
    "secrets = boto3.client(\"secretsmanager\", region_name = \"us-east-2\")\n",
    "aws_client = json.loads(secrets.get_secret_value(SecretId = \"AWS_ACCESS_KEY_ID\")[\"SecretString\"])[\"AWS_ACCESS_KEY_ID\"]\n",
    "aws_secret = json.loads(secrets.get_secret_value(SecretId = \"AWS_SECRET_ACCESS_KEY\")[\"SecretString\"])[\"AWS_SECRET_ACCESS_KEY\"]"
   ]
  },
  {
   "cell_type": "code",
   "execution_count": null,
   "metadata": {},
   "outputs": [],
   "source": []
  }
 ],
 "metadata": {
  "kernelspec": {
   "display_name": "Python 3 (ipykernel)",
   "language": "python",
   "name": "python3"
  },
  "language_info": {
   "codemirror_mode": {
    "name": "ipython",
    "version": 3
   },
   "file_extension": ".py",
   "mimetype": "text/x-python",
   "name": "python",
   "nbconvert_exporter": "python",
   "pygments_lexer": "ipython3",
   "version": "3.7.3"
  },
  "vscode": {
   "interpreter": {
    "hash": "0a3965bb87c7f85525737e9dcab01b6236cd197d584043cebbfd2eb359c98157"
   }
  }
 },
 "nbformat": 4,
 "nbformat_minor": 4
}
