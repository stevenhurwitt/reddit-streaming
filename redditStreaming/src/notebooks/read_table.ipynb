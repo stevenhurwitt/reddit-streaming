{
 "cells": [
  {
   "cell_type": "markdown",
   "metadata": {},
   "source": [
    "# Read Table"
   ]
  },
  {
   "cell_type": "code",
   "execution_count": 13,
   "metadata": {},
   "outputs": [
    {
     "name": "stdout",
     "output_type": "stream",
     "text": [
      "imported modules.\n"
     ]
    }
   ],
   "source": [
    "import os\n",
    "import json\n",
    "import boto3\n",
    "import pprint\n",
    "import requests\n",
    "import numpy as np\n",
    "import pandas as pd\n",
    "import datetime as dt\n",
    "from pyspark.sql import *\n",
    "from pyspark.sql.functions import *\n",
    "from pyspark.sql.types import *\n",
    "\n",
    "print(\"imported modules.\")\n"
   ]
  },
  {
   "cell_type": "markdown",
   "metadata": {},
   "source": [
    "## Spark"
   ]
  },
  {
   "cell_type": "code",
   "execution_count": 2,
   "metadata": {},
   "outputs": [
    {
     "name": "stdout",
     "output_type": "stream",
     "text": [
      "The sparksql_magic extension is already loaded. To reload it, use:\n",
      "  %reload_ext sparksql_magic\n",
      "created spark successfully.\n"
     ]
    },
    {
     "name": "stderr",
     "output_type": "stream",
     "text": [
      "                                                                                \r"
     ]
    },
    {
     "name": "stdout",
     "output_type": "stream",
     "text": [
      "created table reddit_technology.\n",
      "created spark successfully.\n"
     ]
    },
    {
     "name": "stderr",
     "output_type": "stream",
     "text": [
      "                                                                                \r"
     ]
    },
    {
     "name": "stdout",
     "output_type": "stream",
     "text": [
      "created table reddit_ProgrammerHumor.\n",
      "created spark successfully.\n"
     ]
    },
    {
     "name": "stderr",
     "output_type": "stream",
     "text": [
      "                                                                                \r"
     ]
    },
    {
     "name": "stdout",
     "output_type": "stream",
     "text": [
      "created table reddit_news.\n",
      "created spark successfully.\n"
     ]
    },
    {
     "name": "stderr",
     "output_type": "stream",
     "text": [
      "                                                                                \r"
     ]
    },
    {
     "name": "stdout",
     "output_type": "stream",
     "text": [
      "created table reddit_worldnews.\n"
     ]
    }
   ],
   "source": [
    "from pyspark.sql import SparkSession\n",
    "from pyspark.sql.types import *\n",
    "from pyspark.sql.functions import *\n",
    "from reddit.reddit_streaming import *\n",
    "import datetime as dt\n",
    "import pprint\n",
    "pp = pprint.PrettyPrinter(indent = 1)\n",
    "%load_ext sparksql_magic\n",
    "\n",
    "creds, config = read_files()\n",
    "subreddit_list = config[\"subreddit\"]\n",
    "kafka_host = config[\"kafka_host\"]\n",
    "spark_host = config[\"spark_host\"]\n",
    "aws_client = creds[\"aws-client\"]\n",
    "aws_secret = creds[\"aws-secret\"]                    \n",
    "\n",
    "for subreddit in subreddit_list:\n",
    "    spark = SparkSession.builder.appName(\"reddit_\" + subreddit + \"_read_data\") \\\n",
    "                        .master(\"spark://{}:7077\".format(spark_host)) \\\n",
    "                        .config(\"spark.scheduler.mode\", \"FAIR\") \\\n",
    "                        .config(\"spark.scheduler.allocation.file\", \"file:///opt/workspace/redditStreaming/fairscheduler.xml\") \\\n",
    "                        .config(\"spark.executor.memory\", \"1024m\") \\\n",
    "                        .config(\"spark.executor.cores\", \"2\") \\\n",
    "                        .config(\"spark.streaming.concurrentJobs\", \"4\") \\\n",
    "                        .config(\"spark.local.dir\", \"/opt/workspace/tmp/driver/{}/\".format(subreddit)) \\\n",
    "                        .config(\"spark.worker.dir\", \"/opt/workspace/tmp/executor/{}/\".format(subreddit)) \\\n",
    "                        .config(\"spark.sql.debug.maxToStringFields\", 1000) \\\n",
    "                        .config(\"spark.eventLog.enabled\", \"true\") \\\n",
    "                        .config(\"spark.eventLog.dir\", \"file:///opt/workspace/events\") \\\n",
    "                        .config(\"spark.jars.packages\", \"org.apache.spark:spark-sql-kafka-0-10_2.12:3.2.0,org.apache.hadoop:hadoop-common:3.3.1,org.apache.hadoop:hadoop-aws:3.3.1,org.apache.hadoop:hadoop-client:3.3.1,io.delta:delta-core_2.12:1.2.1\") \\\n",
    "                        .config(\"spark.hadoop.fs.s3a.access.key\", aws_client) \\\n",
    "                        .config(\"spark.hadoop.fs.s3a.secret.key\", aws_secret) \\\n",
    "                        .config(\"spark.hadoop.fs.s3a.impl\", \"org.apache.hadoop.fs.s3a.S3AFileSystem\") \\\n",
    "                        .config('spark.hadoop.fs.s3a.aws.credentials.provider', 'org.apache.hadoop.fs.s3a.SimpleAWSCredentialsProvider') \\\n",
    "                        .config(\"spark.sql.extensions\", \"io.delta.sql.DeltaSparkSessionExtension\") \\\n",
    "                        .config(\"spark.sql.catalog.spark_catalog\", \"org.apache.spark.sql.delta.catalog.DeltaCatalog\") \\\n",
    "                        .config(\"spark.delta.logStore.class\", \"org.apache.spark.sql.delta.storage.S3SingleDriverLogStore\") \\\n",
    "                        .enableHiveSupport() \\\n",
    "                        .getOrCreate()\n",
    "\n",
    "    print(\"created spark successfully.\")\n",
    "\n",
    "    df = spark.read.format(\"delta\").option(\"header\", True).load(\"s3a://reddit-stevenhurwitt/\" + subreddit + \"_clean/\")\n",
    "    \n",
    "    df.createOrReplaceTempView(\"reddit_{}\".format(subreddit))\n",
    "    print(\"created table reddit_{}.\".format(subreddit))"
   ]
  },
  {
   "cell_type": "markdown",
   "metadata": {},
   "source": [
    "## Athena"
   ]
  },
  {
   "cell_type": "code",
   "execution_count": 14,
   "metadata": {},
   "outputs": [
    {
     "name": "stdout",
     "output_type": "stream",
     "text": [
      "query execution id : 7dbbeb09-dde2-44f3-9bbd-3aadd73cdee9\n",
      "request id: 9b32cc64-9524-4ca1-9342-37be1042d6aa\n"
     ]
    }
   ],
   "source": [
    "pp = pprint.PrettyPrinter(indent = 1)\n",
    "\n",
    "subreddit = \"technology\" \n",
    "athena = boto3.client('athena')\n",
    "df = athena.start_query_execution(\n",
    "         QueryString = \"select * from reddit.{}\".format(subreddit),\n",
    "         ResultConfiguration = {\n",
    "             'OutputLocation': \"s3://reddit-stevenhurwitt/_athena_results\"\n",
    "         })\n",
    "\n",
    "# pp.pprint(df)\n",
    "\n",
    "query_execution_id = df[\"QueryExecutionId\"]\n",
    "request_id = df[\"ResponseMetadata\"][\"RequestId\"]\n",
    "print(\"query execution id : {}\".format(query_execution_id))\n",
    "print(\"request id: {}\".format(request_id))"
   ]
  },
  {
   "cell_type": "code",
   "execution_count": 24,
   "metadata": {},
   "outputs": [
    {
     "data": {
      "text/plain": [
       "[{'VarCharValue': 'approved_at_utc'},\n",
       " {'VarCharValue': 'subreddit'},\n",
       " {'VarCharValue': 'selftext'},\n",
       " {'VarCharValue': 'author_fullname'},\n",
       " {'VarCharValue': 'saved'},\n",
       " {'VarCharValue': 'mod_reason_title'},\n",
       " {'VarCharValue': 'gilded'},\n",
       " {'VarCharValue': 'clicked'},\n",
       " {'VarCharValue': 'title'},\n",
       " {'VarCharValue': 'subreddit_name_prefixed'},\n",
       " {'VarCharValue': 'hidden'},\n",
       " {'VarCharValue': 'pwls'},\n",
       " {'VarCharValue': 'link_flair_css_class'},\n",
       " {'VarCharValue': 'downs'},\n",
       " {'VarCharValue': 'thumbnail_height'},\n",
       " {'VarCharValue': 'top_awarded_type'},\n",
       " {'VarCharValue': 'hide_score'},\n",
       " {'VarCharValue': 'name'},\n",
       " {'VarCharValue': 'quarantine'},\n",
       " {'VarCharValue': 'link_flair_text_color'},\n",
       " {'VarCharValue': 'upvote_ratio'},\n",
       " {'VarCharValue': 'author_flair_background_color'},\n",
       " {'VarCharValue': 'ups'},\n",
       " {'VarCharValue': 'total_awards_received'},\n",
       " {'VarCharValue': 'thumbnail_width'},\n",
       " {'VarCharValue': 'author_flair_template_id'},\n",
       " {'VarCharValue': 'is_original_content'},\n",
       " {'VarCharValue': 'secure_media'},\n",
       " {'VarCharValue': 'is_reddit_media_domain'},\n",
       " {'VarCharValue': 'is_meta'},\n",
       " {'VarCharValue': 'category'},\n",
       " {'VarCharValue': 'link_flair_text'},\n",
       " {'VarCharValue': 'can_mod_post'},\n",
       " {'VarCharValue': 'score'},\n",
       " {'VarCharValue': 'approved_by'},\n",
       " {'VarCharValue': 'is_created_from_ads_ui'},\n",
       " {'VarCharValue': 'author_premium'},\n",
       " {'VarCharValue': 'thumbnail'},\n",
       " {'VarCharValue': 'edited'},\n",
       " {'VarCharValue': 'author_flair_css_class'},\n",
       " {'VarCharValue': 'post_hint'},\n",
       " {'VarCharValue': 'content_categories'},\n",
       " {'VarCharValue': 'is_self'},\n",
       " {'VarCharValue': 'subreddit_type'},\n",
       " {'VarCharValue': 'created'},\n",
       " {'VarCharValue': 'link_flair_type'},\n",
       " {'VarCharValue': 'wls'},\n",
       " {'VarCharValue': 'removed_by_category'},\n",
       " {'VarCharValue': 'banned_by'},\n",
       " {'VarCharValue': 'author_flair_type'},\n",
       " {'VarCharValue': 'domain'},\n",
       " {'VarCharValue': 'allow_live_comments'},\n",
       " {'VarCharValue': 'selftext_html'},\n",
       " {'VarCharValue': 'likes'},\n",
       " {'VarCharValue': 'suggested_sort'},\n",
       " {'VarCharValue': 'banned_at_utc'},\n",
       " {'VarCharValue': 'url_overridden_by_dest'},\n",
       " {'VarCharValue': 'view_count'},\n",
       " {'VarCharValue': 'archived'},\n",
       " {'VarCharValue': 'no_follow'},\n",
       " {'VarCharValue': 'is_crosspostable'},\n",
       " {'VarCharValue': 'pinned'},\n",
       " {'VarCharValue': 'over_18'},\n",
       " {'VarCharValue': 'media_only'},\n",
       " {'VarCharValue': 'link_flair_template_id'},\n",
       " {'VarCharValue': 'can_gild'},\n",
       " {'VarCharValue': 'spoiler'},\n",
       " {'VarCharValue': 'locked'},\n",
       " {'VarCharValue': 'author_flair_text'},\n",
       " {'VarCharValue': 'visited'},\n",
       " {'VarCharValue': 'removed_by'},\n",
       " {'VarCharValue': 'mod_note'},\n",
       " {'VarCharValue': 'distinguished'},\n",
       " {'VarCharValue': 'subreddit_id'},\n",
       " {'VarCharValue': 'author_is_blocked'},\n",
       " {'VarCharValue': 'mod_reason_by'},\n",
       " {'VarCharValue': 'num_reports'},\n",
       " {'VarCharValue': 'removal_reason'},\n",
       " {'VarCharValue': 'link_flair_background_color'},\n",
       " {'VarCharValue': 'id'},\n",
       " {'VarCharValue': 'is_robot_indexable'},\n",
       " {'VarCharValue': 'report_reasons'},\n",
       " {'VarCharValue': 'author'},\n",
       " {'VarCharValue': 'discussion_type'},\n",
       " {'VarCharValue': 'num_comments'},\n",
       " {'VarCharValue': 'send_replies'},\n",
       " {'VarCharValue': 'whitelist_status'},\n",
       " {'VarCharValue': 'contest_mode'},\n",
       " {'VarCharValue': 'author_patreon_flair'},\n",
       " {'VarCharValue': 'author_flair_text_color'},\n",
       " {'VarCharValue': 'permalink'},\n",
       " {'VarCharValue': 'parent_whitelist_status'},\n",
       " {'VarCharValue': 'stickied'},\n",
       " {'VarCharValue': 'url'},\n",
       " {'VarCharValue': 'subreddit_subscribers'},\n",
       " {'VarCharValue': 'created_utc'},\n",
       " {'VarCharValue': 'num_crossposts'},\n",
       " {'VarCharValue': 'media'},\n",
       " {'VarCharValue': 'is_video'},\n",
       " {'VarCharValue': 'date'},\n",
       " {'VarCharValue': 'year'},\n",
       " {'VarCharValue': 'month'},\n",
       " {'VarCharValue': 'day'}]"
      ]
     },
     "execution_count": 24,
     "metadata": {},
     "output_type": "execute_result"
    }
   ],
   "source": [
    "response = athena.get_query_results(QueryExecutionId=query_execution_id, MaxResults=1000)\n",
    "df = response[\"ResultSet\"][\"Rows\"][0][\"Data\"]\n",
    "# df = pd.DataFrame.from_records(df)\n",
    "df"
   ]
  },
  {
   "cell_type": "code",
   "execution_count": 29,
   "metadata": {},
   "outputs": [
    {
     "name": "stdout",
     "output_type": "stream",
     "text": [
      "[{'VarCharValue': 'approved_at_utc'},\n",
      " {'VarCharValue': 'subreddit'},\n",
      " {'VarCharValue': 'selftext'},\n",
      " {'VarCharValue': 'author_fullname'},\n",
      " {'VarCharValue': 'saved'},\n",
      " {'VarCharValue': 'mod_reason_title'},\n",
      " {'VarCharValue': 'gilded'},\n",
      " {'VarCharValue': 'clicked'},\n",
      " {'VarCharValue': 'title'},\n",
      " {'VarCharValue': 'subreddit_name_prefixed'},\n",
      " {'VarCharValue': 'hidden'},\n",
      " {'VarCharValue': 'pwls'},\n",
      " {'VarCharValue': 'link_flair_css_class'},\n",
      " {'VarCharValue': 'downs'},\n",
      " {'VarCharValue': 'thumbnail_height'},\n",
      " {'VarCharValue': 'top_awarded_type'},\n",
      " {'VarCharValue': 'hide_score'},\n",
      " {'VarCharValue': 'name'},\n",
      " {'VarCharValue': 'quarantine'},\n",
      " {'VarCharValue': 'link_flair_text_color'},\n",
      " {'VarCharValue': 'upvote_ratio'},\n",
      " {'VarCharValue': 'author_flair_background_color'},\n",
      " {'VarCharValue': 'ups'},\n",
      " {'VarCharValue': 'total_awards_received'},\n",
      " {'VarCharValue': 'thumbnail_width'},\n",
      " {'VarCharValue': 'author_flair_template_id'},\n",
      " {'VarCharValue': 'is_original_content'},\n",
      " {'VarCharValue': 'secure_media'},\n",
      " {'VarCharValue': 'is_reddit_media_domain'},\n",
      " {'VarCharValue': 'is_meta'},\n",
      " {'VarCharValue': 'category'},\n",
      " {'VarCharValue': 'link_flair_text'},\n",
      " {'VarCharValue': 'can_mod_post'},\n",
      " {'VarCharValue': 'score'},\n",
      " {'VarCharValue': 'approved_by'},\n",
      " {'VarCharValue': 'is_created_from_ads_ui'},\n",
      " {'VarCharValue': 'author_premium'},\n",
      " {'VarCharValue': 'thumbnail'},\n",
      " {'VarCharValue': 'edited'},\n",
      " {'VarCharValue': 'author_flair_css_class'},\n",
      " {'VarCharValue': 'post_hint'},\n",
      " {'VarCharValue': 'content_categories'},\n",
      " {'VarCharValue': 'is_self'},\n",
      " {'VarCharValue': 'subreddit_type'},\n",
      " {'VarCharValue': 'created'},\n",
      " {'VarCharValue': 'link_flair_type'},\n",
      " {'VarCharValue': 'wls'},\n",
      " {'VarCharValue': 'removed_by_category'},\n",
      " {'VarCharValue': 'banned_by'},\n",
      " {'VarCharValue': 'author_flair_type'},\n",
      " {'VarCharValue': 'domain'},\n",
      " {'VarCharValue': 'allow_live_comments'},\n",
      " {'VarCharValue': 'selftext_html'},\n",
      " {'VarCharValue': 'likes'},\n",
      " {'VarCharValue': 'suggested_sort'},\n",
      " {'VarCharValue': 'banned_at_utc'},\n",
      " {'VarCharValue': 'url_overridden_by_dest'},\n",
      " {'VarCharValue': 'view_count'},\n",
      " {'VarCharValue': 'archived'},\n",
      " {'VarCharValue': 'no_follow'},\n",
      " {'VarCharValue': 'is_crosspostable'},\n",
      " {'VarCharValue': 'pinned'},\n",
      " {'VarCharValue': 'over_18'},\n",
      " {'VarCharValue': 'media_only'},\n",
      " {'VarCharValue': 'link_flair_template_id'},\n",
      " {'VarCharValue': 'can_gild'},\n",
      " {'VarCharValue': 'spoiler'},\n",
      " {'VarCharValue': 'locked'},\n",
      " {'VarCharValue': 'author_flair_text'},\n",
      " {'VarCharValue': 'visited'},\n",
      " {'VarCharValue': 'removed_by'},\n",
      " {'VarCharValue': 'mod_note'},\n",
      " {'VarCharValue': 'distinguished'},\n",
      " {'VarCharValue': 'subreddit_id'},\n",
      " {'VarCharValue': 'author_is_blocked'},\n",
      " {'VarCharValue': 'mod_reason_by'},\n",
      " {'VarCharValue': 'num_reports'},\n",
      " {'VarCharValue': 'removal_reason'},\n",
      " {'VarCharValue': 'link_flair_background_color'},\n",
      " {'VarCharValue': 'id'},\n",
      " {'VarCharValue': 'is_robot_indexable'},\n",
      " {'VarCharValue': 'report_reasons'},\n",
      " {'VarCharValue': 'author'},\n",
      " {'VarCharValue': 'discussion_type'},\n",
      " {'VarCharValue': 'num_comments'},\n",
      " {'VarCharValue': 'send_replies'},\n",
      " {'VarCharValue': 'whitelist_status'},\n",
      " {'VarCharValue': 'contest_mode'},\n",
      " {'VarCharValue': 'author_patreon_flair'},\n",
      " {'VarCharValue': 'author_flair_text_color'},\n",
      " {'VarCharValue': 'permalink'},\n",
      " {'VarCharValue': 'parent_whitelist_status'},\n",
      " {'VarCharValue': 'stickied'},\n",
      " {'VarCharValue': 'url'},\n",
      " {'VarCharValue': 'subreddit_subscribers'},\n",
      " {'VarCharValue': 'created_utc'},\n",
      " {'VarCharValue': 'num_crossposts'},\n",
      " {'VarCharValue': 'media'},\n",
      " {'VarCharValue': 'is_video'},\n",
      " {'VarCharValue': 'date'},\n",
      " {'VarCharValue': 'year'},\n",
      " {'VarCharValue': 'month'},\n",
      " {'VarCharValue': 'day'}]\n"
     ]
    }
   ],
   "source": [
    "pp.pprint(df)"
   ]
  },
  {
   "cell_type": "code",
   "execution_count": 28,
   "metadata": {},
   "outputs": [
    {
     "data": {
      "text/html": [
       "<div>\n",
       "<style scoped>\n",
       "    .dataframe tbody tr th:only-of-type {\n",
       "        vertical-align: middle;\n",
       "    }\n",
       "\n",
       "    .dataframe tbody tr th {\n",
       "        vertical-align: top;\n",
       "    }\n",
       "\n",
       "    .dataframe thead th {\n",
       "        text-align: right;\n",
       "    }\n",
       "</style>\n",
       "<table border=\"1\" class=\"dataframe\">\n",
       "  <thead>\n",
       "    <tr style=\"text-align: right;\">\n",
       "      <th></th>\n",
       "      <th>VarCharValue</th>\n",
       "    </tr>\n",
       "  </thead>\n",
       "  <tbody>\n",
       "    <tr>\n",
       "      <th>0</th>\n",
       "      <td>approved_at_utc</td>\n",
       "    </tr>\n",
       "    <tr>\n",
       "      <th>1</th>\n",
       "      <td>subreddit</td>\n",
       "    </tr>\n",
       "    <tr>\n",
       "      <th>2</th>\n",
       "      <td>selftext</td>\n",
       "    </tr>\n",
       "    <tr>\n",
       "      <th>3</th>\n",
       "      <td>author_fullname</td>\n",
       "    </tr>\n",
       "    <tr>\n",
       "      <th>4</th>\n",
       "      <td>saved</td>\n",
       "    </tr>\n",
       "    <tr>\n",
       "      <th>...</th>\n",
       "      <td>...</td>\n",
       "    </tr>\n",
       "    <tr>\n",
       "      <th>98</th>\n",
       "      <td>is_video</td>\n",
       "    </tr>\n",
       "    <tr>\n",
       "      <th>99</th>\n",
       "      <td>date</td>\n",
       "    </tr>\n",
       "    <tr>\n",
       "      <th>100</th>\n",
       "      <td>year</td>\n",
       "    </tr>\n",
       "    <tr>\n",
       "      <th>101</th>\n",
       "      <td>month</td>\n",
       "    </tr>\n",
       "    <tr>\n",
       "      <th>102</th>\n",
       "      <td>day</td>\n",
       "    </tr>\n",
       "    <tr>\n",
       "      <th>76</th>\n",
       "      <td>NaN</td>\n",
       "      <td>technology</td>\n",
       "      <td></td>\n",
       "      <td>t2_bf38q9nm</td>\n",
       "      <td>False</td>\n",
       "      <td>None</td>\n",
       "      <td>0</td>\n",
       "      <td>False</td>\n",
       "      <td>Musk, Twitter CEO spar over bot accounts</td>\n",
       "      <td>r/technology</td>\n",
       "      <td>...</td>\n",
       "      <td>None</td>\n",
       "      <td>/r/technology/comments/ur2j9k/musk_twitter_ceo...</td>\n",
       "      <td>all_ads</td>\n",
       "      <td>False</td>\n",
       "      <td>https://thehill.com/policy/technology/</td>\n",
       "      <td>11996262</td>\n",
       "      <td>1.652726e+09</td>\n",
       "      <td>0</td>\n",
       "      <td>None</td>\n",
       "      <td>False</td>\n",
       "    </tr>\n",
       "    <tr>\n",
       "      <th>77</th>\n",
       "      <td>NaN</td>\n",
       "      <td>technology</td>\n",
       "      <td></td>\n",
       "      <td>t2_jrya2nvx</td>\n",
       "      <td>False</td>\n",
       "      <td>None</td>\n",
       "      <td>0</td>\n",
       "      <td>False</td>\n",
       "      <td>Humans vs. DALL·E — Where do human artists fit...</td>\n",
       "      <td>r/technology</td>\n",
       "      <td>...</td>\n",
       "      <td>None</td>\n",
       "      <td>/r/technology/comments/uow3vs/humans_vs_dalle_...</td>\n",
       "      <td>all_ads</td>\n",
       "      <td>False</td>\n",
       "      <td>https://www.surgehq.ai/blog/humans-vs-dall-e</td>\n",
       "      <td>11973859</td>\n",
       "      <td>1.652461e+09</td>\n",
       "      <td>0</td>\n",
       "      <td>None</td>\n",
       "      <td>False</td>\n",
       "    </tr>\n",
       "  </tbody>\n",
       "</table>\n",
       "<p>103 rows × 1 columns</p>\n",
       "</div>"
      ],
      "text/plain": [
       "        VarCharValue\n",
       "0    approved_at_utc\n",
       "1          subreddit\n",
       "2           selftext\n",
       "3    author_fullname\n",
       "4              saved\n",
       "..               ...\n",
       "98          is_video\n",
       "99              date\n",
       "100             year\n",
       "101            month\n",
       "102              day\n",
       "\n",
       "[103 rows x 1 columns]"
      ]
     },
     "execution_count": 28,
     "metadata": {},
     "output_type": "execute_result"
    }
   ],
   "source": [
    "pd.DataFrame.from_dict(df, orient = \"columns\")"
   ]
  },
  {
   "cell_type": "markdown",
   "metadata": {},
   "source": [
    "## technology"
   ]
  },
  {
   "cell_type": "code",
   "execution_count": 5,
   "metadata": {},
   "outputs": [
    {
     "name": "stderr",
     "output_type": "stream",
     "text": [
      "                                                                                \r"
     ]
    },
    {
     "data": {
      "text/html": [
       "<table><tr style=\"border-bottom: 1px solid\"><td style=\"font-weight: bold\">post_date</td><td style=\"font-weight: bold\">count(1)</td></tr><tr><td>2022-05-11</td><td>3</td></tr><tr><td>2022-05-12</td><td>32</td></tr><tr><td>2022-05-13</td><td>27</td></tr><tr><td>2022-05-16</td><td>15</td></tr><tr><td>2022-06-14</td><td>43</td></tr><tr><td>2022-06-15</td><td>42</td></tr><tr><td>2022-06-16</td><td>41</td></tr><tr><td>2022-06-17</td><td>22</td></tr><tr><td>2022-06-18</td><td>15</td></tr><tr><td>2022-06-19</td><td>37</td></tr><tr><td>2022-06-20</td><td>27</td></tr><tr><td>2022-06-21</td><td>41</td></tr><tr><td>2022-06-22</td><td>63</td></tr><tr><td>2022-06-23</td><td>38</td></tr><tr><td>2022-06-24</td><td>31</td></tr><tr><td>2022-06-25</td><td>16</td></tr></table>"
      ],
      "text/plain": [
       "<IPython.core.display.HTML object>"
      ]
     },
     "execution_count": 5,
     "metadata": {},
     "output_type": "execute_result"
    }
   ],
   "source": [
    "%%sparksql\n",
    "\n",
    "select post_date, count(*) from reddit_technology \n",
    "group by post_date \n",
    "order by post_date asc"
   ]
  },
  {
   "cell_type": "code",
   "execution_count": 4,
   "metadata": {},
   "outputs": [
    {
     "name": "stderr",
     "output_type": "stream",
     "text": [
      "                                                                                \r"
     ]
    },
    {
     "data": {
      "text/html": [
       "<table><tr style=\"border-bottom: 1px solid\"><td style=\"font-weight: bold\">approved_at_utc</td><td style=\"font-weight: bold\">subreddit</td><td style=\"font-weight: bold\">selftext</td><td style=\"font-weight: bold\">author_fullname</td><td style=\"font-weight: bold\">saved</td><td style=\"font-weight: bold\">mod_reason_title</td><td style=\"font-weight: bold\">gilded</td><td style=\"font-weight: bold\">clicked</td><td style=\"font-weight: bold\">title</td><td style=\"font-weight: bold\">subreddit_name_prefixed</td><td style=\"font-weight: bold\">hidden</td><td style=\"font-weight: bold\">pwls</td><td style=\"font-weight: bold\">link_flair_css_class</td><td style=\"font-weight: bold\">downs</td><td style=\"font-weight: bold\">thumbnail_height</td><td style=\"font-weight: bold\">top_awarded_type</td><td style=\"font-weight: bold\">hide_score</td><td style=\"font-weight: bold\">name</td><td style=\"font-weight: bold\">quarantine</td><td style=\"font-weight: bold\">link_flair_text_color</td><td style=\"font-weight: bold\">upvote_ratio</td><td style=\"font-weight: bold\">author_flair_background_color</td><td style=\"font-weight: bold\">ups</td><td style=\"font-weight: bold\">total_awards_received</td><td style=\"font-weight: bold\">thumbnail_width</td><td style=\"font-weight: bold\">author_flair_template_id</td><td style=\"font-weight: bold\">is_original_content</td><td style=\"font-weight: bold\">secure_media</td><td style=\"font-weight: bold\">is_reddit_media_domain</td><td style=\"font-weight: bold\">is_meta</td><td style=\"font-weight: bold\">category</td><td style=\"font-weight: bold\">link_flair_text</td><td style=\"font-weight: bold\">can_mod_post</td><td style=\"font-weight: bold\">score</td><td style=\"font-weight: bold\">approved_by</td><td style=\"font-weight: bold\">is_created_from_ads_ui</td><td style=\"font-weight: bold\">author_premium</td><td style=\"font-weight: bold\">thumbnail</td><td style=\"font-weight: bold\">edited</td><td style=\"font-weight: bold\">author_flair_css_class</td><td style=\"font-weight: bold\">post_hint</td><td style=\"font-weight: bold\">content_categories</td><td style=\"font-weight: bold\">is_self</td><td style=\"font-weight: bold\">subreddit_type</td><td style=\"font-weight: bold\">created</td><td style=\"font-weight: bold\">link_flair_type</td><td style=\"font-weight: bold\">wls</td><td style=\"font-weight: bold\">removed_by_category</td><td style=\"font-weight: bold\">banned_by</td><td style=\"font-weight: bold\">author_flair_type</td><td style=\"font-weight: bold\">domain</td><td style=\"font-weight: bold\">allow_live_comments</td><td style=\"font-weight: bold\">selftext_html</td><td style=\"font-weight: bold\">likes</td><td style=\"font-weight: bold\">suggested_sort</td><td style=\"font-weight: bold\">banned_at_utc</td><td style=\"font-weight: bold\">url_overridden_by_dest</td><td style=\"font-weight: bold\">view_count</td><td style=\"font-weight: bold\">archived</td><td style=\"font-weight: bold\">no_follow</td><td style=\"font-weight: bold\">is_crosspostable</td><td style=\"font-weight: bold\">pinned</td><td style=\"font-weight: bold\">over_18</td><td style=\"font-weight: bold\">media_only</td><td style=\"font-weight: bold\">link_flair_template_id</td><td style=\"font-weight: bold\">can_gild</td><td style=\"font-weight: bold\">spoiler</td><td style=\"font-weight: bold\">locked</td><td style=\"font-weight: bold\">author_flair_text</td><td style=\"font-weight: bold\">visited</td><td style=\"font-weight: bold\">removed_by</td><td style=\"font-weight: bold\">mod_note</td><td style=\"font-weight: bold\">distinguished</td><td style=\"font-weight: bold\">subreddit_id</td><td style=\"font-weight: bold\">author_is_blocked</td><td style=\"font-weight: bold\">mod_reason_by</td><td style=\"font-weight: bold\">num_reports</td><td style=\"font-weight: bold\">removal_reason</td><td style=\"font-weight: bold\">link_flair_background_color</td><td style=\"font-weight: bold\">id</td><td style=\"font-weight: bold\">is_robot_indexable</td><td style=\"font-weight: bold\">report_reasons</td><td style=\"font-weight: bold\">author</td><td style=\"font-weight: bold\">discussion_type</td><td style=\"font-weight: bold\">num_comments</td><td style=\"font-weight: bold\">send_replies</td><td style=\"font-weight: bold\">whitelist_status</td><td style=\"font-weight: bold\">contest_mode</td><td style=\"font-weight: bold\">author_patreon_flair</td><td style=\"font-weight: bold\">author_flair_text_color</td><td style=\"font-weight: bold\">permalink</td><td style=\"font-weight: bold\">parent_whitelist_status</td><td style=\"font-weight: bold\">stickied</td><td style=\"font-weight: bold\">url</td><td style=\"font-weight: bold\">subreddit_subscribers</td><td style=\"font-weight: bold\">created_utc</td><td style=\"font-weight: bold\">num_crossposts</td><td style=\"font-weight: bold\">media</td><td style=\"font-weight: bold\">is_video</td><td style=\"font-weight: bold\">post_date</td></tr><tr><td>null</td><td>technology</td><td></td><td>t2_8pgkdmnc</td><td>False</td><td>null</td><td>0</td><td>False</td><td>Tech is hitting the brakes on hiring even as other industries keep adding jobs</td><td>r/technology</td><td>False</td><td>6</td><td>general</td><td>0</td><td>93</td><td>null</td><td>True</td><td>t3_unm15z</td><td>False</td><td>dark</td><td>1.0</td><td>null</td><td>3</td><td>0</td><td>140</td><td>null</td><td>False</td><td>null</td><td>False</td><td>False</td><td>null</td><td>Business</td><td>False</td><td>3</td><td>null</td><td>False</td><td>False</td><td>https://a.thumbs.redditmedia.com/0YC2GoTdt-YfMeBaTlYL2FNrrNVCUUSfaPFXbgnN4Q4.jpg</td><td>False</td><td>null</td><td>link</td><td>null</td><td>False</td><td>public</td><td>2022-05-11 22:38:01.162752</td><td>text</td><td>6</td><td>null</td><td>null</td><td>text</td><td>cnbc.com</td><td>False</td><td>null</td><td>null</td><td>null</td><td>null</td><td>https://www.cnbc.com/amp/2022/05/11/tech-layoffs-hiring-slowdown-stand-out-in-red-hot-job-market.html</td><td>null</td><td>False</td><td>False</td><td>True</td><td>False</td><td>False</td><td>False</td><td>49cac61c-a816-11e9-be34-0ebbab5890a0</td><td>True</td><td>False</td><td>False</td><td>null</td><td>False</td><td>null</td><td>null</td><td>null</td><td>t5_2qh16</td><td>False</td><td>null</td><td>null</td><td>null</td><td></td><td>unm15z</td><td>True</td><td>null</td><td>saurin212</td><td>null</td><td>1</td><td>True</td><td>all_ads</td><td>False</td><td>False</td><td>null</td><td>/r/technology/comments/unm15z/tech_is_hitting_the_brakes_on_hiring_even_as/</td><td>all_ads</td><td>False</td><td>https://www.cnbc.com/amp/2022/05/11/tech-layoffs-hiring-slowdown-stand-out-in-red-hot-job-market.html</td><td>11961363</td><td>2022-05-11 22:38:01.162752</td><td>0</td><td>null</td><td>False</td><td>2022-05-11</td></tr><tr><td>null</td><td>technology</td><td></td><td>t2_50rzo</td><td>False</td><td>null</td><td>0</td><td>False</td><td>Appeals court lifts stay, allows TX social media law to go into effect</td><td>r/technology</td><td>False</td><td>6</td><td>general</td><td>0</td><td>70</td><td>null</td><td>True</td><td>t3_unm8vy</td><td>False</td><td>dark</td><td>1.0</td><td>null</td><td>3</td><td>0</td><td>140</td><td>null</td><td>False</td><td>null</td><td>False</td><td>False</td><td>null</td><td>Politics</td><td>False</td><td>3</td><td>null</td><td>False</td><td>False</td><td>https://b.thumbs.redditmedia.com/nQHl8WXhGBisDJXlmDGVXpNRldbpWMH1xldfflbxWAc.jpg</td><td>False</td><td>null</td><td>link</td><td>null</td><td>False</td><td>public</td><td>2022-05-11 22:49:12.251392</td><td>text</td><td>6</td><td>null</td><td>null</td><td>text</td><td>protocol.com</td><td>False</td><td>null</td><td>null</td><td>null</td><td>null</td><td>https://www.protocol.com/bulletins/texas-bias-law-proceeds</td><td>null</td><td>False</td><td>True</td><td>True</td><td>False</td><td>False</td><td>False</td><td>70f05306-a816-11e9-b261-0e41843d240e</td><td>True</td><td>False</td><td>False</td><td>null</td><td>False</td><td>null</td><td>null</td><td>null</td><td>t5_2qh16</td><td>False</td><td>null</td><td>null</td><td>null</td><td></td><td>unm8vy</td><td>True</td><td>null</td><td>macnbc</td><td>null</td><td>0</td><td>True</td><td>all_ads</td><td>False</td><td>False</td><td>null</td><td>/r/technology/comments/unm8vy/appeals_court_lifts_stay_allows_tx_social_media/</td><td>all_ads</td><td>False</td><td>https://www.protocol.com/bulletins/texas-bias-law-proceeds</td><td>11961400</td><td>2022-05-11 22:49:12.251392</td><td>0</td><td>null</td><td>False</td><td>2022-05-11</td></tr><tr><td>null</td><td>technology</td><td></td><td>t2_5w9r3</td><td>False</td><td>null</td><td>0</td><td>False</td><td>Court lets Texas restrictions on social platform content moderation take effect</td><td>r/technology</td><td>False</td><td>6</td><td>general</td><td>0</td><td>73</td><td>null</td><td>True</td><td>t3_unmsdt</td><td>False</td><td>dark</td><td>1.0</td><td>null</td><td>2</td><td>0</td><td>140</td><td>null</td><td>False</td><td>null</td><td>False</td><td>False</td><td>null</td><td>Social Media</td><td>False</td><td>2</td><td>null</td><td>False</td><td>True</td><td>https://b.thumbs.redditmedia.com/ncGR-bgoKIUbuE-gMQY2lAODE5fyDOww-ZF78xEBk0s.jpg</td><td>False</td><td>null</td><td>link</td><td>null</td><td>False</td><td>public</td><td>2022-05-11 23:18:17.081856</td><td>text</td><td>6</td><td>null</td><td>null</td><td>text</td><td>theverge.com</td><td>False</td><td>null</td><td>null</td><td>null</td><td>null</td><td>https://www.theverge.com/2022/5/11/23067002/texas-netchoice-paxton-hb20-social-media-law-fifth-circuit-appeals-court-grant-stay-ruling</td><td>null</td><td>False</td><td>False</td><td>True</td><td>False</td><td>False</td><td>False</td><td>7d4d8376-a816-11e9-a92d-0e6b9fa95170</td><td>True</td><td>False</td><td>False</td><td>null</td><td>False</td><td>null</td><td>null</td><td>null</td><td>t5_2qh16</td><td>False</td><td>null</td><td>null</td><td>null</td><td></td><td>unmsdt</td><td>True</td><td>null</td><td>habichuelacondulce</td><td>null</td><td>0</td><td>True</td><td>all_ads</td><td>False</td><td>False</td><td>null</td><td>/r/technology/comments/unmsdt/court_lets_texas_restrictions_on_social_platform/</td><td>all_ads</td><td>False</td><td>https://www.theverge.com/2022/5/11/23067002/texas-netchoice-paxton-hb20-social-media-law-fifth-circuit-appeals-court-grant-stay-ruling</td><td>11961514</td><td>2022-05-11 23:18:17.081856</td><td>0</td><td>null</td><td>False</td><td>2022-05-11</td></tr><tr><td>null</td><td>technology</td><td></td><td>t2_c92d05jm</td><td>False</td><td>null</td><td>0</td><td>False</td><td>Google Revamps Search, Maps Features for Younger, TikTok-Savvy Users</td><td>r/technology</td><td>False</td><td>6</td><td>general</td><td>0</td><td>70</td><td>null</td><td>True</td><td>t3_uo08gz</td><td>False</td><td>dark</td><td>1.0</td><td>null</td><td>2</td><td>0</td><td>140</td><td>null</td><td>False</td><td>null</td><td>False</td><td>False</td><td>null</td><td>Social Media</td><td>False</td><td>2</td><td>null</td><td>False</td><td>True</td><td>https://b.thumbs.redditmedia.com/652EQGu3myUQwgNU6XGiIApm3ikZFsdueA7x_vcOSvc.jpg</td><td>False</td><td>null</td><td>link</td><td>null</td><td>False</td><td>public</td><td>2022-05-12 12:45:49.681664</td><td>text</td><td>6</td><td>null</td><td>null</td><td>text</td><td>businessinsider.com</td><td>False</td><td>null</td><td>null</td><td>null</td><td>null</td><td>https://www.businessinsider.com/google-revamps-search-maps-features-younger-tik-tok-savvy-users-2022-5</td><td>null</td><td>False</td><td>False</td><td>True</td><td>False</td><td>False</td><td>False</td><td>7d4d8376-a816-11e9-a92d-0e6b9fa95170</td><td>True</td><td>False</td><td>False</td><td>null</td><td>False</td><td>null</td><td>null</td><td>null</td><td>t5_2qh16</td><td>False</td><td>null</td><td>null</td><td>null</td><td></td><td>uo08gz</td><td>True</td><td>null</td><td>HLMenckenFan</td><td>null</td><td>1</td><td>True</td><td>all_ads</td><td>False</td><td>False</td><td>null</td><td>/r/technology/comments/uo08gz/google_revamps_search_maps_features_for_younger/</td><td>all_ads</td><td>False</td><td>https://www.businessinsider.com/google-revamps-search-maps-features-younger-tik-tok-savvy-users-2022-5</td><td>11964987</td><td>2022-05-12 12:45:49.681664</td><td>0</td><td>null</td><td>False</td><td>2022-05-12</td></tr><tr><td>null</td><td>technology</td><td></td><td>t2_4layskvl</td><td>False</td><td>null</td><td>0</td><td>False</td><td>Tesla CEO Elon Musk dismisses hydrogen as tool for energy storage</td><td>r/technology</td><td>False</td><td>6</td><td>general</td><td>0</td><td>78</td><td>null</td><td>True</td><td>t3_uo0fkj</td><td>False</td><td>dark</td><td>0.33000001311302185</td><td>null</td><td>0</td><td>0</td><td>140</td><td>null</td><td>False</td><td>null</td><td>False</td><td>False</td><td>null</td><td>Energy</td><td>False</td><td>0</td><td>null</td><td>False</td><td>True</td><td>https://b.thumbs.redditmedia.com/rHLq9sbrbnxCEvDW5PLJMBMBrqEsOuq-TlFlSeLtMic.jpg</td><td>False</td><td>null</td><td>link</td><td>null</td><td>False</td><td>public</td><td>2022-05-12 12:57:00.770304</td><td>text</td><td>6</td><td>null</td><td>null</td><td>text</td><td>cnbc.com</td><td>False</td><td>null</td><td>null</td><td>null</td><td>null</td><td>https://www.cnbc.com/2022/05/12/tesla-ceo-elon-musk-dismisses-hydrogen-as-tool-for-energy-storage.html#Echobox=1652353065</td><td>null</td><td>False</td><td>True</td><td>True</td><td>False</td><td>False</td><td>False</td><td>4f78ed5a-a816-11e9-85c4-0e6d89cfa908</td><td>True</td><td>False</td><td>False</td><td>null</td><td>False</td><td>null</td><td>null</td><td>null</td><td>t5_2qh16</td><td>False</td><td>null</td><td>null</td><td>null</td><td></td><td>uo0fkj</td><td>True</td><td>null</td><td>Vercitti</td><td>null</td><td>0</td><td>True</td><td>all_ads</td><td>False</td><td>False</td><td>null</td><td>/r/technology/comments/uo0fkj/tesla_ceo_elon_musk_dismisses_hydrogen_as_tool/</td><td>all_ads</td><td>False</td><td>https://www.cnbc.com/2022/05/12/tesla-ceo-elon-musk-dismisses-hydrogen-as-tool-for-energy-storage.html#Echobox=1652353065</td><td>11965022</td><td>2022-05-12 12:57:00.770304</td><td>0</td><td>null</td><td>False</td><td>2022-05-12</td></tr><tr><td>null</td><td>technology</td><td></td><td>t2_mvs2r6w</td><td>False</td><td>null</td><td>0</td><td>False</td><td>Even Microsoft thinks you should uninstall the latest Windows 11 update</td><td>r/technology</td><td>False</td><td>6</td><td>general</td><td>0</td><td>78</td><td>null</td><td>True</td><td>t3_uo0kjc</td><td>False</td><td>dark</td><td>1.0</td><td>null</td><td>1</td><td>0</td><td>140</td><td>null</td><td>False</td><td>null</td><td>False</td><td>False</td><td>null</td><td>Software</td><td>False</td><td>1</td><td>null</td><td>False</td><td>False</td><td>https://b.thumbs.redditmedia.com/otzy0NAOZEas7GudkDPXhONDFfyaxtniez1e7G3Vt-g.jpg</td><td>False</td><td>null</td><td>link</td><td>null</td><td>False</td><td>public</td><td>2022-05-12 13:03:43.423488</td><td>text</td><td>6</td><td>null</td><td>null</td><td>text</td><td>techradar.com</td><td>False</td><td>null</td><td>null</td><td>null</td><td>null</td><td>https://www.techradar.com/news/even-microsoft-thinks-you-should-uninstall-the-latest-windows-11-update</td><td>null</td><td>False</td><td>True</td><td>True</td><td>False</td><td>False</td><td>False</td><td>85c4d73e-a816-11e9-95d5-0ee6b96491cc</td><td>True</td><td>False</td><td>False</td><td>null</td><td>False</td><td>null</td><td>null</td><td>null</td><td>t5_2qh16</td><td>False</td><td>null</td><td>null</td><td>null</td><td></td><td>uo0kjc</td><td>True</td><td>null</td><td>WPHero</td><td>null</td><td>0</td><td>True</td><td>all_ads</td><td>False</td><td>False</td><td>null</td><td>/r/technology/comments/uo0kjc/even_microsoft_thinks_you_should_uninstall_the/</td><td>all_ads</td><td>False</td><td>https://www.techradar.com/news/even-microsoft-thinks-you-should-uninstall-the-latest-windows-11-update</td><td>11965069</td><td>2022-05-12 13:03:43.423488</td><td>0</td><td>null</td><td>False</td><td>2022-05-12</td></tr><tr><td>null</td><td>technology</td><td></td><td>t2_c92d05jm</td><td>False</td><td>null</td><td>0</td><td>False</td><td>Running Twitter may be much harder than Elon Musk thinks</td><td>r/technology</td><td>False</td><td>6</td><td>general</td><td>0</td><td>93</td><td>null</td><td>True</td><td>t3_uo0oik</td><td>False</td><td>dark</td><td>1.0</td><td>null</td><td>1</td><td>0</td><td>140</td><td>null</td><td>False</td><td>null</td><td>False</td><td>False</td><td>null</td><td>Social Media</td><td>False</td><td>1</td><td>null</td><td>False</td><td>True</td><td>https://a.thumbs.redditmedia.com/_qbWttzCtSZY8ZeO9i4xlHEo__sDT8euFaoegTvONN0.jpg</td><td>False</td><td>null</td><td>link</td><td>null</td><td>False</td><td>public</td><td>2022-05-12 13:08:11.858944</td><td>text</td><td>6</td><td>null</td><td>null</td><td>text</td><td>apnews.com</td><td>False</td><td>null</td><td>null</td><td>null</td><td>null</td><td>https://apnews.com/article/elon-musk-technology-donald-trump-cc6e43c5807fe1823701cf4b39012c3e</td><td>null</td><td>False</td><td>True</td><td>True</td><td>False</td><td>False</td><td>False</td><td>7d4d8376-a816-11e9-a92d-0e6b9fa95170</td><td>True</td><td>False</td><td>False</td><td>null</td><td>False</td><td>null</td><td>null</td><td>null</td><td>t5_2qh16</td><td>False</td><td>null</td><td>null</td><td>null</td><td></td><td>uo0oik</td><td>True</td><td>null</td><td>HLMenckenFan</td><td>null</td><td>0</td><td>True</td><td>all_ads</td><td>False</td><td>False</td><td>null</td><td>/r/technology/comments/uo0oik/running_twitter_may_be_much_harder_than_elon_musk/</td><td>all_ads</td><td>False</td><td>https://apnews.com/article/elon-musk-technology-donald-trump-cc6e43c5807fe1823701cf4b39012c3e</td><td>11965093</td><td>2022-05-12 13:08:11.858944</td><td>0</td><td>null</td><td>False</td><td>2022-05-12</td></tr><tr><td>null</td><td>technology</td><td></td><td>t2_guf36</td><td>False</td><td>null</td><td>0</td><td>False</td><td>California regulators set to vote on desalination plant</td><td>r/technology</td><td>False</td><td>6</td><td>general</td><td>0</td><td>73</td><td>null</td><td>True</td><td>t3_uo0pyg</td><td>False</td><td>dark</td><td>1.0</td><td>null</td><td>1</td><td>0</td><td>140</td><td>null</td><td>False</td><td>null</td><td>False</td><td>False</td><td>null</td><td>Business</td><td>False</td><td>1</td><td>null</td><td>False</td><td>True</td><td>https://b.thumbs.redditmedia.com/S7HjBssounQQwNNJPk8zgSS2UN88b9LQZT7rEb_OmzQ.jpg</td><td>False</td><td>null</td><td>link</td><td>null</td><td>False</td><td>public</td><td>2022-05-12 13:10:26.076672</td><td>text</td><td>6</td><td>null</td><td>null</td><td>text</td><td>reuters.com</td><td>False</td><td>null</td><td>null</td><td>null</td><td>null</td><td>https://www.reuters.com/world/us/california-regulators-set-vote-desalination-plant-2022-05-12/?rpc=401&amp;amp;</td><td>null</td><td>False</td><td>True</td><td>True</td><td>False</td><td>False</td><td>False</td><td>49cac61c-a816-11e9-be34-0ebbab5890a0</td><td>True</td><td>False</td><td>False</td><td>null</td><td>False</td><td>null</td><td>null</td><td>null</td><td>t5_2qh16</td><td>False</td><td>null</td><td>null</td><td>null</td><td></td><td>uo0pyg</td><td>True</td><td>null</td><td>Wagamaga</td><td>null</td><td>0</td><td>True</td><td>all_ads</td><td>False</td><td>False</td><td>null</td><td>/r/technology/comments/uo0pyg/california_regulators_set_to_vote_on_desalination/</td><td>all_ads</td><td>False</td><td>https://www.reuters.com/world/us/california-regulators-set-vote-desalination-plant-2022-05-12/?rpc=401&amp;amp;</td><td>11965107</td><td>2022-05-12 13:10:26.076672</td><td>0</td><td>null</td><td>False</td><td>2022-05-12</td></tr><tr><td>null</td><td>technology</td><td></td><td>t2_7ccf</td><td>False</td><td>null</td><td>0</td><td>False</td><td>Royal Mail drone fleet takes to the air for remote Scottish island deliveries - A fleet of hi-tech drones will be deployed to the skies over the Scotland to ensure the mail gets to islanders on time.</td><td>r/technology</td><td>False</td><td>6</td><td>general</td><td>0</td><td>93</td><td>null</td><td>True</td><td>t3_uo0r18</td><td>False</td><td>dark</td><td>1.0</td><td>null</td><td>3</td><td>0</td><td>140</td><td>null</td><td>False</td><td>null</td><td>False</td><td>False</td><td>null</td><td>Robotics/Automation</td><td>False</td><td>3</td><td>null</td><td>False</td><td>True</td><td>https://b.thumbs.redditmedia.com/XNFuHinae5U7M9HgZgzG-t2iIgL7Y660dNB6jA7Rztc.jpg</td><td>False</td><td>null</td><td>link</td><td>null</td><td>False</td><td>public</td><td>2022-05-12 13:10:26.076672</td><td>text</td><td>6</td><td>null</td><td>null</td><td>text</td><td>edinburghnews.scotsman.com</td><td>False</td><td>null</td><td>null</td><td>null</td><td>null</td><td>https://www.edinburghnews.scotsman.com/news/people/royal-mail-drone-fleet-takes-to-the-air-for-remote-scottish-island-deliveries-3689487</td><td>null</td><td>False</td><td>False</td><td>True</td><td>False</td><td>False</td><td>False</td><td>776c82c2-a816-11e9-8179-0ec6fe24d256</td><td>True</td><td>False</td><td>False</td><td>null</td><td>False</td><td>null</td><td>null</td><td>null</td><td>t5_2qh16</td><td>False</td><td>null</td><td>null</td><td>null</td><td></td><td>uo0r18</td><td>True</td><td>null</td><td>speckz</td><td>null</td><td>0</td><td>True</td><td>all_ads</td><td>False</td><td>False</td><td>null</td><td>/r/technology/comments/uo0r18/royal_mail_drone_fleet_takes_to_the_air_for/</td><td>all_ads</td><td>False</td><td>https://www.edinburghnews.scotsman.com/news/people/royal-mail-drone-fleet-takes-to-the-air-for-remote-scottish-island-deliveries-3689487</td><td>11965116</td><td>2022-05-12 13:10:26.076672</td><td>0</td><td>null</td><td>False</td><td>2022-05-12</td></tr><tr><td>null</td><td>technology</td><td></td><td>t2_lyakqkc6</td><td>False</td><td>null</td><td>0</td><td>False</td><td>America is losing the quantum race with China | Opinion</td><td>r/technology</td><td>False</td><td>6</td><td>general</td><td>0</td><td>93</td><td>null</td><td>True</td><td>t3_uo114t</td><td>False</td><td>dark</td><td>1.0</td><td>null</td><td>1</td><td>0</td><td>140</td><td>null</td><td>False</td><td>null</td><td>False</td><td>False</td><td>null</td><td>Hardware</td><td>False</td><td>1</td><td>null</td><td>False</td><td>True</td><td>https://b.thumbs.redditmedia.com/a0TYWKj7YnvUhb1yCMKa274Dwqurv9hvKWZYxm-iGes.jpg</td><td>False</td><td>null</td><td>link</td><td>null</td><td>False</td><td>public</td><td>2022-05-12 13:23:51.383040</td><td>text</td><td>6</td><td>null</td><td>null</td><td>text</td><td>newsweek.com</td><td>False</td><td>null</td><td>null</td><td>null</td><td>null</td><td>https://www.newsweek.com/america-losing-quantum-race-china-opinion-1705642</td><td>null</td><td>False</td><td>True</td><td>True</td><td>False</td><td>False</td><td>False</td><td>51f3078c-a816-11e9-914b-0e1d353d3716</td><td>True</td><td>False</td><td>False</td><td>null</td><td>False</td><td>null</td><td>null</td><td>null</td><td>t5_2qh16</td><td>False</td><td>null</td><td>null</td><td>null</td><td></td><td>uo114t</td><td>True</td><td>null</td><td>OGistorian</td><td>null</td><td>1</td><td>True</td><td>all_ads</td><td>False</td><td>False</td><td>null</td><td>/r/technology/comments/uo114t/america_is_losing_the_quantum_race_with_china/</td><td>all_ads</td><td>False</td><td>https://www.newsweek.com/america-losing-quantum-race-china-opinion-1705642</td><td>11965178</td><td>2022-05-12 13:23:51.383040</td><td>0</td><td>null</td><td>False</td><td>2022-05-12</td></tr></table>"
      ],
      "text/plain": [
       "<IPython.core.display.HTML object>"
      ]
     },
     "execution_count": 4,
     "metadata": {},
     "output_type": "execute_result"
    }
   ],
   "source": [
    "%%sparksql\n",
    "\n",
    "select * from reddit_technology order by created_utc asc limit 10"
   ]
  },
  {
   "cell_type": "markdown",
   "metadata": {},
   "source": [
    "## news"
   ]
  },
  {
   "cell_type": "code",
   "execution_count": 12,
   "metadata": {},
   "outputs": [
    {
     "name": "stderr",
     "output_type": "stream",
     "text": [
      "                                                                                \r"
     ]
    },
    {
     "data": {
      "text/html": [
       "<table><tr style=\"border-bottom: 1px solid\"><td style=\"font-weight: bold\">post_date</td><td style=\"font-weight: bold\">count(1)</td></tr><tr><td>2022-06-17</td><td>14</td></tr><tr><td>2022-06-18</td><td>43</td></tr><tr><td>2022-06-19</td><td>36</td></tr><tr><td>2022-06-20</td><td>24</td></tr><tr><td>2022-06-21</td><td>24</td></tr><tr><td>2022-06-22</td><td>34</td></tr><tr><td>2022-06-23</td><td>29</td></tr><tr><td>2022-06-24</td><td>36</td></tr><tr><td>2022-06-25</td><td>28</td></tr></table>"
      ],
      "text/plain": [
       "<IPython.core.display.HTML object>"
      ]
     },
     "execution_count": 12,
     "metadata": {},
     "output_type": "execute_result"
    }
   ],
   "source": [
    "%%sparksql\n",
    "\n",
    "select post_date, count(*) from reddit_news\n",
    "group by post_date \n",
    "order by post_date asc"
   ]
  },
  {
   "cell_type": "code",
   "execution_count": 6,
   "metadata": {},
   "outputs": [
    {
     "name": "stderr",
     "output_type": "stream",
     "text": [
      "                                                                                \r"
     ]
    },
    {
     "data": {
      "text/html": [
       "<table><tr style=\"border-bottom: 1px solid\"><td style=\"font-weight: bold\">approved_at_utc</td><td style=\"font-weight: bold\">subreddit</td><td style=\"font-weight: bold\">selftext</td><td style=\"font-weight: bold\">author_fullname</td><td style=\"font-weight: bold\">saved</td><td style=\"font-weight: bold\">mod_reason_title</td><td style=\"font-weight: bold\">gilded</td><td style=\"font-weight: bold\">clicked</td><td style=\"font-weight: bold\">title</td><td style=\"font-weight: bold\">subreddit_name_prefixed</td><td style=\"font-weight: bold\">hidden</td><td style=\"font-weight: bold\">pwls</td><td style=\"font-weight: bold\">link_flair_css_class</td><td style=\"font-weight: bold\">downs</td><td style=\"font-weight: bold\">thumbnail_height</td><td style=\"font-weight: bold\">top_awarded_type</td><td style=\"font-weight: bold\">hide_score</td><td style=\"font-weight: bold\">name</td><td style=\"font-weight: bold\">quarantine</td><td style=\"font-weight: bold\">link_flair_text_color</td><td style=\"font-weight: bold\">upvote_ratio</td><td style=\"font-weight: bold\">author_flair_background_color</td><td style=\"font-weight: bold\">ups</td><td style=\"font-weight: bold\">total_awards_received</td><td style=\"font-weight: bold\">thumbnail_width</td><td style=\"font-weight: bold\">author_flair_template_id</td><td style=\"font-weight: bold\">is_original_content</td><td style=\"font-weight: bold\">secure_media</td><td style=\"font-weight: bold\">is_reddit_media_domain</td><td style=\"font-weight: bold\">is_meta</td><td style=\"font-weight: bold\">category</td><td style=\"font-weight: bold\">link_flair_text</td><td style=\"font-weight: bold\">can_mod_post</td><td style=\"font-weight: bold\">score</td><td style=\"font-weight: bold\">approved_by</td><td style=\"font-weight: bold\">is_created_from_ads_ui</td><td style=\"font-weight: bold\">author_premium</td><td style=\"font-weight: bold\">thumbnail</td><td style=\"font-weight: bold\">edited</td><td style=\"font-weight: bold\">author_flair_css_class</td><td style=\"font-weight: bold\">post_hint</td><td style=\"font-weight: bold\">content_categories</td><td style=\"font-weight: bold\">is_self</td><td style=\"font-weight: bold\">subreddit_type</td><td style=\"font-weight: bold\">created</td><td style=\"font-weight: bold\">link_flair_type</td><td style=\"font-weight: bold\">wls</td><td style=\"font-weight: bold\">removed_by_category</td><td style=\"font-weight: bold\">banned_by</td><td style=\"font-weight: bold\">author_flair_type</td><td style=\"font-weight: bold\">domain</td><td style=\"font-weight: bold\">allow_live_comments</td><td style=\"font-weight: bold\">selftext_html</td><td style=\"font-weight: bold\">likes</td><td style=\"font-weight: bold\">suggested_sort</td><td style=\"font-weight: bold\">banned_at_utc</td><td style=\"font-weight: bold\">url_overridden_by_dest</td><td style=\"font-weight: bold\">view_count</td><td style=\"font-weight: bold\">archived</td><td style=\"font-weight: bold\">no_follow</td><td style=\"font-weight: bold\">is_crosspostable</td><td style=\"font-weight: bold\">pinned</td><td style=\"font-weight: bold\">over_18</td><td style=\"font-weight: bold\">media_only</td><td style=\"font-weight: bold\">link_flair_template_id</td><td style=\"font-weight: bold\">can_gild</td><td style=\"font-weight: bold\">spoiler</td><td style=\"font-weight: bold\">locked</td><td style=\"font-weight: bold\">author_flair_text</td><td style=\"font-weight: bold\">visited</td><td style=\"font-weight: bold\">removed_by</td><td style=\"font-weight: bold\">mod_note</td><td style=\"font-weight: bold\">distinguished</td><td style=\"font-weight: bold\">subreddit_id</td><td style=\"font-weight: bold\">author_is_blocked</td><td style=\"font-weight: bold\">mod_reason_by</td><td style=\"font-weight: bold\">num_reports</td><td style=\"font-weight: bold\">removal_reason</td><td style=\"font-weight: bold\">link_flair_background_color</td><td style=\"font-weight: bold\">id</td><td style=\"font-weight: bold\">is_robot_indexable</td><td style=\"font-weight: bold\">report_reasons</td><td style=\"font-weight: bold\">author</td><td style=\"font-weight: bold\">discussion_type</td><td style=\"font-weight: bold\">num_comments</td><td style=\"font-weight: bold\">send_replies</td><td style=\"font-weight: bold\">whitelist_status</td><td style=\"font-weight: bold\">contest_mode</td><td style=\"font-weight: bold\">author_patreon_flair</td><td style=\"font-weight: bold\">author_flair_text_color</td><td style=\"font-weight: bold\">permalink</td><td style=\"font-weight: bold\">parent_whitelist_status</td><td style=\"font-weight: bold\">stickied</td><td style=\"font-weight: bold\">url</td><td style=\"font-weight: bold\">subreddit_subscribers</td><td style=\"font-weight: bold\">created_utc</td><td style=\"font-weight: bold\">num_crossposts</td><td style=\"font-weight: bold\">media</td><td style=\"font-weight: bold\">is_video</td><td style=\"font-weight: bold\">post_date</td></tr><tr><td>null</td><td>news</td><td></td><td>t2_bs1la4xg</td><td>False</td><td>null</td><td>0</td><td>False</td><td>Mortgage rates hit 5.78%, the biggest weekly jump since 1987</td><td>r/news</td><td>False</td><td>6</td><td>null</td><td>0</td><td>null</td><td>null</td><td>True</td><td>t3_ved5yu</td><td>False</td><td>dark</td><td>0.9599999785423279</td><td>null</td><td>54</td><td>0</td><td>null</td><td>null</td><td>False</td><td>null</td><td>False</td><td>False</td><td>null</td><td>null</td><td>False</td><td>54</td><td>null</td><td>False</td><td>False</td><td></td><td>False</td><td>null</td><td>null</td><td>null</td><td>False</td><td>public</td><td>2022-06-17 13:25:27.229440</td><td>text</td><td>6</td><td>null</td><td>null</td><td>text</td><td>cnn.com</td><td>False</td><td>null</td><td>null</td><td>null</td><td>null</td><td>https://www.cnn.com/2022/06/16/homes/mortgage-rates-june-16/index.html</td><td>null</td><td>False</td><td>False</td><td>True</td><td>False</td><td>False</td><td>False</td><td>null</td><td>True</td><td>False</td><td>False</td><td>null</td><td>False</td><td>null</td><td>null</td><td>null</td><td>t5_2qh3l</td><td>False</td><td>null</td><td>null</td><td>null</td><td></td><td>ved5yu</td><td>True</td><td>null</td><td>Dizzy-Noise-583</td><td>null</td><td>16</td><td>True</td><td>all_ads</td><td>False</td><td>False</td><td>null</td><td>/r/news/comments/ved5yu/mortgage_rates_hit_578_the_biggest_weekly_jump/</td><td>all_ads</td><td>False</td><td>https://www.cnn.com/2022/06/16/homes/mortgage-rates-june-16/index.html</td><td>24820150</td><td>2022-06-17 13:25:27.229440</td><td>0</td><td>null</td><td>False</td><td>2022-06-17</td></tr><tr><td>null</td><td>news</td><td></td><td>t2_tlqk8</td><td>False</td><td>null</td><td>0</td><td>False</td><td>West Memphis police investigating Friday shooting incident, 2-year-old dies from injuries</td><td>r/news</td><td>False</td><td>6</td><td>null</td><td>0</td><td>null</td><td>null</td><td>True</td><td>t3_vee3iw</td><td>False</td><td>dark</td><td>1.0</td><td>null</td><td>4</td><td>0</td><td>null</td><td>null</td><td>False</td><td>null</td><td>False</td><td>False</td><td>null</td><td>null</td><td>False</td><td>4</td><td>null</td><td>False</td><td>False</td><td></td><td>False</td><td>null</td><td>null</td><td>null</td><td>False</td><td>public</td><td>2022-06-17 14:10:11.584000</td><td>text</td><td>6</td><td>null</td><td>null</td><td>text</td><td>katv.com</td><td>False</td><td>null</td><td>null</td><td>null</td><td>null</td><td>https://katv.com/news/local/west-memphis-police-investigating-friday-shooting-incident-2-year-old-dies-from-injury-baptist-memorial-hospital-crittenden-crittenden-county-crime-stoppers-crime-scene-interview-witnesses-arkansas-news</td><td>null</td><td>False</td><td>False</td><td>True</td><td>False</td><td>False</td><td>False</td><td>null</td><td>True</td><td>False</td><td>False</td><td>null</td><td>False</td><td>null</td><td>null</td><td>null</td><td>t5_2qh3l</td><td>False</td><td>null</td><td>null</td><td>null</td><td></td><td>vee3iw</td><td>True</td><td>null</td><td>Dillatrack</td><td>null</td><td>0</td><td>True</td><td>all_ads</td><td>False</td><td>False</td><td>null</td><td>/r/news/comments/vee3iw/west_memphis_police_investigating_friday_shooting/</td><td>all_ads</td><td>False</td><td>https://katv.com/news/local/west-memphis-police-investigating-friday-shooting-incident-2-year-old-dies-from-injury-baptist-memorial-hospital-crittenden-crittenden-county-crime-stoppers-crime-scene-interview-witnesses-arkansas-news</td><td>24820176</td><td>2022-06-17 14:10:11.584000</td><td>0</td><td>null</td><td>False</td><td>2022-06-17</td></tr><tr><td>null</td><td>news</td><td></td><td>t2_3qwsyobo</td><td>False</td><td>null</td><td>0</td><td>False</td><td>‘Unacceptable’: Russian warship accused of violating Danish waters</td><td>r/news</td><td>False</td><td>6</td><td>null</td><td>0</td><td>null</td><td>null</td><td>True</td><td>t3_veebzd</td><td>False</td><td>dark</td><td>1.0</td><td>null</td><td>3</td><td>0</td><td>null</td><td>null</td><td>False</td><td>null</td><td>False</td><td>False</td><td>null</td><td>null</td><td>False</td><td>3</td><td>null</td><td>False</td><td>False</td><td></td><td>False</td><td>null</td><td>null</td><td>null</td><td>False</td><td>public</td><td>2022-06-17 14:21:22.672640</td><td>text</td><td>6</td><td>null</td><td>null</td><td>text</td><td>theguardian.com</td><td>False</td><td>null</td><td>null</td><td>null</td><td>null</td><td>https://www.theguardian.com/world/2022/jun/17/unacceptable-russian-warship-accused-of-violating-danish-waters</td><td>null</td><td>False</td><td>False</td><td>True</td><td>False</td><td>False</td><td>False</td><td>null</td><td>True</td><td>False</td><td>False</td><td>null</td><td>False</td><td>null</td><td>null</td><td>null</td><td>t5_2qh3l</td><td>False</td><td>null</td><td>null</td><td>null</td><td></td><td>veebzd</td><td>True</td><td>null</td><td>Bangemkikkoks</td><td>null</td><td>0</td><td>True</td><td>all_ads</td><td>False</td><td>False</td><td>null</td><td>/r/news/comments/veebzd/unacceptable_russian_warship_accused_of_violating/</td><td>all_ads</td><td>False</td><td>https://www.theguardian.com/world/2022/jun/17/unacceptable-russian-warship-accused-of-violating-danish-waters</td><td>24820201</td><td>2022-06-17 14:21:22.672640</td><td>0</td><td>null</td><td>False</td><td>2022-06-17</td></tr><tr><td>null</td><td>news</td><td></td><td>t2_ui5a7</td><td>False</td><td>null</td><td>0</td><td>False</td><td>Family-friendly drag show in Victoria, BC cancelled after threats of a shooting at cafe.</td><td>r/news</td><td>False</td><td>6</td><td>null</td><td>0</td><td>null</td><td>null</td><td>True</td><td>t3_vekszv</td><td>False</td><td>dark</td><td>1.0</td><td>null</td><td>3</td><td>0</td><td>null</td><td>null</td><td>False</td><td>null</td><td>False</td><td>False</td><td>null</td><td>null</td><td>False</td><td>3</td><td>null</td><td>False</td><td>False</td><td></td><td>False</td><td>null</td><td>null</td><td>null</td><td>False</td><td>public</td><td>2022-06-17 17:06:54.784512</td><td>text</td><td>6</td><td>null</td><td>null</td><td>text</td><td>cbc.ca</td><td>False</td><td>null</td><td>null</td><td>null</td><td>null</td><td>https://www.cbc.ca/news/canada/british-columbia/victoria-dragshow-cancelled-1.6491835</td><td>null</td><td>False</td><td>False</td><td>True</td><td>False</td><td>False</td><td>False</td><td>null</td><td>True</td><td>False</td><td>False</td><td>null</td><td>False</td><td>null</td><td>null</td><td>null</td><td>t5_2qh3l</td><td>False</td><td>null</td><td>null</td><td>null</td><td></td><td>vekszv</td><td>True</td><td>null</td><td>Cityofthevikingdead</td><td>null</td><td>0</td><td>True</td><td>all_ads</td><td>False</td><td>False</td><td>null</td><td>/r/news/comments/vekszv/familyfriendly_drag_show_in_victoria_bc_cancelled/</td><td>all_ads</td><td>False</td><td>https://www.cbc.ca/news/canada/british-columbia/victoria-dragshow-cancelled-1.6491835</td><td>24820751</td><td>2022-06-17 17:06:54.784512</td><td>0</td><td>null</td><td>False</td><td>2022-06-17</td></tr><tr><td>null</td><td>news</td><td></td><td>t2_4o1a9lea</td><td>False</td><td>null</td><td>0</td><td>False</td><td>Three Palestinian militants killed amid West Bank clashes with Israeli troops</td><td>r/news</td><td>False</td><td>6</td><td>null</td><td>0</td><td>null</td><td>null</td><td>True</td><td>t3_vel2mv</td><td>False</td><td>dark</td><td>0.4000000059604645</td><td>null</td><td>0</td><td>0</td><td>null</td><td>null</td><td>False</td><td>null</td><td>False</td><td>False</td><td>null</td><td>null</td><td>False</td><td>0</td><td>null</td><td>False</td><td>False</td><td></td><td>False</td><td>null</td><td>null</td><td>null</td><td>False</td><td>public</td><td>2022-06-17 17:15:51.655424</td><td>text</td><td>6</td><td>null</td><td>null</td><td>text</td><td>bbc.com</td><td>False</td><td>null</td><td>null</td><td>null</td><td>null</td><td>https://www.bbc.com/news/world-middle-east-61803198</td><td>null</td><td>False</td><td>True</td><td>True</td><td>False</td><td>False</td><td>False</td><td>null</td><td>True</td><td>False</td><td>False</td><td>null</td><td>False</td><td>null</td><td>null</td><td>null</td><td>t5_2qh3l</td><td>False</td><td>null</td><td>null</td><td>null</td><td></td><td>vel2mv</td><td>True</td><td>null</td><td>GenjaiFukaiMori</td><td>null</td><td>1</td><td>False</td><td>all_ads</td><td>False</td><td>False</td><td>null</td><td>/r/news/comments/vel2mv/three_palestinian_militants_killed_amid_west_bank/</td><td>all_ads</td><td>False</td><td>https://www.bbc.com/news/world-middle-east-61803198</td><td>24820784</td><td>2022-06-17 17:15:51.655424</td><td>0</td><td>null</td><td>False</td><td>2022-06-17</td></tr><tr><td>null</td><td>news</td><td></td><td>t2_5yfpmws6</td><td>False</td><td>null</td><td>0</td><td>False</td><td>Catholic Church strips Middle School of Catholic Status for flying BLM and Pride flags.</td><td>r/news</td><td>False</td><td>6</td><td>null</td><td>0</td><td>null</td><td>null</td><td>True</td><td>t3_velqe5</td><td>False</td><td>dark</td><td>0.8600000143051147</td><td>null</td><td>5</td><td>0</td><td>null</td><td>null</td><td>False</td><td>null</td><td>False</td><td>False</td><td>null</td><td>null</td><td>False</td><td>5</td><td>null</td><td>False</td><td>False</td><td></td><td>False</td><td>null</td><td>null</td><td>null</td><td>False</td><td>public</td><td>2022-06-17 17:47:10.703616</td><td>text</td><td>6</td><td>null</td><td>null</td><td>text</td><td>nbcboston.com</td><td>False</td><td>null</td><td>null</td><td>null</td><td>null</td><td>https://www.nbcboston.com/news/local/catholic-church-strips-worcester-schools-affiliation-over-pride-blm-flags/2750028/</td><td>null</td><td>False</td><td>True</td><td>True</td><td>False</td><td>False</td><td>False</td><td>null</td><td>True</td><td>False</td><td>False</td><td>null</td><td>False</td><td>null</td><td>null</td><td>null</td><td>t5_2qh3l</td><td>False</td><td>null</td><td>null</td><td>null</td><td></td><td>velqe5</td><td>True</td><td>null</td><td>NotaVogon</td><td>null</td><td>1</td><td>True</td><td>all_ads</td><td>False</td><td>False</td><td>null</td><td>/r/news/comments/velqe5/catholic_church_strips_middle_school_of_catholic/</td><td>all_ads</td><td>False</td><td>https://www.nbcboston.com/news/local/catholic-church-strips-worcester-schools-affiliation-over-pride-blm-flags/2750028/</td><td>24820866</td><td>2022-06-17 17:47:10.703616</td><td>0</td><td>null</td><td>False</td><td>2022-06-17</td></tr><tr><td>null</td><td>news</td><td></td><td>t2_4fmkml0w</td><td>False</td><td>null</td><td>0</td><td>False</td><td>Reuters: U.S. lawmakers urge Google to fix abortion searches that steer women to &#x27;fake clinics.&#x27;</td><td>r/news</td><td>False</td><td>6</td><td>null</td><td>0</td><td>null</td><td>null</td><td>True</td><td>t3_vemq56</td><td>False</td><td>null</td><td>1.0</td><td>null</td><td>9</td><td>0</td><td>null</td><td>null</td><td>False</td><td>null</td><td>False</td><td>False</td><td>null</td><td>Soft paywall</td><td>False</td><td>9</td><td>null</td><td>False</td><td>False</td><td></td><td>False</td><td>null</td><td>null</td><td>null</td><td>False</td><td>public</td><td>2022-06-17 18:29:40.840448</td><td>text</td><td>6</td><td>null</td><td>null</td><td>text</td><td>reuters.com</td><td>False</td><td>null</td><td>null</td><td>null</td><td>null</td><td>https://www.reuters.com/legal/transactional/exclusive-us-lawmakers-urge-google-fix-abortion-searches-that-steer-women-fake-2022-06-17/</td><td>null</td><td>False</td><td>False</td><td>True</td><td>False</td><td>False</td><td>False</td><td>null</td><td>True</td><td>False</td><td>False</td><td>null</td><td>False</td><td>null</td><td>null</td><td>null</td><td>t5_2qh3l</td><td>False</td><td>null</td><td>null</td><td>null</td><td>null</td><td>vemq56</td><td>True</td><td>null</td><td>Globalist2</td><td>null</td><td>0</td><td>True</td><td>all_ads</td><td>False</td><td>False</td><td>null</td><td>/r/news/comments/vemq56/reuters_us_lawmakers_urge_google_to_fix_abortion/</td><td>all_ads</td><td>False</td><td>https://www.reuters.com/legal/transactional/exclusive-us-lawmakers-urge-google-fix-abortion-searches-that-steer-women-fake-2022-06-17/</td><td>24820992</td><td>2022-06-17 18:29:40.840448</td><td>0</td><td>null</td><td>False</td><td>2022-06-17</td></tr><tr><td>null</td><td>news</td><td></td><td>t2_br49vrg6</td><td>False</td><td>null</td><td>0</td><td>False</td><td>17 Michigan lawmakers want AG to investigate debunked “2000 Mules” claims</td><td>r/news</td><td>False</td><td>6</td><td>null</td><td>0</td><td>null</td><td>null</td><td>True</td><td>t3_ven85e</td><td>False</td><td>dark</td><td>1.0</td><td>null</td><td>4</td><td>0</td><td>null</td><td>null</td><td>False</td><td>null</td><td>False</td><td>False</td><td>null</td><td>null</td><td>False</td><td>4</td><td>null</td><td>False</td><td>True</td><td></td><td>False</td><td>null</td><td>null</td><td>null</td><td>False</td><td>public</td><td>2022-06-17 18:52:03.017728</td><td>text</td><td>6</td><td>null</td><td>null</td><td>text</td><td>mlive.com</td><td>False</td><td>null</td><td>null</td><td>null</td><td>null</td><td>https://www.mlive.com/public-interest/2022/06/17-michigan-lawmakers-want-ag-to-investigate-debunked-2000-mules-claims.html</td><td>null</td><td>False</td><td>False</td><td>True</td><td>False</td><td>False</td><td>False</td><td>null</td><td>True</td><td>False</td><td>False</td><td>null</td><td>False</td><td>null</td><td>null</td><td>null</td><td>t5_2qh3l</td><td>False</td><td>null</td><td>null</td><td>null</td><td></td><td>ven85e</td><td>True</td><td>null</td><td>RozellaTriggs</td><td>null</td><td>1</td><td>True</td><td>all_ads</td><td>False</td><td>False</td><td>null</td><td>/r/news/comments/ven85e/17_michigan_lawmakers_want_ag_to_investigate/</td><td>all_ads</td><td>False</td><td>https://www.mlive.com/public-interest/2022/06/17-michigan-lawmakers-want-ag-to-investigate-debunked-2000-mules-claims.html</td><td>24821057</td><td>2022-06-17 18:52:03.017728</td><td>0</td><td>null</td><td>False</td><td>2022-06-17</td></tr><tr><td>null</td><td>news</td><td></td><td>t2_asiml</td><td>False</td><td>null</td><td>0</td><td>False</td><td>Woman lit on fire near Kipling subway station in Toronto; male in custody</td><td>r/news</td><td>False</td><td>6</td><td>null</td><td>0</td><td>null</td><td>null</td><td>True</td><td>t3_vene82</td><td>False</td><td>dark</td><td>1.0</td><td>null</td><td>2</td><td>0</td><td>null</td><td>null</td><td>False</td><td>null</td><td>False</td><td>False</td><td>null</td><td>null</td><td>False</td><td>2</td><td>null</td><td>False</td><td>False</td><td></td><td>False</td><td>null</td><td>null</td><td>null</td><td>False</td><td>public</td><td>2022-06-17 19:00:59.888640</td><td>text</td><td>6</td><td>null</td><td>null</td><td>text</td><td>cp24.com</td><td>False</td><td>null</td><td>null</td><td>null</td><td>null</td><td>https://www.cp24.com/news/woman-lit-on-fire-near-kipling-subway-station-male-in-custody-1.5951817</td><td>null</td><td>False</td><td>False</td><td>True</td><td>False</td><td>False</td><td>False</td><td>null</td><td>True</td><td>False</td><td>False</td><td>null</td><td>False</td><td>null</td><td>null</td><td>null</td><td>t5_2qh3l</td><td>False</td><td>null</td><td>null</td><td>null</td><td></td><td>vene82</td><td>True</td><td>null</td><td>jtstonge</td><td>null</td><td>0</td><td>True</td><td>all_ads</td><td>False</td><td>False</td><td>null</td><td>/r/news/comments/vene82/woman_lit_on_fire_near_kipling_subway_station_in/</td><td>all_ads</td><td>False</td><td>https://www.cp24.com/news/woman-lit-on-fire-near-kipling-subway-station-male-in-custody-1.5951817</td><td>24821079</td><td>2022-06-17 19:00:59.888640</td><td>0</td><td>null</td><td>False</td><td>2022-06-17</td></tr><tr><td>null</td><td>news</td><td></td><td>t2_8t38lvml</td><td>False</td><td>null</td><td>0</td><td>False</td><td>Rape Victim ordered to pay child support to rapist: Update and unsealed court docs</td><td>r/news</td><td>False</td><td>6</td><td>null</td><td>0</td><td>null</td><td>null</td><td>True</td><td>t3_veq2vk</td><td>False</td><td>dark</td><td>0.8600000143051147</td><td>null</td><td>5</td><td>0</td><td>null</td><td>null</td><td>False</td><td>null</td><td>False</td><td>False</td><td>null</td><td>null</td><td>False</td><td>5</td><td>null</td><td>False</td><td>False</td><td></td><td>False</td><td>null</td><td>null</td><td>null</td><td>False</td><td>public</td><td>2022-06-17 21:04:01.863680</td><td>text</td><td>6</td><td>null</td><td>null</td><td>text</td><td>wbrz.com</td><td>False</td><td>null</td><td>null</td><td>null</td><td>null</td><td>https://www.wbrz.com/news/in-rape-paternity-dispute-judge-ignored-two-assault-complaints-while-awarding-child-custody-to-alleged-abusive-father/</td><td>null</td><td>False</td><td>True</td><td>True</td><td>False</td><td>False</td><td>False</td><td>null</td><td>True</td><td>False</td><td>False</td><td>null</td><td>False</td><td>null</td><td>null</td><td>null</td><td>t5_2qh3l</td><td>False</td><td>null</td><td>null</td><td>null</td><td></td><td>veq2vk</td><td>True</td><td>null</td><td>NeoPendragon117</td><td>null</td><td>6</td><td>False</td><td>all_ads</td><td>False</td><td>False</td><td>null</td><td>/r/news/comments/veq2vk/rape_victim_ordered_to_pay_child_support_to/</td><td>all_ads</td><td>False</td><td>https://www.wbrz.com/news/in-rape-paternity-dispute-judge-ignored-two-assault-complaints-while-awarding-child-custody-to-alleged-abusive-father/</td><td>24821404</td><td>2022-06-17 21:04:01.863680</td><td>0</td><td>null</td><td>False</td><td>2022-06-17</td></tr></table>"
      ],
      "text/plain": [
       "<IPython.core.display.HTML object>"
      ]
     },
     "execution_count": 6,
     "metadata": {},
     "output_type": "execute_result"
    }
   ],
   "source": [
    "%%sparksql\n",
    "\n",
    "select * from reddit_news order by created_utc asc limit 10"
   ]
  },
  {
   "cell_type": "markdown",
   "metadata": {},
   "source": [
    "## worldnews"
   ]
  },
  {
   "cell_type": "code",
   "execution_count": 13,
   "metadata": {},
   "outputs": [
    {
     "name": "stderr",
     "output_type": "stream",
     "text": [
      "                                                                                \r"
     ]
    },
    {
     "data": {
      "text/html": [
       "<table><tr style=\"border-bottom: 1px solid\"><td style=\"font-weight: bold\">post_date</td><td style=\"font-weight: bold\">count(1)</td></tr><tr><td>2022-06-17</td><td>32</td></tr><tr><td>2022-06-18</td><td>32</td></tr><tr><td>2022-06-19</td><td>106</td></tr><tr><td>2022-06-20</td><td>92</td></tr><tr><td>2022-06-21</td><td>80</td></tr><tr><td>2022-06-22</td><td>100</td></tr><tr><td>2022-06-23</td><td>102</td></tr><tr><td>2022-06-24</td><td>45</td></tr><tr><td>2022-06-25</td><td>75</td></tr></table>"
      ],
      "text/plain": [
       "<IPython.core.display.HTML object>"
      ]
     },
     "execution_count": 13,
     "metadata": {},
     "output_type": "execute_result"
    }
   ],
   "source": [
    "%%sparksql\n",
    "\n",
    "select post_date, count(*) from reddit_worldnews\n",
    "group by post_date\n",
    "order by post_date asc"
   ]
  },
  {
   "cell_type": "code",
   "execution_count": 8,
   "metadata": {},
   "outputs": [
    {
     "name": "stderr",
     "output_type": "stream",
     "text": [
      "                                                                                \r"
     ]
    },
    {
     "data": {
      "text/html": [
       "<table><tr style=\"border-bottom: 1px solid\"><td style=\"font-weight: bold\">approved_at_utc</td><td style=\"font-weight: bold\">subreddit</td><td style=\"font-weight: bold\">selftext</td><td style=\"font-weight: bold\">author_fullname</td><td style=\"font-weight: bold\">saved</td><td style=\"font-weight: bold\">mod_reason_title</td><td style=\"font-weight: bold\">gilded</td><td style=\"font-weight: bold\">clicked</td><td style=\"font-weight: bold\">title</td><td style=\"font-weight: bold\">subreddit_name_prefixed</td><td style=\"font-weight: bold\">hidden</td><td style=\"font-weight: bold\">pwls</td><td style=\"font-weight: bold\">link_flair_css_class</td><td style=\"font-weight: bold\">downs</td><td style=\"font-weight: bold\">thumbnail_height</td><td style=\"font-weight: bold\">top_awarded_type</td><td style=\"font-weight: bold\">hide_score</td><td style=\"font-weight: bold\">name</td><td style=\"font-weight: bold\">quarantine</td><td style=\"font-weight: bold\">link_flair_text_color</td><td style=\"font-weight: bold\">upvote_ratio</td><td style=\"font-weight: bold\">author_flair_background_color</td><td style=\"font-weight: bold\">ups</td><td style=\"font-weight: bold\">total_awards_received</td><td style=\"font-weight: bold\">thumbnail_width</td><td style=\"font-weight: bold\">author_flair_template_id</td><td style=\"font-weight: bold\">is_original_content</td><td style=\"font-weight: bold\">secure_media</td><td style=\"font-weight: bold\">is_reddit_media_domain</td><td style=\"font-weight: bold\">is_meta</td><td style=\"font-weight: bold\">category</td><td style=\"font-weight: bold\">link_flair_text</td><td style=\"font-weight: bold\">can_mod_post</td><td style=\"font-weight: bold\">score</td><td style=\"font-weight: bold\">approved_by</td><td style=\"font-weight: bold\">is_created_from_ads_ui</td><td style=\"font-weight: bold\">author_premium</td><td style=\"font-weight: bold\">thumbnail</td><td style=\"font-weight: bold\">edited</td><td style=\"font-weight: bold\">author_flair_css_class</td><td style=\"font-weight: bold\">post_hint</td><td style=\"font-weight: bold\">content_categories</td><td style=\"font-weight: bold\">is_self</td><td style=\"font-weight: bold\">subreddit_type</td><td style=\"font-weight: bold\">created</td><td style=\"font-weight: bold\">link_flair_type</td><td style=\"font-weight: bold\">wls</td><td style=\"font-weight: bold\">removed_by_category</td><td style=\"font-weight: bold\">banned_by</td><td style=\"font-weight: bold\">author_flair_type</td><td style=\"font-weight: bold\">domain</td><td style=\"font-weight: bold\">allow_live_comments</td><td style=\"font-weight: bold\">selftext_html</td><td style=\"font-weight: bold\">likes</td><td style=\"font-weight: bold\">suggested_sort</td><td style=\"font-weight: bold\">banned_at_utc</td><td style=\"font-weight: bold\">url_overridden_by_dest</td><td style=\"font-weight: bold\">view_count</td><td style=\"font-weight: bold\">archived</td><td style=\"font-weight: bold\">no_follow</td><td style=\"font-weight: bold\">is_crosspostable</td><td style=\"font-weight: bold\">pinned</td><td style=\"font-weight: bold\">over_18</td><td style=\"font-weight: bold\">media_only</td><td style=\"font-weight: bold\">link_flair_template_id</td><td style=\"font-weight: bold\">can_gild</td><td style=\"font-weight: bold\">spoiler</td><td style=\"font-weight: bold\">locked</td><td style=\"font-weight: bold\">author_flair_text</td><td style=\"font-weight: bold\">visited</td><td style=\"font-weight: bold\">removed_by</td><td style=\"font-weight: bold\">mod_note</td><td style=\"font-weight: bold\">distinguished</td><td style=\"font-weight: bold\">subreddit_id</td><td style=\"font-weight: bold\">author_is_blocked</td><td style=\"font-weight: bold\">mod_reason_by</td><td style=\"font-weight: bold\">num_reports</td><td style=\"font-weight: bold\">removal_reason</td><td style=\"font-weight: bold\">link_flair_background_color</td><td style=\"font-weight: bold\">id</td><td style=\"font-weight: bold\">is_robot_indexable</td><td style=\"font-weight: bold\">report_reasons</td><td style=\"font-weight: bold\">author</td><td style=\"font-weight: bold\">discussion_type</td><td style=\"font-weight: bold\">num_comments</td><td style=\"font-weight: bold\">send_replies</td><td style=\"font-weight: bold\">whitelist_status</td><td style=\"font-weight: bold\">contest_mode</td><td style=\"font-weight: bold\">author_patreon_flair</td><td style=\"font-weight: bold\">author_flair_text_color</td><td style=\"font-weight: bold\">permalink</td><td style=\"font-weight: bold\">parent_whitelist_status</td><td style=\"font-weight: bold\">stickied</td><td style=\"font-weight: bold\">url</td><td style=\"font-weight: bold\">subreddit_subscribers</td><td style=\"font-weight: bold\">created_utc</td><td style=\"font-weight: bold\">num_crossposts</td><td style=\"font-weight: bold\">media</td><td style=\"font-weight: bold\">is_video</td><td style=\"font-weight: bold\">post_date</td></tr><tr><td>null</td><td>worldnews</td><td></td><td>t2_yl06t</td><td>False</td><td>null</td><td>0</td><td>False</td><td>European Commission recommends granting Ukraine EU candidate status</td><td>r/worldnews</td><td>False</td><td>6</td><td>russia</td><td>0</td><td>null</td><td>null</td><td>True</td><td>t3_vednyc</td><td>False</td><td>null</td><td>1.0</td><td>null</td><td>9</td><td>0</td><td>null</td><td>null</td><td>False</td><td>null</td><td>False</td><td>False</td><td>null</td><td>Russia/Ukraine</td><td>False</td><td>9</td><td>null</td><td>False</td><td>True</td><td></td><td>False</td><td>null</td><td>null</td><td>null</td><td>False</td><td>public</td><td>2022-06-17 13:52:17.842176</td><td>richtext</td><td>6</td><td>null</td><td>null</td><td>text</td><td>ukrinform.net</td><td>False</td><td>null</td><td>null</td><td>null</td><td>null</td><td>https://www.ukrinform.net/rubric-polytics/3508964-european-commission-recommends-granting-ukraine-eu-candidate-status.html</td><td>null</td><td>False</td><td>False</td><td>True</td><td>False</td><td>False</td><td>False</td><td>null</td><td>True</td><td>False</td><td>False</td><td>null</td><td>False</td><td>null</td><td>null</td><td>null</td><td>t5_2qh13</td><td>False</td><td>null</td><td>null</td><td>null</td><td>null</td><td>vednyc</td><td>True</td><td>null</td><td>Ekaton</td><td>null</td><td>2</td><td>True</td><td>all_ads</td><td>False</td><td>False</td><td>null</td><td>/r/worldnews/comments/vednyc/european_commission_recommends_granting_ukraine/</td><td>all_ads</td><td>False</td><td>https://www.ukrinform.net/rubric-polytics/3508964-european-commission-recommends-granting-ukraine-eu-candidate-status.html</td><td>29034211</td><td>2022-06-17 13:52:17.842176</td><td>0</td><td>null</td><td>False</td><td>2022-06-17</td></tr><tr><td>null</td><td>worldnews</td><td></td><td>t2_bmncpj69</td><td>False</td><td>null</td><td>0</td><td>False</td><td>China blocks joint India-US proposal to blacklist Pakistani terrorist Abdul Rehman Makki under UNSC sanctions</td><td>r/worldnews</td><td>False</td><td>6</td><td>null</td><td>0</td><td>null</td><td>null</td><td>True</td><td>t3_vedzuc</td><td>False</td><td>dark</td><td>1.0</td><td>null</td><td>4</td><td>0</td><td>null</td><td>null</td><td>False</td><td>null</td><td>False</td><td>False</td><td>null</td><td>null</td><td>False</td><td>4</td><td>null</td><td>False</td><td>False</td><td></td><td>False</td><td>null</td><td>null</td><td>null</td><td>False</td><td>public</td><td>2022-06-17 14:07:57.366272</td><td>text</td><td>6</td><td>null</td><td>null</td><td>text</td><td>tribuneindia.com</td><td>False</td><td>null</td><td>null</td><td>null</td><td>null</td><td>https://www.tribuneindia.com/news/nation/china-blocks-joint-india-us-proposal-to-blacklist-pakistani-terrorist-abdul-rehman-makki-under-unsc-sanctions-404681</td><td>null</td><td>False</td><td>False</td><td>True</td><td>False</td><td>False</td><td>False</td><td>null</td><td>True</td><td>False</td><td>False</td><td>null</td><td>False</td><td>null</td><td>null</td><td>null</td><td>t5_2qh13</td><td>False</td><td>null</td><td>null</td><td>null</td><td></td><td>vedzuc</td><td>True</td><td>null</td><td>Winterisbucky</td><td>null</td><td>0</td><td>True</td><td>all_ads</td><td>False</td><td>False</td><td>null</td><td>/r/worldnews/comments/vedzuc/china_blocks_joint_indiaus_proposal_to_blacklist/</td><td>all_ads</td><td>False</td><td>https://www.tribuneindia.com/news/nation/china-blocks-joint-india-us-proposal-to-blacklist-pakistani-terrorist-abdul-rehman-makki-under-unsc-sanctions-404681</td><td>29034225</td><td>2022-06-17 14:07:57.366272</td><td>0</td><td>null</td><td>False</td><td>2022-06-17</td></tr><tr><td>null</td><td>worldnews</td><td></td><td>t2_3z7n2wc1</td><td>False</td><td>null</td><td>0</td><td>False</td><td>UK: 50 new monkeypox cases in biggest epidemic beyond Africa</td><td>r/worldnews</td><td>False</td><td>6</td><td>null</td><td>0</td><td>null</td><td>null</td><td>True</td><td>t3_vee2pe</td><td>False</td><td>dark</td><td>1.0</td><td>null</td><td>3</td><td>0</td><td>null</td><td>null</td><td>False</td><td>null</td><td>False</td><td>False</td><td>null</td><td>null</td><td>False</td><td>3</td><td>null</td><td>False</td><td>True</td><td></td><td>False</td><td>null</td><td>null</td><td>null</td><td>False</td><td>public</td><td>2022-06-17 14:10:11.584000</td><td>text</td><td>6</td><td>null</td><td>null</td><td>text</td><td>thehill.com</td><td>False</td><td>null</td><td>null</td><td>null</td><td>null</td><td>https://thehill.com/homenews/ap/ap-health/uk-50-new-monkeypox-cases-in-biggest-epidemic-beyond-africa/</td><td>null</td><td>False</td><td>False</td><td>True</td><td>False</td><td>False</td><td>False</td><td>null</td><td>True</td><td>False</td><td>False</td><td>null</td><td>False</td><td>null</td><td>null</td><td>null</td><td>t5_2qh13</td><td>False</td><td>null</td><td>null</td><td>null</td><td></td><td>vee2pe</td><td>True</td><td>null</td><td>Arpith2019</td><td>null</td><td>0</td><td>True</td><td>all_ads</td><td>False</td><td>False</td><td>null</td><td>/r/worldnews/comments/vee2pe/uk_50_new_monkeypox_cases_in_biggest_epidemic/</td><td>all_ads</td><td>False</td><td>https://thehill.com/homenews/ap/ap-health/uk-50-new-monkeypox-cases-in-biggest-epidemic-beyond-africa/</td><td>29034236</td><td>2022-06-17 14:10:11.584000</td><td>0</td><td>null</td><td>False</td><td>2022-06-17</td></tr><tr><td>null</td><td>worldnews</td><td></td><td>t2_4layskvl</td><td>False</td><td>null</td><td>0</td><td>False</td><td>Agnipath: One dead in violent India protests over military hiring</td><td>r/worldnews</td><td>False</td><td>6</td><td>null</td><td>0</td><td>null</td><td>null</td><td>True</td><td>t3_vee6r3</td><td>False</td><td>dark</td><td>1.0</td><td>null</td><td>1</td><td>0</td><td>null</td><td>null</td><td>False</td><td>null</td><td>False</td><td>False</td><td>null</td><td>null</td><td>False</td><td>1</td><td>null</td><td>False</td><td>True</td><td></td><td>False</td><td>null</td><td>null</td><td>null</td><td>False</td><td>public</td><td>2022-06-17 14:14:40.019456</td><td>text</td><td>6</td><td>null</td><td>null</td><td>text</td><td>bbc.co.uk</td><td>False</td><td>null</td><td>null</td><td>null</td><td>null</td><td>https://www.bbc.co.uk/news/world-asia-india-61841268</td><td>null</td><td>False</td><td>True</td><td>True</td><td>False</td><td>False</td><td>False</td><td>null</td><td>True</td><td>False</td><td>False</td><td>null</td><td>False</td><td>null</td><td>null</td><td>null</td><td>t5_2qh13</td><td>False</td><td>null</td><td>null</td><td>null</td><td></td><td>vee6r3</td><td>True</td><td>null</td><td>Vercitti</td><td>null</td><td>0</td><td>True</td><td>all_ads</td><td>False</td><td>False</td><td>null</td><td>/r/worldnews/comments/vee6r3/agnipath_one_dead_in_violent_india_protests_over/</td><td>all_ads</td><td>False</td><td>https://www.bbc.co.uk/news/world-asia-india-61841268</td><td>29034252</td><td>2022-06-17 14:14:40.019456</td><td>0</td><td>null</td><td>False</td><td>2022-06-17</td></tr><tr><td>null</td><td>worldnews</td><td></td><td>t2_xs9chqv</td><td>False</td><td>null</td><td>0</td><td>False</td><td>Netherlands now voicing support for Ukraine&#x27;s EU candidacy</td><td>r/worldnews</td><td>False</td><td>6</td><td>russia</td><td>0</td><td>null</td><td>null</td><td>True</td><td>t3_veebtj</td><td>False</td><td>dark</td><td>1.0</td><td>null</td><td>6</td><td>0</td><td>null</td><td>null</td><td>False</td><td>null</td><td>False</td><td>False</td><td>null</td><td>Russia/Ukraine</td><td>False</td><td>6</td><td>null</td><td>False</td><td>False</td><td></td><td>False</td><td>null</td><td>null</td><td>null</td><td>False</td><td>public</td><td>2022-06-17 14:21:22.672640</td><td>richtext</td><td>6</td><td>null</td><td>null</td><td>text</td><td>nltimes.nl</td><td>False</td><td>null</td><td>null</td><td>null</td><td>null</td><td>https://nltimes.nl/2022/06/17/netherlands-now-voicing-support-ukraines-eu-candidacy</td><td>null</td><td>False</td><td>False</td><td>True</td><td>False</td><td>False</td><td>False</td><td>null</td><td>True</td><td>False</td><td>False</td><td>null</td><td>False</td><td>null</td><td>null</td><td>null</td><td>t5_2qh13</td><td>False</td><td>null</td><td>null</td><td>null</td><td></td><td>veebtj</td><td>True</td><td>null</td><td>MC_Transparent</td><td>null</td><td>0</td><td>True</td><td>all_ads</td><td>False</td><td>False</td><td>null</td><td>/r/worldnews/comments/veebtj/netherlands_now_voicing_support_for_ukraines_eu/</td><td>all_ads</td><td>False</td><td>https://nltimes.nl/2022/06/17/netherlands-now-voicing-support-ukraines-eu-candidacy</td><td>29034277</td><td>2022-06-17 14:21:22.672640</td><td>0</td><td>null</td><td>False</td><td>2022-06-17</td></tr><tr><td>null</td><td>worldnews</td><td></td><td>t2_33cw9m</td><td>False</td><td>null</td><td>0</td><td>False</td><td>Russia implores Ukraine to &quot;stop senseless resistance&quot; in Severodonetsk</td><td>r/worldnews</td><td>False</td><td>6</td><td>russia</td><td>0</td><td>null</td><td>null</td><td>True</td><td>t3_veekau</td><td>False</td><td>dark</td><td>1.0</td><td>null</td><td>1</td><td>0</td><td>null</td><td>null</td><td>False</td><td>null</td><td>False</td><td>False</td><td>null</td><td>Russia/Ukraine</td><td>False</td><td>1</td><td>null</td><td>False</td><td>False</td><td></td><td>False</td><td>null</td><td>null</td><td>null</td><td>False</td><td>public</td><td>2022-06-17 14:32:33.761280</td><td>richtext</td><td>6</td><td>null</td><td>null</td><td>text</td><td>newsweek.com</td><td>False</td><td>null</td><td>null</td><td>null</td><td>null</td><td>https://www.newsweek.com/russia-implores-ukraine-stop-senseless-resistance-severodonetsk-1716332</td><td>null</td><td>False</td><td>True</td><td>True</td><td>False</td><td>False</td><td>False</td><td>null</td><td>True</td><td>False</td><td>False</td><td>null</td><td>False</td><td>null</td><td>null</td><td>null</td><td>t5_2qh13</td><td>False</td><td>null</td><td>null</td><td>null</td><td></td><td>veekau</td><td>True</td><td>null</td><td>alvwg</td><td>null</td><td>0</td><td>True</td><td>all_ads</td><td>False</td><td>False</td><td>null</td><td>/r/worldnews/comments/veekau/russia_implores_ukraine_to_stop_senseless/</td><td>all_ads</td><td>False</td><td>https://www.newsweek.com/russia-implores-ukraine-stop-senseless-resistance-severodonetsk-1716332</td><td>29034338</td><td>2022-06-17 14:32:33.761280</td><td>0</td><td>null</td><td>False</td><td>2022-06-17</td></tr><tr><td>null</td><td>worldnews</td><td></td><td>t2_geqiyunp</td><td>False</td><td>null</td><td>0</td><td>False</td><td>EU Should Press Ethiopia for Tangible Rights Progress</td><td>r/worldnews</td><td>False</td><td>6</td><td>null</td><td>0</td><td>null</td><td>null</td><td>True</td><td>t3_veew3f</td><td>False</td><td>dark</td><td>1.0</td><td>null</td><td>1</td><td>0</td><td>null</td><td>null</td><td>False</td><td>null</td><td>False</td><td>False</td><td>null</td><td>null</td><td>False</td><td>1</td><td>null</td><td>False</td><td>False</td><td></td><td>False</td><td>null</td><td>null</td><td>null</td><td>False</td><td>public</td><td>2022-06-17 14:50:27.503104</td><td>text</td><td>6</td><td>null</td><td>null</td><td>text</td><td>hrw.org</td><td>False</td><td>null</td><td>null</td><td>null</td><td>null</td><td>https://www.hrw.org/news/2022/06/17/eu-should-press-ethiopia-tangible-rights-progress</td><td>null</td><td>False</td><td>True</td><td>True</td><td>False</td><td>False</td><td>False</td><td>null</td><td>True</td><td>False</td><td>False</td><td>null</td><td>False</td><td>null</td><td>null</td><td>null</td><td>t5_2qh13</td><td>False</td><td>null</td><td>null</td><td>null</td><td></td><td>veew3f</td><td>True</td><td>null</td><td>yodi_yodi</td><td>null</td><td>0</td><td>False</td><td>all_ads</td><td>False</td><td>False</td><td>null</td><td>/r/worldnews/comments/veew3f/eu_should_press_ethiopia_for_tangible_rights/</td><td>all_ads</td><td>False</td><td>https://www.hrw.org/news/2022/06/17/eu-should-press-ethiopia-tangible-rights-progress</td><td>29034411</td><td>2022-06-17 14:50:27.503104</td><td>0</td><td>null</td><td>False</td><td>2022-06-17</td></tr><tr><td>null</td><td>worldnews</td><td></td><td>t2_3kyuz</td><td>False</td><td>null</td><td>0</td><td>False</td><td>Nepal prepares to move Everest base camp further down the mountain after part of the glacier where encampment is based starts to MELT</td><td>r/worldnews</td><td>False</td><td>6</td><td>null</td><td>0</td><td>null</td><td>null</td><td>True</td><td>t3_vef09q</td><td>False</td><td>dark</td><td>1.0</td><td>null</td><td>2</td><td>0</td><td>null</td><td>null</td><td>False</td><td>null</td><td>False</td><td>False</td><td>null</td><td>null</td><td>False</td><td>2</td><td>null</td><td>False</td><td>False</td><td></td><td>False</td><td>null</td><td>null</td><td>null</td><td>False</td><td>public</td><td>2022-06-17 14:54:55.938560</td><td>text</td><td>6</td><td>null</td><td>null</td><td>text</td><td>dailymail.co.uk</td><td>False</td><td>null</td><td>null</td><td>null</td><td>null</td><td>https://www.dailymail.co.uk/sciencetech/article-10926713/Nepal-plans-Everest-base-camp-global-warming.html</td><td>null</td><td>False</td><td>False</td><td>True</td><td>False</td><td>False</td><td>False</td><td>null</td><td>True</td><td>False</td><td>False</td><td>null</td><td>False</td><td>null</td><td>null</td><td>null</td><td>t5_2qh13</td><td>False</td><td>null</td><td>null</td><td>null</td><td></td><td>vef09q</td><td>True</td><td>null</td><td>Smilefriend</td><td>null</td><td>1</td><td>False</td><td>all_ads</td><td>False</td><td>False</td><td>null</td><td>/r/worldnews/comments/vef09q/nepal_prepares_to_move_everest_base_camp_further/</td><td>all_ads</td><td>False</td><td>https://www.dailymail.co.uk/sciencetech/article-10926713/Nepal-plans-Everest-base-camp-global-warming.html</td><td>29034435</td><td>2022-06-17 14:54:55.938560</td><td>0</td><td>null</td><td>False</td><td>2022-06-17</td></tr><tr><td>null</td><td>worldnews</td><td></td><td>t2_33cw9m</td><td>False</td><td>null</td><td>0</td><td>False</td><td>Japan protests to China over resource development in East China Sea</td><td>r/worldnews</td><td>False</td><td>6</td><td>null</td><td>0</td><td>null</td><td>null</td><td>True</td><td>t3_vektz4</td><td>False</td><td>dark</td><td>1.0</td><td>null</td><td>1</td><td>0</td><td>null</td><td>null</td><td>False</td><td>null</td><td>False</td><td>False</td><td>null</td><td>null</td><td>False</td><td>1</td><td>null</td><td>False</td><td>False</td><td></td><td>False</td><td>null</td><td>null</td><td>null</td><td>False</td><td>public</td><td>2022-06-17 17:06:54.784512</td><td>text</td><td>6</td><td>null</td><td>null</td><td>text</td><td>todayonline.com</td><td>False</td><td>null</td><td>null</td><td>null</td><td>null</td><td>https://www.todayonline.com/world/japan-protests-china-over-resource-development-east-china-sea-1927561</td><td>null</td><td>False</td><td>True</td><td>True</td><td>False</td><td>False</td><td>False</td><td>null</td><td>True</td><td>False</td><td>False</td><td>null</td><td>False</td><td>null</td><td>null</td><td>null</td><td>t5_2qh13</td><td>False</td><td>null</td><td>null</td><td>null</td><td></td><td>vektz4</td><td>True</td><td>null</td><td>alvwg</td><td>null</td><td>0</td><td>True</td><td>all_ads</td><td>False</td><td>False</td><td>null</td><td>/r/worldnews/comments/vektz4/japan_protests_to_china_over_resource_development/</td><td>all_ads</td><td>False</td><td>https://www.todayonline.com/world/japan-protests-china-over-resource-development-east-china-sea-1927561</td><td>29035064</td><td>2022-06-17 17:06:54.784512</td><td>0</td><td>null</td><td>False</td><td>2022-06-17</td></tr><tr><td>null</td><td>worldnews</td><td></td><td>t2_77kg6rt</td><td>False</td><td>null</td><td>0</td><td>False</td><td>Manitoba RCMP charge retired priest, 92, with indecent assault in historical residential school case</td><td>r/worldnews</td><td>False</td><td>6</td><td>null</td><td>0</td><td>null</td><td>null</td><td>True</td><td>t3_vekw3l</td><td>False</td><td>dark</td><td>1.0</td><td>null</td><td>1</td><td>0</td><td>null</td><td>null</td><td>False</td><td>null</td><td>False</td><td>False</td><td>null</td><td>null</td><td>False</td><td>1</td><td>null</td><td>False</td><td>False</td><td></td><td>False</td><td>null</td><td>null</td><td>null</td><td>False</td><td>public</td><td>2022-06-17 17:11:23.219968</td><td>text</td><td>6</td><td>null</td><td>null</td><td>text</td><td>globalnews.ca</td><td>False</td><td>null</td><td>null</td><td>null</td><td>null</td><td>https://globalnews.ca/news/8928243/manitoba-rcmp-arrest-residential-school-friday/</td><td>null</td><td>False</td><td>True</td><td>True</td><td>False</td><td>False</td><td>False</td><td>null</td><td>True</td><td>False</td><td>False</td><td>null</td><td>False</td><td>null</td><td>null</td><td>null</td><td>t5_2qh13</td><td>False</td><td>null</td><td>null</td><td>null</td><td></td><td>vekw3l</td><td>True</td><td>null</td><td>rubyrosey</td><td>null</td><td>0</td><td>False</td><td>all_ads</td><td>False</td><td>False</td><td>null</td><td>/r/worldnews/comments/vekw3l/manitoba_rcmp_charge_retired_priest_92_with/</td><td>all_ads</td><td>False</td><td>https://globalnews.ca/news/8928243/manitoba-rcmp-arrest-residential-school-friday/</td><td>29035077</td><td>2022-06-17 17:11:23.219968</td><td>0</td><td>null</td><td>False</td><td>2022-06-17</td></tr></table>"
      ],
      "text/plain": [
       "<IPython.core.display.HTML object>"
      ]
     },
     "execution_count": 8,
     "metadata": {},
     "output_type": "execute_result"
    }
   ],
   "source": [
    "%%sparksql\n",
    "\n",
    "select * from reddit_worldnews order by created_utc asc limit 10"
   ]
  },
  {
   "cell_type": "markdown",
   "metadata": {},
   "source": [
    "## ProgrammerHumor"
   ]
  },
  {
   "cell_type": "code",
   "execution_count": 14,
   "metadata": {},
   "outputs": [
    {
     "name": "stderr",
     "output_type": "stream",
     "text": [
      "                                                                                \r"
     ]
    },
    {
     "data": {
      "text/html": [
       "<table><tr style=\"border-bottom: 1px solid\"><td style=\"font-weight: bold\">post_date</td><td style=\"font-weight: bold\">count(1)</td></tr><tr><td>2022-06-17</td><td>23</td></tr><tr><td>2022-06-18</td><td>18</td></tr><tr><td>2022-06-19</td><td>79</td></tr><tr><td>2022-06-20</td><td>81</td></tr><tr><td>2022-06-21</td><td>57</td></tr><tr><td>2022-06-22</td><td>41</td></tr><tr><td>2022-06-23</td><td>64</td></tr><tr><td>2022-06-24</td><td>41</td></tr><tr><td>2022-06-25</td><td>56</td></tr></table>"
      ],
      "text/plain": [
       "<IPython.core.display.HTML object>"
      ]
     },
     "execution_count": 14,
     "metadata": {},
     "output_type": "execute_result"
    }
   ],
   "source": [
    "%%sparksql\n",
    "\n",
    "select post_date, count(*) from reddit_ProgrammerHumor\n",
    "group by post_date\n",
    "order by post_date asc"
   ]
  },
  {
   "cell_type": "code",
   "execution_count": 10,
   "metadata": {},
   "outputs": [
    {
     "name": "stderr",
     "output_type": "stream",
     "text": [
      "                                                                                \r"
     ]
    },
    {
     "data": {
      "text/html": [
       "<table><tr style=\"border-bottom: 1px solid\"><td style=\"font-weight: bold\">approved_at_utc</td><td style=\"font-weight: bold\">subreddit</td><td style=\"font-weight: bold\">selftext</td><td style=\"font-weight: bold\">author_fullname</td><td style=\"font-weight: bold\">saved</td><td style=\"font-weight: bold\">mod_reason_title</td><td style=\"font-weight: bold\">gilded</td><td style=\"font-weight: bold\">clicked</td><td style=\"font-weight: bold\">title</td><td style=\"font-weight: bold\">subreddit_name_prefixed</td><td style=\"font-weight: bold\">hidden</td><td style=\"font-weight: bold\">pwls</td><td style=\"font-weight: bold\">link_flair_css_class</td><td style=\"font-weight: bold\">downs</td><td style=\"font-weight: bold\">thumbnail_height</td><td style=\"font-weight: bold\">top_awarded_type</td><td style=\"font-weight: bold\">hide_score</td><td style=\"font-weight: bold\">name</td><td style=\"font-weight: bold\">quarantine</td><td style=\"font-weight: bold\">link_flair_text_color</td><td style=\"font-weight: bold\">upvote_ratio</td><td style=\"font-weight: bold\">author_flair_background_color</td><td style=\"font-weight: bold\">ups</td><td style=\"font-weight: bold\">total_awards_received</td><td style=\"font-weight: bold\">thumbnail_width</td><td style=\"font-weight: bold\">author_flair_template_id</td><td style=\"font-weight: bold\">is_original_content</td><td style=\"font-weight: bold\">secure_media</td><td style=\"font-weight: bold\">is_reddit_media_domain</td><td style=\"font-weight: bold\">is_meta</td><td style=\"font-weight: bold\">category</td><td style=\"font-weight: bold\">link_flair_text</td><td style=\"font-weight: bold\">can_mod_post</td><td style=\"font-weight: bold\">score</td><td style=\"font-weight: bold\">approved_by</td><td style=\"font-weight: bold\">is_created_from_ads_ui</td><td style=\"font-weight: bold\">author_premium</td><td style=\"font-weight: bold\">thumbnail</td><td style=\"font-weight: bold\">edited</td><td style=\"font-weight: bold\">author_flair_css_class</td><td style=\"font-weight: bold\">post_hint</td><td style=\"font-weight: bold\">content_categories</td><td style=\"font-weight: bold\">is_self</td><td style=\"font-weight: bold\">subreddit_type</td><td style=\"font-weight: bold\">created</td><td style=\"font-weight: bold\">link_flair_type</td><td style=\"font-weight: bold\">wls</td><td style=\"font-weight: bold\">removed_by_category</td><td style=\"font-weight: bold\">banned_by</td><td style=\"font-weight: bold\">author_flair_type</td><td style=\"font-weight: bold\">domain</td><td style=\"font-weight: bold\">allow_live_comments</td><td style=\"font-weight: bold\">selftext_html</td><td style=\"font-weight: bold\">likes</td><td style=\"font-weight: bold\">suggested_sort</td><td style=\"font-weight: bold\">banned_at_utc</td><td style=\"font-weight: bold\">url_overridden_by_dest</td><td style=\"font-weight: bold\">view_count</td><td style=\"font-weight: bold\">archived</td><td style=\"font-weight: bold\">no_follow</td><td style=\"font-weight: bold\">is_crosspostable</td><td style=\"font-weight: bold\">pinned</td><td style=\"font-weight: bold\">over_18</td><td style=\"font-weight: bold\">media_only</td><td style=\"font-weight: bold\">link_flair_template_id</td><td style=\"font-weight: bold\">can_gild</td><td style=\"font-weight: bold\">spoiler</td><td style=\"font-weight: bold\">locked</td><td style=\"font-weight: bold\">author_flair_text</td><td style=\"font-weight: bold\">visited</td><td style=\"font-weight: bold\">removed_by</td><td style=\"font-weight: bold\">mod_note</td><td style=\"font-weight: bold\">distinguished</td><td style=\"font-weight: bold\">subreddit_id</td><td style=\"font-weight: bold\">author_is_blocked</td><td style=\"font-weight: bold\">mod_reason_by</td><td style=\"font-weight: bold\">num_reports</td><td style=\"font-weight: bold\">removal_reason</td><td style=\"font-weight: bold\">link_flair_background_color</td><td style=\"font-weight: bold\">id</td><td style=\"font-weight: bold\">is_robot_indexable</td><td style=\"font-weight: bold\">report_reasons</td><td style=\"font-weight: bold\">author</td><td style=\"font-weight: bold\">discussion_type</td><td style=\"font-weight: bold\">num_comments</td><td style=\"font-weight: bold\">send_replies</td><td style=\"font-weight: bold\">whitelist_status</td><td style=\"font-weight: bold\">contest_mode</td><td style=\"font-weight: bold\">author_patreon_flair</td><td style=\"font-weight: bold\">author_flair_text_color</td><td style=\"font-weight: bold\">permalink</td><td style=\"font-weight: bold\">parent_whitelist_status</td><td style=\"font-weight: bold\">stickied</td><td style=\"font-weight: bold\">url</td><td style=\"font-weight: bold\">subreddit_subscribers</td><td style=\"font-weight: bold\">created_utc</td><td style=\"font-weight: bold\">num_crossposts</td><td style=\"font-weight: bold\">media</td><td style=\"font-weight: bold\">is_video</td><td style=\"font-weight: bold\">post_date</td></tr><tr><td>null</td><td>ProgrammerHumor</td><td></td><td>t2_54dvd6d4</td><td>False</td><td>null</td><td>0</td><td>False</td><td>Never used python, ask me a question and I’ll answer like I did.</td><td>r/ProgrammerHumor</td><td>False</td><td>6</td><td>null</td><td>0</td><td>140</td><td>null</td><td>True</td><td>t3_ved7pz</td><td>False</td><td>dark</td><td>0.800000011920929</td><td>null</td><td>3</td><td>0</td><td>140</td><td>null</td><td>False</td><td>null</td><td>True</td><td>False</td><td>null</td><td>null</td><td>False</td><td>3</td><td>null</td><td>False</td><td>False</td><td>https://a.thumbs.redditmedia.com/J5kXwF3yIEX2tqDTiAZTmQr38_lKlI8I85PPooTfu20.jpg</td><td>False</td><td>null</td><td>image</td><td>null</td><td>False</td><td>public</td><td>2022-06-17 13:29:55.664896</td><td>text</td><td>6</td><td>null</td><td>null</td><td>text</td><td>i.redd.it</td><td>False</td><td>null</td><td>null</td><td>null</td><td>null</td><td>https://i.redd.it/i39ca2ufo6691.jpg</td><td>null</td><td>False</td><td>False</td><td>True</td><td>False</td><td>False</td><td>False</td><td>null</td><td>True</td><td>False</td><td>False</td><td>null</td><td>False</td><td>null</td><td>null</td><td>null</td><td>t5_2tex6</td><td>False</td><td>null</td><td>null</td><td>null</td><td></td><td>ved7pz</td><td>True</td><td>null</td><td>TheBluePhenoix</td><td>null</td><td>5</td><td>False</td><td>all_ads</td><td>False</td><td>False</td><td>null</td><td>/r/ProgrammerHumor/comments/ved7pz/never_used_python_ask_me_a_question_and_ill/</td><td>all_ads</td><td>False</td><td>https://i.redd.it/i39ca2ufo6691.jpg</td><td>2056247</td><td>2022-06-17 13:29:55.664896</td><td>0</td><td>null</td><td>False</td><td>2022-06-17</td></tr><tr><td>null</td><td>ProgrammerHumor</td><td></td><td>t2_75mqu1d5</td><td>False</td><td>null</td><td>0</td><td>False</td><td>The pain</td><td>r/ProgrammerHumor</td><td>False</td><td>6</td><td>meme</td><td>0</td><td>140</td><td>null</td><td>True</td><td>t3_vee1sy</td><td>False</td><td>dark</td><td>1.0</td><td>null</td><td>1</td><td>0</td><td>140</td><td>null</td><td>False</td><td>null</td><td>True</td><td>False</td><td>null</td><td>Meme</td><td>False</td><td>1</td><td>null</td><td>False</td><td>False</td><td>https://b.thumbs.redditmedia.com/vDJEMxOnIkDY7iJdkJ4v8rxt17S-3NGxeN4qO02kClw.jpg</td><td>False</td><td>null</td><td>image</td><td>null</td><td>False</td><td>public</td><td>2022-06-17 14:07:57.366272</td><td>richtext</td><td>6</td><td>null</td><td>null</td><td>text</td><td>i.redd.it</td><td>False</td><td>null</td><td>null</td><td>null</td><td>null</td><td>https://i.redd.it/qrbzub8fv6691.jpg</td><td>null</td><td>False</td><td>True</td><td>True</td><td>False</td><td>False</td><td>False</td><td>fe277d42-440f-11e8-8ec3-0eac434afc94</td><td>True</td><td>False</td><td>False</td><td>null</td><td>False</td><td>null</td><td>null</td><td>null</td><td>t5_2tex6</td><td>False</td><td>null</td><td>null</td><td>null</td><td></td><td>vee1sy</td><td>True</td><td>null</td><td>mcalby</td><td>null</td><td>0</td><td>True</td><td>all_ads</td><td>False</td><td>False</td><td>null</td><td>/r/ProgrammerHumor/comments/vee1sy/the_pain/</td><td>all_ads</td><td>False</td><td>https://i.redd.it/qrbzub8fv6691.jpg</td><td>2056264</td><td>2022-06-17 14:07:57.366272</td><td>0</td><td>null</td><td>False</td><td>2022-06-17</td></tr><tr><td>null</td><td>ProgrammerHumor</td><td></td><td>t2_5wtmwnwk</td><td>False</td><td>null</td><td>0</td><td>False</td><td>Running as an admin can make it run faster...</td><td>r/ProgrammerHumor</td><td>False</td><td>6</td><td>meme</td><td>0</td><td>119</td><td>null</td><td>True</td><td>t3_veeho2</td><td>False</td><td>dark</td><td>1.0</td><td>null</td><td>5</td><td>0</td><td>140</td><td>null</td><td>False</td><td>null</td><td>True</td><td>False</td><td>null</td><td>Meme</td><td>False</td><td>5</td><td>null</td><td>False</td><td>False</td><td>https://b.thumbs.redditmedia.com/LKEWm8rZ0uyom4SOTWKWSELv9RyqYqqvK7hwp7bBMSo.jpg</td><td>False</td><td>null</td><td>image</td><td>null</td><td>False</td><td>public</td><td>2022-06-17 14:30:19.543552</td><td>richtext</td><td>6</td><td>null</td><td>null</td><td>text</td><td>i.redd.it</td><td>False</td><td>null</td><td>null</td><td>null</td><td>null</td><td>https://i.redd.it/2bkimh0ow6691.png</td><td>null</td><td>False</td><td>False</td><td>True</td><td>False</td><td>False</td><td>False</td><td>fe277d42-440f-11e8-8ec3-0eac434afc94</td><td>True</td><td>False</td><td>False</td><td>null</td><td>False</td><td>null</td><td>null</td><td>null</td><td>t5_2tex6</td><td>False</td><td>null</td><td>null</td><td>null</td><td></td><td>veeho2</td><td>True</td><td>null</td><td>vanessabaxton</td><td>null</td><td>1</td><td>True</td><td>all_ads</td><td>False</td><td>False</td><td>null</td><td>/r/ProgrammerHumor/comments/veeho2/running_as_an_admin_can_make_it_run_faster/</td><td>all_ads</td><td>False</td><td>https://i.redd.it/2bkimh0ow6691.png</td><td>2056353</td><td>2022-06-17 14:30:19.543552</td><td>0</td><td>null</td><td>False</td><td>2022-06-17</td></tr><tr><td>null</td><td>ProgrammerHumor</td><td></td><td>t2_me0endh</td><td>False</td><td>null</td><td>0</td><td>False</td><td>This one feels so accurate than other pictures</td><td>r/ProgrammerHumor</td><td>False</td><td>6</td><td>null</td><td>0</td><td>140</td><td>null</td><td>True</td><td>t3_veeshq</td><td>False</td><td>dark</td><td>1.0</td><td>null</td><td>4</td><td>0</td><td>140</td><td>null</td><td>False</td><td>null</td><td>True</td><td>False</td><td>null</td><td>null</td><td>False</td><td>4</td><td>null</td><td>False</td><td>False</td><td>https://a.thumbs.redditmedia.com/p1tpbwEsYSvo_BJgKqu1fcvDCYAyJgSrp-G283F8Lz8.jpg</td><td>False</td><td>null</td><td>image</td><td>null</td><td>False</td><td>public</td><td>2022-06-17 14:45:59.067648</td><td>text</td><td>6</td><td>null</td><td>null</td><td>text</td><td>i.redd.it</td><td>False</td><td>null</td><td>null</td><td>null</td><td>null</td><td>https://i.redd.it/pfkmn1aq17691.jpg</td><td>null</td><td>False</td><td>False</td><td>True</td><td>False</td><td>False</td><td>False</td><td>null</td><td>True</td><td>False</td><td>False</td><td>null</td><td>False</td><td>null</td><td>null</td><td>null</td><td>t5_2tex6</td><td>False</td><td>null</td><td>null</td><td>null</td><td></td><td>veeshq</td><td>True</td><td>null</td><td>SubhumanOxford</td><td>null</td><td>0</td><td>True</td><td>all_ads</td><td>False</td><td>False</td><td>null</td><td>/r/ProgrammerHumor/comments/veeshq/this_one_feels_so_accurate_than_other_pictures/</td><td>all_ads</td><td>False</td><td>https://i.redd.it/pfkmn1aq17691.jpg</td><td>2056386</td><td>2022-06-17 14:45:59.067648</td><td>0</td><td>null</td><td>False</td><td>2022-06-17</td></tr><tr><td>null</td><td>ProgrammerHumor</td><td></td><td>t2_72z1d6gn</td><td>False</td><td>null</td><td>0</td><td>False</td><td>We can&#x27;t take it easy! ( Watch full gif)</td><td>r/ProgrammerHumor</td><td>False</td><td>6</td><td>meme</td><td>0</td><td>140</td><td>null</td><td>True</td><td>t3_vef1l2</td><td>False</td><td>dark</td><td>1.0</td><td>transparent</td><td>2</td><td>0</td><td>140</td><td>0d974c6c-008a-11e9-984a-0ebd37c29be8</td><td>False</td><td>null</td><td>True</td><td>False</td><td>null</td><td>Meme</td><td>False</td><td>2</td><td>null</td><td>False</td><td>False</td><td>https://a.thumbs.redditmedia.com/NWo-XPTWZrX_ggKIKdNKDL37L8KUK4GSbnKB-UQVDU4.jpg</td><td>False</td><td>null</td><td>image</td><td>null</td><td>False</td><td>public</td><td>2022-06-17 14:54:55.938560</td><td>richtext</td><td>6</td><td>null</td><td>null</td><td>richtext</td><td>i.redd.it</td><td>False</td><td>null</td><td>null</td><td>null</td><td>null</td><td>https://i.redd.it/ilk0ie5v37691.gif</td><td>null</td><td>False</td><td>False</td><td>True</td><td>False</td><td>False</td><td>False</td><td>fe277d42-440f-11e8-8ec3-0eac434afc94</td><td>True</td><td>False</td><td>False</td><td>:c:</td><td>False</td><td>null</td><td>null</td><td>null</td><td>t5_2tex6</td><td>False</td><td>null</td><td>null</td><td>null</td><td></td><td>vef1l2</td><td>True</td><td>null</td><td>yuva-krishna-memes</td><td>null</td><td>0</td><td>False</td><td>all_ads</td><td>False</td><td>False</td><td>dark</td><td>/r/ProgrammerHumor/comments/vef1l2/we_cant_take_it_easy_watch_full_gif/</td><td>all_ads</td><td>False</td><td>https://i.redd.it/ilk0ie5v37691.gif</td><td>2056427</td><td>2022-06-17 14:54:55.938560</td><td>0</td><td>null</td><td>False</td><td>2022-06-17</td></tr><tr><td>null</td><td>ProgrammerHumor</td><td></td><td>t2_6aqgof0r</td><td>False</td><td>null</td><td>0</td><td>False</td><td>What updating legacy code looks like</td><td>r/ProgrammerHumor</td><td>False</td><td>6</td><td></td><td>0</td><td>140</td><td>null</td><td>True</td><td>t3_veku3x</td><td>False</td><td>dark</td><td>1.0</td><td>transparent</td><td>1</td><td>0</td><td>140</td><td>603693da-b384-11e9-aff0-0e80c20e59fc</td><td>False</td><td>null</td><td>True</td><td>False</td><td>null</td><td>other</td><td>False</td><td>1</td><td>null</td><td>False</td><td>False</td><td>https://a.thumbs.redditmedia.com/1-Tigq3ZTbC6s_cCqV9drGBxjxVbO_QxiBETVxTq6J0.jpg</td><td>False</td><td>null</td><td>image</td><td>null</td><td>False</td><td>public</td><td>2022-06-17 17:09:09.002240</td><td>richtext</td><td>6</td><td>null</td><td>null</td><td>richtext</td><td>i.redd.it</td><td>False</td><td>null</td><td>null</td><td>null</td><td>null</td><td>https://i.redd.it/ldtgw1myq7691.gif</td><td>null</td><td>False</td><td>True</td><td>True</td><td>False</td><td>False</td><td>False</td><td>05703fbe-4a94-11e8-a611-0e0d14fd301e</td><td>True</td><td>False</td><td>False</td><td>:bash:</td><td>False</td><td>null</td><td>null</td><td>null</td><td>t5_2tex6</td><td>False</td><td>null</td><td>null</td><td>null</td><td></td><td>veku3x</td><td>True</td><td>null</td><td>cimulate</td><td>null</td><td>0</td><td>True</td><td>all_ads</td><td>False</td><td>False</td><td>dark</td><td>/r/ProgrammerHumor/comments/veku3x/what_updating_legacy_code_looks_like/</td><td>all_ads</td><td>False</td><td>https://i.redd.it/ldtgw1myq7691.gif</td><td>2057007</td><td>2022-06-17 17:09:09.002240</td><td>0</td><td>null</td><td>False</td><td>2022-06-17</td></tr><tr><td>null</td><td>ProgrammerHumor</td><td></td><td>t2_c3sz6</td><td>False</td><td>null</td><td>0</td><td>False</td><td>ML is amazing, has a little bit more to go though</td><td>r/ProgrammerHumor</td><td>False</td><td>6</td><td>null</td><td>0</td><td>21</td><td>null</td><td>True</td><td>t3_vel74b</td><td>False</td><td>dark</td><td>1.0</td><td>transparent</td><td>1</td><td>0</td><td>140</td><td>1598a064-008a-11e9-915f-0ece1b967634</td><td>False</td><td>null</td><td>True</td><td>False</td><td>null</td><td>null</td><td>False</td><td>1</td><td>null</td><td>False</td><td>False</td><td>https://b.thumbs.redditmedia.com/hsRiMVBjZi5kxVKjfwrLS2j0pc6NDUFTWJNGy7UJjRE.jpg</td><td>False</td><td>null</td><td>image</td><td>null</td><td>False</td><td>public</td><td>2022-06-17 17:22:34.308608</td><td>text</td><td>6</td><td>null</td><td>null</td><td>richtext</td><td>i.redd.it</td><td>False</td><td>null</td><td>null</td><td>null</td><td>null</td><td>https://i.redd.it/yo6nf6irt7691.png</td><td>null</td><td>False</td><td>True</td><td>True</td><td>False</td><td>False</td><td>False</td><td>null</td><td>True</td><td>False</td><td>False</td><td>:snoo_facepalm::table::table_flip:</td><td>False</td><td>null</td><td>null</td><td>null</td><td>t5_2tex6</td><td>False</td><td>null</td><td>null</td><td>null</td><td></td><td>vel74b</td><td>True</td><td>null</td><td>d_b1997</td><td>null</td><td>1</td><td>True</td><td>all_ads</td><td>False</td><td>False</td><td>dark</td><td>/r/ProgrammerHumor/comments/vel74b/ml_is_amazing_has_a_little_bit_more_to_go_though/</td><td>all_ads</td><td>False</td><td>https://i.redd.it/yo6nf6irt7691.png</td><td>2057069</td><td>2022-06-17 17:22:34.308608</td><td>0</td><td>null</td><td>False</td><td>2022-06-17</td></tr><tr><td>null</td><td>ProgrammerHumor</td><td>&amp;amp;#x200B;\n",
       "\n",
       "https://preview.redd.it/tnosvaaku7691.jpg?width=500&amp;amp;format=pjpg&amp;amp;auto=webp&amp;amp;s=f6d1e84b4330ac8fd1234206b8b2e79020d567b5</td><td>t2_b7gtgbbj</td><td>False</td><td>null</td><td>0</td><td>False</td><td>Unfinished projects... but you have a job now</td><td>r/ProgrammerHumor</td><td>False</td><td>6</td><td>null</td><td>0</td><td>140</td><td>null</td><td>True</td><td>t3_vela4r</td><td>False</td><td>dark</td><td>1.0</td><td>null</td><td>2</td><td>0</td><td>140</td><td>null</td><td>False</td><td>null</td><td>False</td><td>False</td><td>null</td><td>null</td><td>False</td><td>2</td><td>null</td><td>False</td><td>False</td><td>https://b.thumbs.redditmedia.com/nrrvbRzLsjCOxaOKuXu4pgBeY7WLRwbN3yJmbfslnbk.jpg</td><td>False</td><td>null</td><td>null</td><td>null</td><td>True</td><td>public</td><td>2022-06-17 17:24:48.526336</td><td>text</td><td>6</td><td>null</td><td>null</td><td>text</td><td>self.ProgrammerHumor</td><td>False</td><td>&amp;lt;!-- SC_OFF --&amp;gt;&amp;lt;div class=&quot;md&quot;&amp;gt;&amp;lt;p&amp;gt;&amp;amp;#x200B;&amp;lt;/p&amp;gt;\n",
       "\n",
       "&amp;lt;p&amp;gt;&amp;lt;a href=&quot;https://preview.redd.it/tnosvaaku7691.jpg?width=500&amp;amp;amp;format=pjpg&amp;amp;amp;auto=webp&amp;amp;amp;s=f6d1e84b4330ac8fd1234206b8b2e79020d567b5&quot;&amp;gt;https://preview.redd.it/tnosvaaku7691.jpg?width=500&amp;amp;amp;format=pjpg&amp;amp;amp;auto=webp&amp;amp;amp;s=f6d1e84b4330ac8fd1234206b8b2e79020d567b5&amp;lt;/a&amp;gt;&amp;lt;/p&amp;gt;\n",
       "&amp;lt;/div&amp;gt;&amp;lt;!-- SC_ON --&amp;gt;</td><td>null</td><td>null</td><td>null</td><td>null</td><td>null</td><td>False</td><td>False</td><td>True</td><td>False</td><td>False</td><td>False</td><td>null</td><td>True</td><td>False</td><td>False</td><td>null</td><td>False</td><td>null</td><td>null</td><td>null</td><td>t5_2tex6</td><td>False</td><td>null</td><td>null</td><td>null</td><td></td><td>vela4r</td><td>True</td><td>null</td><td>NepaleseNomad</td><td>null</td><td>1</td><td>True</td><td>all_ads</td><td>False</td><td>False</td><td>null</td><td>/r/ProgrammerHumor/comments/vela4r/unfinished_projects_but_you_have_a_job_now/</td><td>all_ads</td><td>False</td><td>https://www.reddit.com/r/ProgrammerHumor/comments/vela4r/unfinished_projects_but_you_have_a_job_now/</td><td>2057095</td><td>2022-06-17 17:24:48.526336</td><td>0</td><td>null</td><td>False</td><td>2022-06-17</td></tr><tr><td>null</td><td>ProgrammerHumor</td><td></td><td>t2_2adcyla4</td><td>False</td><td>null</td><td>0</td><td>False</td><td>What working in Data Science in Latin America is like</td><td>r/ProgrammerHumor</td><td>False</td><td>6</td><td>null</td><td>0</td><td>140</td><td>null</td><td>True</td><td>t3_veldzy</td><td>False</td><td>dark</td><td>1.0</td><td>null</td><td>5</td><td>0</td><td>140</td><td>null</td><td>False</td><td>null</td><td>True</td><td>False</td><td>null</td><td>null</td><td>False</td><td>5</td><td>null</td><td>False</td><td>False</td><td>https://b.thumbs.redditmedia.com/Nna-dMeKp0__9IkGb-gQeITvbpYYhx3q_j_LnAYxd8E.jpg</td><td>False</td><td>null</td><td>image</td><td>null</td><td>False</td><td>public</td><td>2022-06-17 17:31:31.179520</td><td>text</td><td>6</td><td>null</td><td>null</td><td>text</td><td>i.redd.it</td><td>False</td><td>null</td><td>null</td><td>null</td><td>null</td><td>https://i.redd.it/bn83qm4fv7691.jpg</td><td>null</td><td>False</td><td>False</td><td>True</td><td>False</td><td>False</td><td>False</td><td>null</td><td>True</td><td>False</td><td>False</td><td>null</td><td>False</td><td>null</td><td>null</td><td>null</td><td>t5_2tex6</td><td>False</td><td>null</td><td>null</td><td>null</td><td></td><td>veldzy</td><td>True</td><td>null</td><td>mateayat98</td><td>null</td><td>0</td><td>False</td><td>all_ads</td><td>False</td><td>False</td><td>null</td><td>/r/ProgrammerHumor/comments/veldzy/what_working_in_data_science_in_latin_america_is/</td><td>all_ads</td><td>False</td><td>https://i.redd.it/bn83qm4fv7691.jpg</td><td>2057116</td><td>2022-06-17 17:31:31.179520</td><td>0</td><td>null</td><td>False</td><td>2022-06-17</td></tr><tr><td>null</td><td>ProgrammerHumor</td><td></td><td>t2_5w2r9rpw</td><td>False</td><td>null</td><td>0</td><td>False</td><td>Go home reddit, you&#x27;re drunk</td><td>r/ProgrammerHumor</td><td>False</td><td>6</td><td>null</td><td>0</td><td>140</td><td>null</td><td>True</td><td>t3_velno4</td><td>False</td><td>dark</td><td>1.0</td><td>null</td><td>1</td><td>0</td><td>140</td><td>null</td><td>False</td><td>{&quot;type&quot;:&quot;imgur.com&quot;,&quot;oembed&quot;:{&quot;provider_url&quot;:&quot;http://imgur.com&quot;,&quot;description&quot;:&quot;Post with 0 views.&quot;,&quot;title&quot;:&quot;Imgur&quot;,&quot;url&quot;:&quot;https://imgur.com/a/SOm4dRg&quot;,&quot;type&quot;:&quot;rich&quot;,&quot;thumbnail_width&quot;:600,&quot;height&quot;:1023,&quot;width&quot;:500,&quot;html&quot;:&quot;&amp;lt;iframe class=\\&quot;embedly-embed\\&quot; src=\\&quot;https://cdn.embedly.com/widgets/media.html?src=https%3A%2F%2Fimgur.com%2Fa%2FSOm4dRg%2Fembed%3Fpub%3Dtrue%26ref%3Dhttps%253A%252F%252Fembed.ly%26w%3D500&amp;amp;display_name=Imgur&amp;amp;url=https%3A%2F%2Fimgur.com%2Fa%2FSOm4dRg&amp;amp;image=https%3A%2F%2Fi.imgur.com%2FNmtrXiC.jpg%3Ffb&amp;amp;key=2aa3c4d5f3de4f5b9120b660ad850dc9&amp;amp;type=text%2Fhtml&amp;amp;schema=imgur\\&quot; width=\\&quot;500\\&quot; height=\\&quot;1023\\&quot; scrolling=\\&quot;no\\&quot; title=\\&quot;Imgur embed\\&quot; frameborder=\\&quot;0\\&quot; allow=\\&quot;autoplay; fullscreen\\&quot; allowfullscreen=\\&quot;true\\&quot;&amp;gt;&amp;lt;/iframe&amp;gt;&quot;,&quot;version&quot;:&quot;1.0&quot;,&quot;provider_name&quot;:&quot;Imgur&quot;,&quot;thumbnail_url&quot;:&quot;https://i.imgur.com/NmtrXiC.jpg?fb&quot;,&quot;thumbnail_height&quot;:315}}</td><td>False</td><td>False</td><td>null</td><td>null</td><td>False</td><td>1</td><td>null</td><td>False</td><td>False</td><td>https://b.thumbs.redditmedia.com/8LhtIl6781d0Gwyy2nWEDZiGxQOqkB3EEbB536q1W8M.jpg</td><td>False</td><td>null</td><td>link</td><td>null</td><td>False</td><td>public</td><td>2022-06-17 17:42:42.268160</td><td>text</td><td>6</td><td>null</td><td>null</td><td>text</td><td>imgur.com</td><td>False</td><td>null</td><td>null</td><td>null</td><td>null</td><td>https://imgur.com/a/SOm4dRg</td><td>null</td><td>False</td><td>True</td><td>True</td><td>False</td><td>False</td><td>False</td><td>null</td><td>True</td><td>False</td><td>False</td><td>null</td><td>False</td><td>null</td><td>null</td><td>null</td><td>t5_2tex6</td><td>False</td><td>null</td><td>null</td><td>null</td><td></td><td>velno4</td><td>True</td><td>null</td><td>thisisapseudo</td><td>null</td><td>0</td><td>True</td><td>all_ads</td><td>False</td><td>False</td><td>null</td><td>/r/ProgrammerHumor/comments/velno4/go_home_reddit_youre_drunk/</td><td>all_ads</td><td>False</td><td>https://imgur.com/a/SOm4dRg</td><td>2057162</td><td>2022-06-17 17:42:42.268160</td><td>0</td><td>{&quot;type&quot;:&quot;imgur.com&quot;,&quot;oembed&quot;:{&quot;provider_url&quot;:&quot;http://imgur.com&quot;,&quot;description&quot;:&quot;Post with 0 views.&quot;,&quot;title&quot;:&quot;Imgur&quot;,&quot;url&quot;:&quot;https://imgur.com/a/SOm4dRg&quot;,&quot;type&quot;:&quot;rich&quot;,&quot;thumbnail_width&quot;:600,&quot;height&quot;:1023,&quot;width&quot;:500,&quot;html&quot;:&quot;&amp;lt;iframe class=\\&quot;embedly-embed\\&quot; src=\\&quot;https://cdn.embedly.com/widgets/media.html?src=https%3A%2F%2Fimgur.com%2Fa%2FSOm4dRg%2Fembed%3Fpub%3Dtrue%26ref%3Dhttps%253A%252F%252Fembed.ly%26w%3D500&amp;amp;display_name=Imgur&amp;amp;url=https%3A%2F%2Fimgur.com%2Fa%2FSOm4dRg&amp;amp;image=https%3A%2F%2Fi.imgur.com%2FNmtrXiC.jpg%3Ffb&amp;amp;key=2aa3c4d5f3de4f5b9120b660ad850dc9&amp;amp;type=text%2Fhtml&amp;amp;schema=imgur\\&quot; width=\\&quot;500\\&quot; height=\\&quot;1023\\&quot; scrolling=\\&quot;no\\&quot; title=\\&quot;Imgur embed\\&quot; frameborder=\\&quot;0\\&quot; allow=\\&quot;autoplay; fullscreen\\&quot; allowfullscreen=\\&quot;true\\&quot;&amp;gt;&amp;lt;/iframe&amp;gt;&quot;,&quot;version&quot;:&quot;1.0&quot;,&quot;provider_name&quot;:&quot;Imgur&quot;,&quot;thumbnail_url&quot;:&quot;https://i.imgur.com/NmtrXiC.jpg?fb&quot;,&quot;thumbnail_height&quot;:315}}</td><td>False</td><td>2022-06-17</td></tr></table>"
      ],
      "text/plain": [
       "<IPython.core.display.HTML object>"
      ]
     },
     "execution_count": 10,
     "metadata": {},
     "output_type": "execute_result"
    }
   ],
   "source": [
    "%%sparksql\n",
    "\n",
    "select * from reddit_ProgrammerHumor order by created_utc asc limit 10"
   ]
  },
  {
   "cell_type": "markdown",
   "metadata": {},
   "source": [
    "### stop spark"
   ]
  },
  {
   "cell_type": "code",
   "execution_count": 15,
   "metadata": {},
   "outputs": [
    {
     "name": "stdout",
     "output_type": "stream",
     "text": [
      "stopped spark successfully.\n"
     ]
    }
   ],
   "source": [
    "spark.stop()\n",
    "print(\"stopped spark successfully.\")"
   ]
  },
  {
   "cell_type": "code",
   "execution_count": null,
   "metadata": {},
   "outputs": [],
   "source": []
  }
 ],
 "metadata": {
  "kernelspec": {
   "display_name": "Python 3.7.3 64-bit",
   "language": "python",
   "name": "python3"
  },
  "language_info": {
   "codemirror_mode": {
    "name": "ipython",
    "version": 3
   },
   "file_extension": ".py",
   "mimetype": "text/x-python",
   "name": "python",
   "nbconvert_exporter": "python",
   "pygments_lexer": "ipython3",
   "version": "3.7.3"
  },
  "orig_nbformat": 4,
  "vscode": {
   "interpreter": {
    "hash": "0a3965bb87c7f85525737e9dcab01b6236cd197d584043cebbfd2eb359c98157"
   }
  }
 },
 "nbformat": 4,
 "nbformat_minor": 2
}
