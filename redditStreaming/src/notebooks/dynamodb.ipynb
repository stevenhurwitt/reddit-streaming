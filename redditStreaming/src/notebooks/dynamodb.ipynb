{
 "cells": [
  {
   "cell_type": "markdown",
   "metadata": {},
   "source": [
    "# aws dynamo db"
   ]
  },
  {
   "cell_type": "code",
   "execution_count": 2,
   "metadata": {},
   "outputs": [],
   "source": [
    "# ! pip3 install boto3\n",
    "import boto3"
   ]
  },
  {
   "cell_type": "code",
   "execution_count": 14,
   "metadata": {},
   "outputs": [],
   "source": [
    "# Get the service client\n",
    "db = boto3.client('dynamodb',endpoint_url='http://localhost:8000', region_name = \"us-east-2\")\n",
    "# Get the service resource\n",
    "# db = boto3.resource('dynamodb',endpoint_url='http://localhost:8000', region_name = \"us-east-2\")\n"
   ]
  },
  {
   "cell_type": "code",
   "execution_count": 15,
   "metadata": {},
   "outputs": [
    {
     "data": {
      "text/plain": [
       "['_PY_TO_OP_NAME',\n",
       " '__class__',\n",
       " '__delattr__',\n",
       " '__dict__',\n",
       " '__dir__',\n",
       " '__doc__',\n",
       " '__eq__',\n",
       " '__format__',\n",
       " '__ge__',\n",
       " '__getattr__',\n",
       " '__getattribute__',\n",
       " '__gt__',\n",
       " '__hash__',\n",
       " '__init__',\n",
       " '__init_subclass__',\n",
       " '__le__',\n",
       " '__lt__',\n",
       " '__module__',\n",
       " '__ne__',\n",
       " '__new__',\n",
       " '__reduce__',\n",
       " '__reduce_ex__',\n",
       " '__repr__',\n",
       " '__setattr__',\n",
       " '__sizeof__',\n",
       " '__str__',\n",
       " '__subclasshook__',\n",
       " '__weakref__',\n",
       " '_cache',\n",
       " '_client_config',\n",
       " '_convert_to_request_dict',\n",
       " '_emit_api_params',\n",
       " '_endpoint',\n",
       " '_exceptions',\n",
       " '_exceptions_factory',\n",
       " '_get_waiter_config',\n",
       " '_load_exceptions',\n",
       " '_loader',\n",
       " '_make_api_call',\n",
       " '_make_request',\n",
       " '_register_handlers',\n",
       " '_request_signer',\n",
       " '_resolve_endpoint_ruleset',\n",
       " '_response_parser',\n",
       " '_ruleset_resolver',\n",
       " '_serializer',\n",
       " '_service_model',\n",
       " 'batch_execute_statement',\n",
       " 'batch_get_item',\n",
       " 'batch_write_item',\n",
       " 'can_paginate',\n",
       " 'close',\n",
       " 'create_backup',\n",
       " 'create_global_table',\n",
       " 'create_table',\n",
       " 'delete_backup',\n",
       " 'delete_item',\n",
       " 'delete_table',\n",
       " 'describe_backup',\n",
       " 'describe_continuous_backups',\n",
       " 'describe_contributor_insights',\n",
       " 'describe_endpoints',\n",
       " 'describe_export',\n",
       " 'describe_global_table',\n",
       " 'describe_global_table_settings',\n",
       " 'describe_import',\n",
       " 'describe_kinesis_streaming_destination',\n",
       " 'describe_limits',\n",
       " 'describe_table',\n",
       " 'describe_table_replica_auto_scaling',\n",
       " 'describe_time_to_live',\n",
       " 'disable_kinesis_streaming_destination',\n",
       " 'enable_kinesis_streaming_destination',\n",
       " 'exceptions',\n",
       " 'execute_statement',\n",
       " 'execute_transaction',\n",
       " 'export_table_to_point_in_time',\n",
       " 'generate_presigned_url',\n",
       " 'get_item',\n",
       " 'get_paginator',\n",
       " 'get_waiter',\n",
       " 'import_table',\n",
       " 'list_backups',\n",
       " 'list_contributor_insights',\n",
       " 'list_exports',\n",
       " 'list_global_tables',\n",
       " 'list_imports',\n",
       " 'list_tables',\n",
       " 'list_tags_of_resource',\n",
       " 'meta',\n",
       " 'put_item',\n",
       " 'query',\n",
       " 'restore_table_from_backup',\n",
       " 'restore_table_to_point_in_time',\n",
       " 'scan',\n",
       " 'tag_resource',\n",
       " 'transact_get_items',\n",
       " 'transact_write_items',\n",
       " 'untag_resource',\n",
       " 'update_continuous_backups',\n",
       " 'update_contributor_insights',\n",
       " 'update_global_table',\n",
       " 'update_global_table_settings',\n",
       " 'update_item',\n",
       " 'update_table',\n",
       " 'update_table_replica_auto_scaling',\n",
       " 'update_time_to_live',\n",
       " 'waiter_names']"
      ]
     },
     "execution_count": 15,
     "metadata": {},
     "output_type": "execute_result"
    }
   ],
   "source": [
    "dir(db)"
   ]
  },
  {
   "cell_type": "code",
   "execution_count": 9,
   "metadata": {},
   "outputs": [],
   "source": [
    "# db.create_table()"
   ]
  },
  {
   "cell_type": "markdown",
   "metadata": {},
   "source": [
    "# aws athena"
   ]
  },
  {
   "cell_type": "code",
   "execution_count": 10,
   "metadata": {},
   "outputs": [],
   "source": [
    "athena = boto3.client(\"athena\", region_name = \"us-east-2\")\n",
    "# dir(athena)"
   ]
  },
  {
   "cell_type": "code",
   "execution_count": 13,
   "metadata": {},
   "outputs": [
    {
     "data": {
      "text/plain": [
       "<botocore.client.Athena at 0x7fb11e64d870>"
      ]
     },
     "execution_count": 13,
     "metadata": {},
     "output_type": "execute_result"
    }
   ],
   "source": [
    "athena"
   ]
  },
  {
   "cell_type": "markdown",
   "metadata": {},
   "source": [
    "# aws s3"
   ]
  },
  {
   "cell_type": "code",
   "execution_count": 11,
   "metadata": {},
   "outputs": [],
   "source": [
    "s3 = boto3.client(\"s3\", region_name = \"us-east-2\")\n",
    "# dir(s3)"
   ]
  },
  {
   "cell_type": "code",
   "execution_count": 12,
   "metadata": {},
   "outputs": [
    {
     "data": {
      "text/plain": [
       "<botocore.client.S3 at 0x7fb11f9bb3d0>"
      ]
     },
     "execution_count": 12,
     "metadata": {},
     "output_type": "execute_result"
    }
   ],
   "source": [
    "s3"
   ]
  },
  {
   "cell_type": "code",
   "execution_count": null,
   "metadata": {},
   "outputs": [],
   "source": []
  }
 ],
 "metadata": {
  "kernelspec": {
   "display_name": "Python 3.10.6 ('reddit')",
   "language": "python",
   "name": "python3"
  },
  "language_info": {
   "codemirror_mode": {
    "name": "ipython",
    "version": 3
   },
   "file_extension": ".py",
   "mimetype": "text/x-python",
   "name": "python",
   "nbconvert_exporter": "python",
   "pygments_lexer": "ipython3",
   "version": "3.10.6"
  },
  "orig_nbformat": 4,
  "vscode": {
   "interpreter": {
    "hash": "9a277b210ad7f0c6441931a5b6be2ef794a5638f5d4cc90aa80f32f80924f3fa"
   }
  }
 },
 "nbformat": 4,
 "nbformat_minor": 2
}
