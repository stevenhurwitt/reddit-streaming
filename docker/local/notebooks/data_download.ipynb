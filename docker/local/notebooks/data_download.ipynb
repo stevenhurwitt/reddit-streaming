{
 "cells": [
  {
   "cell_type": "markdown",
   "metadata": {},
   "source": [
    "# Data Download #\n",
    "This notebook downloads data for the other notebook examples in this folder using Python `wget`.  The data is downloaded to  `/opt/workspace/datain/flight-data` which is on the *shared-workspace* Docker volume."
   ]
  },
  {
   "cell_type": "code",
   "execution_count": 1,
   "metadata": {},
   "outputs": [],
   "source": [
    "import wget"
   ]
  },
  {
   "cell_type": "markdown",
   "metadata": {},
   "source": [
    "#### Flight Data ####\n",
    "Download Flight Data from GitHub site [Databricks - Spark The Definitive Guide](https://github.com/databricks/Spark-The-Definitive-Guide)\n"
   ]
  },
  {
   "cell_type": "code",
   "execution_count": 2,
   "metadata": {},
   "outputs": [],
   "source": [
    "mkdir -p /opt/workspace/datain/flight-data"
   ]
  },
  {
   "cell_type": "code",
   "execution_count": 3,
   "metadata": {},
   "outputs": [
    {
     "name": "stdout",
     "output_type": "stream",
     "text": [
      "download 2010-summary.csv\n",
      "download 2011-summary.csv\n",
      "download 2012-summary.csv\n",
      "download 2013-summary.csv\n",
      "download 2014-summary.csv\n",
      "download 2015-summary.csv\n"
     ]
    }
   ],
   "source": [
    "files = ['2010-summary.csv','2011-summary.csv', '2012-summary.csv', '2013-summary.csv','2014-summary.csv', '2015-summary.csv']\n",
    "target_path = '/opt/workspace/datain/flight-data'\n",
    "\n",
    "for f in files:\n",
    "     print(\"download {}\".format(f))\n",
    "     wget.download('https://raw.githubusercontent.com/databricks/Spark-The-Definitive-Guide/master/data/flight-data/csv/{}'.format(f)\n",
    "                   , out=target_path)\n",
    "        "
   ]
  },
  {
   "cell_type": "markdown",
   "metadata": {},
   "source": [
    "#### Retail Data ####\n",
    "Download the Retail Data from GitHub site [Databricks - Spark The Definitive Guide](https://github.com/databricks/Spark-The-Definitive-Guide) from the`data/retail-data` directory to the workspace `datain/retail-data` directory."
   ]
  },
  {
   "cell_type": "code",
   "execution_count": null,
   "metadata": {},
   "outputs": [],
   "source": [
    "mkdir -p /opt/workspace/datain/retail-data/by-day"
   ]
  },
  {
   "cell_type": "code",
   "execution_count": null,
   "metadata": {},
   "outputs": [],
   "source": [
    "target_path = '/opt/workspace/datain/retail-data/by-day'\n",
    "\n",
    "fh = open(\"./retail_data_day_files.txt\", \"r\")\n",
    "for f in fh:\n",
    "    print(\"download {}\".format(f))\n",
    "    wget.download('https://raw.githubusercontent.com/databricks/Spark-The-Definitive-Guide/master/data/retail-data/by-day/{}'.format(f.strip())\n",
    "                   , out=target_path)\n"
   ]
  },
  {
   "cell_type": "code",
   "execution_count": null,
   "metadata": {},
   "outputs": [],
   "source": []
  }
 ],
 "metadata": {
  "kernelspec": {
   "display_name": "Python 3 (ipykernel)",
   "language": "python",
   "name": "python3"
  },
  "language_info": {
   "codemirror_mode": {
    "name": "ipython",
    "version": 3
   },
   "file_extension": ".py",
   "mimetype": "text/x-python",
   "name": "python",
   "nbconvert_exporter": "python",
   "pygments_lexer": "ipython3",
   "version": "3.7.9"
  }
 },
 "nbformat": 4,
 "nbformat_minor": 4
}
