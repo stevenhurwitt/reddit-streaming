{
 "cells": [
  {
   "cell_type": "markdown",
   "id": "5414c819",
   "metadata": {},
   "source": [
    "# 5. K-Means Clustering with the Retail Data-Set #\n",
    "Demonstration of using the [Spark MLlib](https://spark.apache.org/docs/latest/ml-guide.html) machine learning library to apply the K-Means algorithm to the Retail data-set.  The retail data-set can be downloaded using notebook 1 \"*pyspark-nb-1.ipynb*\"  \n",
    "\n",
    "\"*The MLlib RDD-based API is now in maintenance mode.\n",
    "As of Spark 2.0, the RDD-based APIs in the spark.mllib package have entered maintenance mode. The primary Machine Learning API for Spark is now the DataFrame-based API in the spark.ml package.*\"\n",
    "\n",
    "Steps covered in this notebook:  \n",
    "- Split the data into a test and training dataset using the Spark DF `randomSplit` function  \n",
    "- Use MLlib `StringIndexer` and `OneHotEncoder` to encode the Day-of-Week as numeric data  \n",
    "- Combine feature columns into a single Vector stored in one column using the MLlib `VectorAssembler`  \n",
    "- Use MLlib `Pipeline` to link multiple stages into a single pipeline of data processing transformation  \n",
    "- Use MLlib `KMeans` to build a clustering model that classifies data into clusters.  \n",
    "\n",
    "Cluster Model Training and Evaluation  \n",
    "- Evaluate best number of clusters to choose using the `evaluation.ClusteringEvaluator` library  \n",
    "- Consider the distance from centers (optimize at minimum for least error)  and the [cluster Silhouette](https://en.wikipedia.org/wiki/Silhouette_(clustering)) value (optimize at +1)\n",
    "\n",
    "Cluster Model Testing\n",
    "- try classifying test data with the KMeans model and examine the cluster classification results  \n",
    "\n",
    "\n"
   ]
  },
  {
   "cell_type": "code",
   "execution_count": 1,
   "id": "f4b8bbd9",
   "metadata": {},
   "outputs": [
    {
     "name": "stderr",
     "output_type": "stream",
     "text": [
      "22/03/04 17:20:27 WARN NativeCodeLoader: Unable to load native-hadoop library for your platform... using builtin-java classes where applicable\n",
      "Using Spark's default log4j profile: org/apache/spark/log4j-defaults.properties\n",
      "Setting default log level to \"WARN\".\n",
      "To adjust logging level use sc.setLogLevel(newLevel). For SparkR, use setLogLevel(newLevel).\n"
     ]
    }
   ],
   "source": [
    "# Connect to Spark Server\n",
    "from pyspark.sql import SparkSession\n",
    "spark = SparkSession.\\\n",
    "        builder.\\\n",
    "        appName(\"pyspark-nb-5-kmeans\").\\\n",
    "        master(\"spark://spark-master:7077\").\\\n",
    "        config(\"spark.executor.memory\", \"512m\").\\\n",
    "        config(\"spark.eventLog.enabled\", \"true\").\\\n",
    "        config(\"spark.eventLog.dir\", \"file:///opt/workspace/events\").\\\n",
    "        getOrCreate() "
   ]
  },
  {
   "cell_type": "code",
   "execution_count": 2,
   "id": "8c92fc50",
   "metadata": {},
   "outputs": [],
   "source": [
    "# Only log errors at ERROR, skip INFO  and WARN\n",
    "spark.sparkContext.setLogLevel(\"ERROR\")"
   ]
  },
  {
   "cell_type": "markdown",
   "id": "b771a464",
   "metadata": {},
   "source": [
    "#### Load Data ####"
   ]
  },
  {
   "cell_type": "code",
   "execution_count": 3,
   "id": "e8949bdc",
   "metadata": {},
   "outputs": [],
   "source": [
    "# import date_format fuction and col (\"return a column\") function\n",
    "from pyspark.sql.functions import date_format, col"
   ]
  },
  {
   "cell_type": "code",
   "execution_count": 4,
   "id": "0f319643",
   "metadata": {},
   "outputs": [
    {
     "name": "stderr",
     "output_type": "stream",
     "text": [
      "                                                                                \r"
     ]
    }
   ],
   "source": [
    "# Load data\n",
    "retailDataFrame = spark.read.option(\"inferSchema\", True).option(\"header\", True).csv(\"/opt/workspace/datain/retail-data/by-day/*.csv\")"
   ]
  },
  {
   "cell_type": "code",
   "execution_count": 5,
   "id": "72c0bdab",
   "metadata": {},
   "outputs": [],
   "source": [
    "# Fill Na's and create a day_of_week column.   coalesce(2) function coalesce's data down to 2 node partitions\n",
    "preppedDataFrame = retailDataFrame.na.fill(0).withColumn(\"day_of_week\", date_format(col(\"InvoiceDate\"), \"EEEE\")).coalesce(2)"
   ]
  },
  {
   "cell_type": "markdown",
   "id": "67f1b817",
   "metadata": {},
   "source": [
    "#### Explore the Data ####\n",
    "Very brief look at the data-set."
   ]
  },
  {
   "cell_type": "code",
   "execution_count": 6,
   "id": "f37e1511",
   "metadata": {},
   "outputs": [
    {
     "name": "stdout",
     "output_type": "stream",
     "text": [
      "+---------+---------+--------------------+--------+-------------------+---------+----------+--------------+-----------+\n",
      "|InvoiceNo|StockCode|         Description|Quantity|        InvoiceDate|UnitPrice|CustomerID|       Country|day_of_week|\n",
      "+---------+---------+--------------------+--------+-------------------+---------+----------+--------------+-----------+\n",
      "|   580538|    23084|  RABBIT NIGHT LIGHT|      48|2011-12-05 08:38:00|     1.79|   14075.0|United Kingdom|     Monday|\n",
      "|   580538|    23077| DOUGHNUT LIP GLOSS |      20|2011-12-05 08:38:00|     1.25|   14075.0|United Kingdom|     Monday|\n",
      "|   580538|    22906|12 MESSAGE CARDS ...|      24|2011-12-05 08:38:00|     1.65|   14075.0|United Kingdom|     Monday|\n",
      "|   580538|    21914|BLUE HARMONICA IN...|      24|2011-12-05 08:38:00|     1.25|   14075.0|United Kingdom|     Monday|\n",
      "|   580538|    22467|   GUMBALL COAT RACK|       6|2011-12-05 08:38:00|     2.55|   14075.0|United Kingdom|     Monday|\n",
      "+---------+---------+--------------------+--------+-------------------+---------+----------+--------------+-----------+\n",
      "only showing top 5 rows\n",
      "\n"
     ]
    }
   ],
   "source": [
    "preppedDataFrame.show(5)"
   ]
  },
  {
   "cell_type": "code",
   "execution_count": 7,
   "id": "03733b81",
   "metadata": {},
   "outputs": [
    {
     "name": "stderr",
     "output_type": "stream",
     "text": [
      "[Stage 5:=============================>                             (1 + 1) / 2]"
     ]
    },
    {
     "name": "stdout",
     "output_type": "stream",
     "text": [
      "+-------+------------------+------------------+--------------------+------------------+------------------+------------------+-----------+-----------+\n",
      "|summary|         InvoiceNo|         StockCode|         Description|          Quantity|         UnitPrice|        CustomerID|    Country|day_of_week|\n",
      "+-------+------------------+------------------+--------------------+------------------+------------------+------------------+-----------+-----------+\n",
      "|  count|            541909|            541909|              540455|            541909|            541909|            541909|     541909|     541909|\n",
      "|   mean|  559965.752026781|27623.240210938104|             20713.0|  9.55224954743324|4.6111136260826315|11476.974671024102|       null|       null|\n",
      "| stddev|13428.417280792186|16799.737628427614|                 NaN|218.08115785023375| 96.75985306117823|  6777.90832601304|       null|       null|\n",
      "|    min|            536365|             10002| 4 PURPLE FLOCK D...|            -80995|         -11062.06|               0.0|  Australia|     Friday|\n",
      "|    max|           C581569|                 m|   wrongly sold sets|             80995|           38970.0|           18287.0|Unspecified|  Wednesday|\n",
      "+-------+------------------+------------------+--------------------+------------------+------------------+------------------+-----------+-----------+\n",
      "\n"
     ]
    },
    {
     "name": "stderr",
     "output_type": "stream",
     "text": [
      "                                                                                \r"
     ]
    }
   ],
   "source": [
    "#Summary stats\n",
    "preppedDataFrame.describe().show()"
   ]
  },
  {
   "cell_type": "code",
   "execution_count": 8,
   "id": "6924d017",
   "metadata": {},
   "outputs": [
    {
     "name": "stderr",
     "output_type": "stream",
     "text": [
      "[Stage 8:==============================>                        (112 + 2) / 200]"
     ]
    },
    {
     "name": "stdout",
     "output_type": "stream",
     "text": [
      "+--------------------+------+\n",
      "|Country             |count |\n",
      "+--------------------+------+\n",
      "|United Kingdom      |495478|\n",
      "|Germany             |9495  |\n",
      "|France              |8557  |\n",
      "|EIRE                |8196  |\n",
      "|Spain               |2533  |\n",
      "|Netherlands         |2371  |\n",
      "|Belgium             |2069  |\n",
      "|Switzerland         |2002  |\n",
      "|Portugal            |1519  |\n",
      "|Australia           |1259  |\n",
      "|Norway              |1086  |\n",
      "|Italy               |803   |\n",
      "|Channel Islands     |758   |\n",
      "|Finland             |695   |\n",
      "|Cyprus              |622   |\n",
      "|Sweden              |462   |\n",
      "|Unspecified         |446   |\n",
      "|Austria             |401   |\n",
      "|Denmark             |389   |\n",
      "|Japan               |358   |\n",
      "|Poland              |341   |\n",
      "|Israel              |297   |\n",
      "|USA                 |291   |\n",
      "|Hong Kong           |288   |\n",
      "|Singapore           |229   |\n",
      "|Iceland             |182   |\n",
      "|Canada              |151   |\n",
      "|Greece              |146   |\n",
      "|Malta               |127   |\n",
      "|United Arab Emirates|68    |\n",
      "|European Community  |61    |\n",
      "|RSA                 |58    |\n",
      "|Lebanon             |45    |\n",
      "|Lithuania           |35    |\n",
      "|Brazil              |32    |\n",
      "|Czech Republic      |30    |\n",
      "|Bahrain             |19    |\n",
      "|Saudi Arabia        |10    |\n",
      "+--------------------+------+\n",
      "\n"
     ]
    },
    {
     "name": "stderr",
     "output_type": "stream",
     "text": [
      "                                                                                \r"
     ]
    }
   ],
   "source": [
    "# Distribution of records by country\n",
    "from pyspark.sql.functions import desc\n",
    "preppedDataFrame.groupby('Country').count().sort(desc(\"count\")).show(100,False)"
   ]
  },
  {
   "cell_type": "markdown",
   "id": "0d82ae1f",
   "metadata": {},
   "source": [
    "-> The data is heavily skewed to the UK."
   ]
  },
  {
   "cell_type": "code",
   "execution_count": 9,
   "id": "0d32dd84",
   "metadata": {},
   "outputs": [
    {
     "name": "stderr",
     "output_type": "stream",
     "text": [
      "                                                                                \r"
     ]
    },
    {
     "data": {
      "text/plain": [
       "4070"
      ]
     },
     "execution_count": 9,
     "metadata": {},
     "output_type": "execute_result"
    }
   ],
   "source": [
    "# Distinct number of product codes \n",
    "preppedDataFrame.select('StockCode').distinct().count()"
   ]
  },
  {
   "cell_type": "markdown",
   "id": "50698b59",
   "metadata": {},
   "source": [
    "-> There are 4070 distinct products"
   ]
  },
  {
   "cell_type": "markdown",
   "id": "09ce6c04",
   "metadata": {},
   "source": [
    "#### Split Data into Test and Training Sets ####\n",
    "Splitting data into test and training sets is not always necessarily required for unsupervised cluster analysis.  However, we want to analyse the cluster separation (\"silhouette\") and error we get with a new data set based on a training set to determine best number of clusters to choose."
   ]
  },
  {
   "cell_type": "code",
   "execution_count": 10,
   "id": "554874fc",
   "metadata": {},
   "outputs": [
    {
     "name": "stderr",
     "output_type": "stream",
     "text": [
      "[Stage 14:=============================>                            (1 + 1) / 2]"
     ]
    },
    {
     "name": "stdout",
     "output_type": "stream",
     "text": [
      "Training Data Rows: 434243, Test Data Rows: 107666\n"
     ]
    },
    {
     "name": "stderr",
     "output_type": "stream",
     "text": [
      "                                                                                \r"
     ]
    }
   ],
   "source": [
    "# split the data 80 /20\n",
    "trainDataFrame, testDataFrame = preppedDataFrame.randomSplit([0.8, 0.2], seed = 42)\n",
    "print(\"Training Data Rows: {}, Test Data Rows: {}\".format(str(trainDataFrame.count()), str(testDataFrame.count())) )"
   ]
  },
  {
   "cell_type": "markdown",
   "id": "2ae83440",
   "metadata": {},
   "source": [
    "#### Use `StringIndexer` and `OneHotEncoder` to Encode Day-of-Week and create a Feature `VectorAssembler` ####\n",
    "Ref: https://spark.apache.org/docs/latest/ml-features"
   ]
  },
  {
   "cell_type": "code",
   "execution_count": 11,
   "id": "f23957d7",
   "metadata": {},
   "outputs": [],
   "source": [
    "from pyspark.ml.feature import StringIndexer # takes range of string labels and maps to integer values\n",
    "from pyspark.ml.feature import OneHotEncoder # One-hot-encoding for categorical features; encode as binary encoded vector-col"
   ]
  },
  {
   "cell_type": "code",
   "execution_count": 12,
   "id": "3c8ec14d",
   "metadata": {},
   "outputs": [],
   "source": [
    "indexer = StringIndexer().setInputCol(\"day_of_week\").setOutputCol(\"day_of_week_index\")\n",
    "encoder = OneHotEncoder().setInputCol(\"day_of_week_index\").setOutputCol(\"day_of_week_encoded\")"
   ]
  },
  {
   "cell_type": "markdown",
   "id": "78f14339",
   "metadata": {},
   "source": [
    "Assemble multi-value vector of features including one-hot representation for day-of-week into a vector stored in a single column.  \n",
    "For this example only three features are chosen for the model:  \n",
    "+ UnitPrice\n",
    "+ Quantity  \n",
    "+ Day_of_Week"
   ]
  },
  {
   "cell_type": "code",
   "execution_count": 13,
   "id": "c0ca484f",
   "metadata": {},
   "outputs": [],
   "source": [
    "from pyspark.ml.feature import VectorAssembler\n",
    "vectorAssembler = VectorAssembler().setInputCols([\"UnitPrice\", \"Quantity\", \"day_of_week_encoded\"]).setOutputCol(\"features\")"
   ]
  },
  {
   "cell_type": "markdown",
   "id": "eb9cb205",
   "metadata": {},
   "source": [
    "#### Create a Model Training Pipeline ####\n",
    "  \n",
    "Train a K-Means cluster model with *Day-of-Week* and *Unit Price* and *Quantity* in the feature-set\n",
    "\n",
    "First, fit the transformers to the data-set.  The `StringIndexer` needs to know how many unique values there are to index.  "
   ]
  },
  {
   "cell_type": "code",
   "execution_count": 14,
   "id": "e3ad45c8",
   "metadata": {},
   "outputs": [
    {
     "name": "stderr",
     "output_type": "stream",
     "text": [
      "                                                                                \r"
     ]
    }
   ],
   "source": [
    "from pyspark.ml import Pipeline\n",
    "transformationPipeline = Pipeline().setStages([indexer, encoder, vectorAssembler])\n",
    "fittedPipeline = transformationPipeline.fit(trainDataFrame)\n",
    "transformedTraining = fittedPipeline.transform(trainDataFrame)\n",
    "transformedTest = fittedPipeline.transform(testDataFrame)"
   ]
  },
  {
   "cell_type": "markdown",
   "id": "1f5def01",
   "metadata": {},
   "source": [
    "It would be possible to also include the model training in the pipeline above.  Instead we next *cache* the pipeline and then experiment with different hyperparameters training a model against the same pipeline."
   ]
  },
  {
   "cell_type": "code",
   "execution_count": 15,
   "id": "2fdcc9b1",
   "metadata": {},
   "outputs": [
    {
     "data": {
      "text/plain": [
       "DataFrame[InvoiceNo: string, StockCode: string, Description: string, Quantity: int, InvoiceDate: timestamp, UnitPrice: double, CustomerID: double, Country: string, day_of_week: string, day_of_week_index: double, day_of_week_encoded: vector, features: vector]"
      ]
     },
     "execution_count": 15,
     "metadata": {},
     "output_type": "execute_result"
    }
   ],
   "source": [
    "transformedTraining.cache()"
   ]
  },
  {
   "cell_type": "markdown",
   "id": "26cc1538",
   "metadata": {},
   "source": [
    "### Import KMeans from `pyspark.ml.clustering` and Fit a Model ##\n",
    "https://spark.apache.org/docs/latest/api/python/reference/api/pyspark.ml.clustering.KMeans.html#pyspark.ml.clustering.KMeans.k"
   ]
  },
  {
   "cell_type": "code",
   "execution_count": 16,
   "id": "09ad22f0",
   "metadata": {},
   "outputs": [],
   "source": [
    "# Import the Spark ML Kmeans model\n",
    "from pyspark.ml.clustering import KMeans\n",
    "\n",
    "# Evaluate clustering by computing Silhouette score\n",
    "from pyspark.ml.evaluation import ClusteringEvaluator\n",
    "evaluator = ClusteringEvaluator()\n",
    "\n",
    "# set K - the number of clusters to create\n",
    "#kmeans = KMeans().setK(8).setSeed(42)\n",
    "#kmModel = kmeans.fit(transformedTraining)"
   ]
  },
  {
   "cell_type": "markdown",
   "id": "0522d839",
   "metadata": {},
   "source": [
    "#### Look for Optimal Number of Clusters ####\n",
    "Consider **Cluster Separation** and **Standard Error** cost to evaluate different numbers of clusters to choose.  \n",
    "  \n",
    "The Standard Error measure of distance from the cluster center can be used to try to make sure there enough clusters and the Silhouette score can be used to measure how effectively individual data-points are clearly separated into a specific cluster (not too many clusters).  \n",
    "  \n",
    "This can take several minutes to run. *Skip this step and just choose K=8 clusters to avoid the analysis phase* by skipping ahead to the \"*Identify Clusters in the Test Data-Set*\" section below."
   ]
  },
  {
   "cell_type": "code",
   "execution_count": 17,
   "id": "8655e203",
   "metadata": {},
   "outputs": [
    {
     "name": "stdout",
     "output_type": "stream",
     "text": [
      "Get std-err for clusters K=2\n"
     ]
    },
    {
     "name": "stderr",
     "output_type": "stream",
     "text": [
      "                                                                                \r"
     ]
    },
    {
     "name": "stdout",
     "output_type": "stream",
     "text": [
      "Get std-err for clusters K=3\n"
     ]
    },
    {
     "name": "stderr",
     "output_type": "stream",
     "text": [
      "                                                                                \r"
     ]
    },
    {
     "name": "stdout",
     "output_type": "stream",
     "text": [
      "Get std-err for clusters K=4\n",
      "Get std-err for clusters K=5\n",
      "Get std-err for clusters K=6\n",
      "Get std-err for clusters K=7\n",
      "Get std-err for clusters K=8\n",
      "Get std-err for clusters K=9\n",
      "Get std-err for clusters K=10\n",
      "Get std-err for clusters K=11\n",
      "Get std-err for clusters K=12\n",
      "Get std-err for clusters K=13\n",
      "Get std-err for clusters K=14\n",
      "Get std-err for clusters K=15\n"
     ]
    },
    {
     "data": {
      "image/png": "[encoded data removed]",
      "text/plain": [
       "<Figure size 432x288 with 1 Axes>"
      ]
     },
     "metadata": {
      "needs_background": "light"
     },
     "output_type": "display_data"
    }
   ],
   "source": [
    "# Look for optimal K number of clusters from 2 to 15\n",
    "costs = []\n",
    "# range 2 to 15 _inclusive_\n",
    "for K in range(2,16):\n",
    "    print(\"Get std-err for clusters K={}\".format(K))\n",
    "    kmModel = KMeans().setK(K).setSeed(42).fit(transformedTraining)    \n",
    "    costs.append(kmModel.computeCost(transformedTraining))    \n",
    "\n",
    "# Plot the results\n",
    "import matplotlib.pyplot as plt\n",
    "plt.plot(range(2,16), costs)\n",
    "plt.xlabel(\"number of clusters (\\\"K\\\")\")\n",
    "plt.ylabel(\"Std Error\")\n",
    "plt.title(\"Optimise Distance from Cluster-Centers to a Minimum\")\n",
    "plt.grid(True)"
   ]
  },
  {
   "cell_type": "markdown",
   "id": "3c65be99",
   "metadata": {},
   "source": [
    "To avoid an issue with calculating the Silhoutte score for small numbers of cluster - \"*assertion failed: Number of clusters must be greater than one*\", start the range of clusters to test at 4."
   ]
  },
  {
   "cell_type": "code",
   "execution_count": 18,
   "id": "46c41a2f",
   "metadata": {},
   "outputs": [
    {
     "name": "stdout",
     "output_type": "stream",
     "text": [
      "Get silhouette cluster-fit for clusters K=4\n"
     ]
    },
    {
     "name": "stderr",
     "output_type": "stream",
     "text": [
      "                                                                                \r"
     ]
    },
    {
     "name": "stdout",
     "output_type": "stream",
     "text": [
      "Get silhouette cluster-fit for clusters K=5\n"
     ]
    },
    {
     "name": "stderr",
     "output_type": "stream",
     "text": [
      "                                                                                \r"
     ]
    },
    {
     "name": "stdout",
     "output_type": "stream",
     "text": [
      "Get silhouette cluster-fit for clusters K=6\n"
     ]
    },
    {
     "name": "stderr",
     "output_type": "stream",
     "text": [
      "                                                                                \r"
     ]
    },
    {
     "name": "stdout",
     "output_type": "stream",
     "text": [
      "Get silhouette cluster-fit for clusters K=7\n"
     ]
    },
    {
     "name": "stderr",
     "output_type": "stream",
     "text": [
      "                                                                                \r"
     ]
    },
    {
     "name": "stdout",
     "output_type": "stream",
     "text": [
      "Get silhouette cluster-fit for clusters K=8\n"
     ]
    },
    {
     "name": "stderr",
     "output_type": "stream",
     "text": [
      "                                                                                \r"
     ]
    },
    {
     "name": "stdout",
     "output_type": "stream",
     "text": [
      "Get silhouette cluster-fit for clusters K=9\n"
     ]
    },
    {
     "name": "stderr",
     "output_type": "stream",
     "text": [
      "                                                                                \r"
     ]
    },
    {
     "name": "stdout",
     "output_type": "stream",
     "text": [
      "Get silhouette cluster-fit for clusters K=10\n"
     ]
    },
    {
     "name": "stderr",
     "output_type": "stream",
     "text": [
      "                                                                                \r"
     ]
    },
    {
     "name": "stdout",
     "output_type": "stream",
     "text": [
      "Get silhouette cluster-fit for clusters K=11\n"
     ]
    },
    {
     "name": "stderr",
     "output_type": "stream",
     "text": [
      "                                                                                \r"
     ]
    },
    {
     "name": "stdout",
     "output_type": "stream",
     "text": [
      "Get silhouette cluster-fit for clusters K=12\n"
     ]
    },
    {
     "name": "stderr",
     "output_type": "stream",
     "text": [
      "                                                                                \r"
     ]
    },
    {
     "name": "stdout",
     "output_type": "stream",
     "text": [
      "Get silhouette cluster-fit for clusters K=13\n"
     ]
    },
    {
     "name": "stderr",
     "output_type": "stream",
     "text": [
      "                                                                                \r"
     ]
    },
    {
     "name": "stdout",
     "output_type": "stream",
     "text": [
      "Get silhouette cluster-fit for clusters K=14\n"
     ]
    },
    {
     "name": "stderr",
     "output_type": "stream",
     "text": [
      "                                                                                \r"
     ]
    },
    {
     "name": "stdout",
     "output_type": "stream",
     "text": [
      "Get silhouette cluster-fit for clusters K=15\n"
     ]
    },
    {
     "name": "stderr",
     "output_type": "stream",
     "text": [
      "                                                                                \r"
     ]
    },
    {
     "data": {
      "image/png": "[encoded data removed]",
      "text/plain": [
       "<Figure size 432x288 with 1 Axes>"
      ]
     },
     "metadata": {
      "needs_background": "light"
     },
     "output_type": "display_data"
    }
   ],
   "source": [
    "# Look for optimal K number of clusters from \n",
    "silhouettes = [1,1] # pad the array as can't run this for 2,3 clusters due to \"Number of clusters must be greater than one\" error\n",
    "for K in range(4,16):\n",
    "    print(\"Get silhouette cluster-fit for clusters K={}\".format(K))\n",
    "    kmModel = KMeans().setK(K).setSeed(42).fit(transformedTraining)    \n",
    "    # predict clusters with test data-set and determine level of separatation between clusters (1 is optimal)\n",
    "    predictions = kmModel.transform(transformedTest)\n",
    "    silhouette = evaluator.evaluate(predictions)\n",
    "    #print(\"Silhouette with squared euclidean distance = \" + str(silhouette))\n",
    "    silhouettes.append(silhouette)   \n",
    "    \n",
    "# Plot the results\n",
    "import matplotlib.pyplot as plt\n",
    "plt.plot(range(2,16), silhouettes)\n",
    "plt.xlabel(\"number of clusters (\\\"K\\\")\")\n",
    "plt.ylabel(\"Silhouette Score\")\n",
    "plt.title(\"Optimise Silhouette Clustering Score to 1\")\n",
    "plt.grid(True)"
   ]
  },
  {
   "cell_type": "markdown",
   "id": "a00bb541",
   "metadata": {},
   "source": [
    "Based on the above outcomes for Std-Err and Silhouette score, a value of between 8 and 11 clusters would be appropriate.  For the rest of this notebook, choose **8 clusters** for maximum cluster separation and lower std error (overall distance from cluster center)."
   ]
  },
  {
   "cell_type": "markdown",
   "id": "c08d025f",
   "metadata": {},
   "source": [
    "#### Identify Clusters in the Test data-set ####\n",
    "Working with the test data-set, generate preditions from the model"
   ]
  },
  {
   "cell_type": "code",
   "execution_count": 19,
   "id": "4afba264",
   "metadata": {},
   "outputs": [
    {
     "name": "stderr",
     "output_type": "stream",
     "text": [
      "                                                                                \r"
     ]
    }
   ],
   "source": [
    "kmModel = KMeans().setK(8).setSeed(42).fit(transformedTraining)    \n",
    "predictions = kmModel.transform(transformedTest)"
   ]
  },
  {
   "cell_type": "code",
   "execution_count": 20,
   "id": "484dbe14",
   "metadata": {},
   "outputs": [
    {
     "name": "stderr",
     "output_type": "stream",
     "text": [
      "[Stage 798:============================>                            (1 + 1) / 2]"
     ]
    },
    {
     "name": "stdout",
     "output_type": "stream",
     "text": [
      "Silhouette with squared euclidean distance = 0.9997311944922104\n"
     ]
    },
    {
     "name": "stderr",
     "output_type": "stream",
     "text": [
      "                                                                                \r"
     ]
    }
   ],
   "source": [
    "# Evaluate clustering by computing Silhouette score\n",
    "evaluator = ClusteringEvaluator()\n",
    "silhouette = evaluator.evaluate(predictions)\n",
    "print(\"Silhouette with squared euclidean distance = \" + str(silhouette))"
   ]
  },
  {
   "cell_type": "markdown",
   "id": "76e4f049",
   "metadata": {},
   "source": [
    "## Analysis of Test Data using the Cluster Model ##\n",
    "\n",
    "Analysis of the test data, making comparisons of data that is classified in different clusters by the trained model.\n",
    "  \n",
    "The predicted cluster-ID is provided in the `prediction` column.\n"
   ]
  },
  {
   "cell_type": "code",
   "execution_count": 21,
   "id": "a1dabb46",
   "metadata": {},
   "outputs": [
    {
     "name": "stderr",
     "output_type": "stream",
     "text": [
      "[Stage 800:>                                                        (0 + 1) / 1]"
     ]
    },
    {
     "name": "stdout",
     "output_type": "stream",
     "text": [
      "+--------------------+--------------+-----------+---------+--------+----------+\n",
      "|         Description|       Country|day_of_week|UnitPrice|Quantity|prediction|\n",
      "+--------------------+--------------+-----------+---------+--------+----------+\n",
      "|SET 7 BABUSHKA NE...|United Kingdom|  Wednesday|     7.65|       2|         0|\n",
      "| WHITE METAL LANTERN|United Kingdom|  Wednesday|     3.39|       6|         0|\n",
      "|RED WOOLLY HOTTIE...|United Kingdom|  Wednesday|     3.39|       6|         0|\n",
      "|BOX OF VINTAGE AL...|United Kingdom|  Wednesday|     9.95|       2|         0|\n",
      "|POPPY'S PLAYHOUSE...|United Kingdom|  Wednesday|      2.1|       6|         0|\n",
      "|MINI JIGSAW CIRCU...|        France|  Wednesday|     0.42|      24|         0|\n",
      "|VINTAGE BILLBOARD...|United Kingdom|  Wednesday|     1.06|       6|         0|\n",
      "|VINTAGE BILLBOARD...|United Kingdom|  Wednesday|     1.06|       6|         0|\n",
      "| SAVE THE PLANET MUG|United Kingdom|  Wednesday|     1.06|       6|         0|\n",
      "|WOOD S/3 CABINET ...|United Kingdom|  Wednesday|     6.95|       4|         0|\n",
      "+--------------------+--------------+-----------+---------+--------+----------+\n",
      "only showing top 10 rows\n",
      "\n"
     ]
    },
    {
     "name": "stderr",
     "output_type": "stream",
     "text": [
      "                                                                                \r"
     ]
    }
   ],
   "source": [
    "predictions.select(\"Description\", \"Country\", \"day_of_week\", \"UnitPrice\", \"Quantity\", \"prediction\").show(10)"
   ]
  },
  {
   "cell_type": "markdown",
   "id": "333213be",
   "metadata": {},
   "source": [
    "Other class-labels not used in the feature-set\n",
    "1. StockCode (same as Description?)  \n",
    "2. CustomerID  \n",
    "3. Country  \n"
   ]
  },
  {
   "cell_type": "markdown",
   "id": "a849f375",
   "metadata": {},
   "source": [
    "#### Check: How many distinct clusters do the Countries belong to? ####"
   ]
  },
  {
   "cell_type": "code",
   "execution_count": 22,
   "id": "29d84ff9",
   "metadata": {},
   "outputs": [
    {
     "name": "stderr",
     "output_type": "stream",
     "text": [
      "[Stage 801:============================>                            (1 + 1) / 2]"
     ]
    },
    {
     "name": "stdout",
     "output_type": "stream",
     "text": [
      "+----------+--------------------+----------+\n",
      "|prediction|Country             |n_clusters|\n",
      "+----------+--------------------+----------+\n",
      "|0         |Australia           |1         |\n",
      "|0         |Austria             |1         |\n",
      "|0         |Bahrain             |1         |\n",
      "|0         |Belgium             |1         |\n",
      "|0         |Brazil              |1         |\n",
      "|0         |Canada              |1         |\n",
      "|0         |Channel Islands     |1         |\n",
      "|0         |Cyprus              |1         |\n",
      "|0         |Czech Republic      |1         |\n",
      "|0         |Denmark             |1         |\n",
      "|0         |EIRE                |1         |\n",
      "|0         |European Community  |1         |\n",
      "|0         |Finland             |1         |\n",
      "|0         |France              |1         |\n",
      "|0         |Germany             |1         |\n",
      "|0         |Greece              |1         |\n",
      "|0         |Hong Kong           |1         |\n",
      "|0         |Iceland             |1         |\n",
      "|0         |Israel              |1         |\n",
      "|0         |Italy               |1         |\n",
      "|0         |Japan               |1         |\n",
      "|0         |Lebanon             |1         |\n",
      "|0         |Lithuania           |1         |\n",
      "|0         |Malta               |1         |\n",
      "|0         |Netherlands         |1         |\n",
      "|0         |Norway              |1         |\n",
      "|0         |Poland              |1         |\n",
      "|0         |Portugal            |1         |\n",
      "|0         |RSA                 |1         |\n",
      "|0         |Saudi Arabia        |1         |\n",
      "|0         |Singapore           |1         |\n",
      "|7         |Singapore           |1         |\n",
      "|0         |Spain               |1         |\n",
      "|0         |Sweden              |1         |\n",
      "|0         |Switzerland         |1         |\n",
      "|0         |USA                 |1         |\n",
      "|0         |United Arab Emirates|1         |\n",
      "|0         |United Kingdom      |1         |\n",
      "|3         |United Kingdom      |1         |\n",
      "|6         |United Kingdom      |1         |\n",
      "|7         |United Kingdom      |1         |\n",
      "|0         |Unspecified         |1         |\n",
      "+----------+--------------------+----------+\n",
      "\n"
     ]
    },
    {
     "name": "stderr",
     "output_type": "stream",
     "text": [
      "                                                                                \r"
     ]
    }
   ],
   "source": [
    "#Pandas version\n",
    "#pandas_df = predictions.select(\"StockCode\",\"CustomerID\", \"Country\", \"prediction\").toPandas()\n",
    "#pandas_df.groupby('Country')['prediction'].nunique()\n",
    "\n",
    "#Spark Version\n",
    "import pyspark.sql.functions as f\n",
    "#predictions.groupby('Country').agg(f.expr('count(distinct prediction)').alias('n_clusters')).show(100,False)\n",
    "predictions.groupby('prediction', 'Country').agg(f.expr('count(distinct prediction)').alias('n_clusters')).sort(\"Country\", \"prediction\").show(100,False)"
   ]
  },
  {
   "cell_type": "markdown",
   "id": "c616591c",
   "metadata": {},
   "source": [
    "-> All the countries except the UK are only in one or two clusters.  If the data-set wasn't so heavily skewed to UK data, this might be interesting.\n",
    "  \n",
    "**Conclusion** - the results of this analysis are skewed by the fact most of the data is related to the UK anyway."
   ]
  },
  {
   "cell_type": "markdown",
   "id": "279ed29c",
   "metadata": {},
   "source": [
    "#### Check: How many items in each cluster? ####"
   ]
  },
  {
   "cell_type": "code",
   "execution_count": 23,
   "id": "29da8831",
   "metadata": {},
   "outputs": [
    {
     "name": "stderr",
     "output_type": "stream",
     "text": [
      "                                                                                \r"
     ]
    },
    {
     "name": "stdout",
     "output_type": "stream",
     "text": [
      "+----------+------+\n",
      "|prediction| count|\n",
      "+----------+------+\n",
      "|         6|     5|\n",
      "|         3|     1|\n",
      "|         7|     4|\n",
      "|         0|107656|\n",
      "+----------+------+\n",
      "\n"
     ]
    }
   ],
   "source": [
    "#### how many items per cluster? ####\n",
    "predictions.groupby('prediction').count().show()"
   ]
  },
  {
   "cell_type": "markdown",
   "id": "665f4da4",
   "metadata": {},
   "source": [
    "-> Most of the data is in Cluster 0.  \n",
    "\n",
    "**Conclusion** - any items not in *Cluster 0* are outliers in terms of the Price, Quantity and Day-of-Week features."
   ]
  },
  {
   "cell_type": "markdown",
   "id": "c58559a3",
   "metadata": {},
   "source": [
    "#### Programatically get the cluster-IDs for outliers ####"
   ]
  },
  {
   "cell_type": "code",
   "execution_count": null,
   "id": "5e9e16f4",
   "metadata": {},
   "outputs": [],
   "source": [
    "# programaticaly Get the cluster-ids where count is less than 50, look at those items\n",
    "# To filter on the count, need to rename the count column: https://stackoverflow.com/questions/32119936/dataframe-how-to-groupby-count-then-filter-on-count-in-scala\n",
    "outliers = predictions.groupBy('prediction').count()\\\n",
    "   .withColumnRenamed(\"count\", \"n\")\\\n",
    "   .filter(\"n <= 50\")\\\n",
    "   .sort(\"n\").select(\"prediction\")\n",
    "\n",
    "outliers_list = outliers.select(\"prediction\").rdd.flatMap(lambda x: x).collect()\n",
    "print(\"Outliers\", outliers_list)\n",
    "#for cluster in outliers_list:\n",
    "#    predictions.where(\"prediction = $cluster\")"
   ]
  },
  {
   "cell_type": "code",
   "execution_count": null,
   "id": "d713eda9",
   "metadata": {},
   "outputs": [],
   "source": [
    "#retailOutliers = predictions.isin(outliers_list)\n",
    "retailOutliers = predictions.filter(col(\"prediction\").isin(outliers_list))"
   ]
  },
  {
   "cell_type": "markdown",
   "id": "89702c2f",
   "metadata": {},
   "source": [
    "#### Visual Inspection of the Outliers Data ####"
   ]
  },
  {
   "cell_type": "code",
   "execution_count": null,
   "id": "1498f41f",
   "metadata": {},
   "outputs": [],
   "source": [
    "retailOutliers.select(\"InvoiceNo\", \"Country\", \"StockCode\", \"Description\", \"Quantity\", \"UnitPrice\", \"day_of_week\", \"prediction\").show()"
   ]
  },
  {
   "cell_type": "markdown",
   "id": "301a9660",
   "metadata": {},
   "source": [
    "**Check** Why is the StockCode=M in Singapore an Outlier?  \n",
    "View all the original test data and see if there are other StockCode = \"M\" records."
   ]
  },
  {
   "cell_type": "code",
   "execution_count": null,
   "id": "3fb7d5c3",
   "metadata": {},
   "outputs": [],
   "source": [
    "# examine data-points in the test data set where Stock Code = \"M\"\n",
    "transformedTest.filter((col(\"StockCode\") == 'M') & (col(\"Country\") == 'Singapore')).show()"
   ]
  },
  {
   "cell_type": "markdown",
   "id": "192b7458",
   "metadata": {},
   "source": [
    "-> There are two other Manual transactions in Singapore, but these are for smaller amounts."
   ]
  },
  {
   "cell_type": "markdown",
   "id": "ec93aab5",
   "metadata": {},
   "source": [
    "**Check** do we have negative quantities with Unit Price = Zero in the test data set in cluster Zero (non outliers)?"
   ]
  },
  {
   "cell_type": "code",
   "execution_count": null,
   "id": "a07b93ed",
   "metadata": {},
   "outputs": [],
   "source": [
    "transformedTest.filter((col(\"UnitPrice\") == 0) & (col(\"Quantity\") < 0)).show()"
   ]
  },
  {
   "cell_type": "markdown",
   "id": "310ac0ec",
   "metadata": {},
   "source": [
    "-> Other refunds exist, but for smaller amounts"
   ]
  },
  {
   "cell_type": "markdown",
   "id": "7ed4a54d",
   "metadata": {},
   "source": [
    "**Conclusion** The KMeans cluster is identifying unusual transactions, these tend to be refunds or unusually high Unit Price values."
   ]
  },
  {
   "cell_type": "code",
   "execution_count": null,
   "id": "663df61c",
   "metadata": {},
   "outputs": [],
   "source": [
    "spark.stop()"
   ]
  },
  {
   "cell_type": "code",
   "execution_count": null,
   "id": "b595291f",
   "metadata": {},
   "outputs": [],
   "source": []
  },
  {
   "cell_type": "code",
   "execution_count": null,
   "id": "27abd260",
   "metadata": {},
   "outputs": [],
   "source": []
  }
 ],
 "metadata": {
  "kernelspec": {
   "display_name": "Python 3 (ipykernel)",
   "language": "python",
   "name": "python3"
  },
  "language_info": {
   "codemirror_mode": {
    "name": "ipython",
    "version": 3
   },
   "file_extension": ".py",
   "mimetype": "text/x-python",
   "name": "python",
   "nbconvert_exporter": "python",
   "pygments_lexer": "ipython3",
   "version": "3.7.9"
  }
 },
 "nbformat": 4,
 "nbformat_minor": 5
}
